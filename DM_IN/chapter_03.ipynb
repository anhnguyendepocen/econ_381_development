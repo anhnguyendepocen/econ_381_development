{
 "cells": [
  {
   "cell_type": "markdown",
   "metadata": {},
   "source": [
    "# Chapter 03 Exercises\n",
    "\n",
    "## Name goes here\n",
    "\n",
    "### Date"
   ]
  },
  {
   "cell_type": "code",
   "execution_count": 5,
   "metadata": {},
   "outputs": [],
   "source": [
    "# Libraries you will need for this assignment. The code below will import them for your use. Please not the code for future work.\n",
    "%matplotlib inline\n",
    "import numpy as np\n",
    "import pandas as pd\n",
    "import matplotlib.pyplot as plt"
   ]
  },
  {
   "cell_type": "markdown",
   "metadata": {},
   "source": [
    "## Q1) Growth and Development\n",
    "In 2014, Ethiopia had a per capita income of \\$1500, about \\$4 per day. Compute per capita income in Ethiopia for the year 2050 assuming the different average annual growth rates below. \n",
    "\n",
    "*Hint:use the constant growth rate formula (3.7) on page 50 on your textbook to solve **(a)**. Then copy the formula for the next parts of thi question, changing only the growth rate variable.*  \n",
    "\n",
    "**(a)** 1% per year\n",
    "\n"
   ]
  },
  {
   "cell_type": "code",
   "execution_count": null,
   "metadata": {},
   "outputs": [],
   "source": []
  },
  {
   "cell_type": "markdown",
   "metadata": {},
   "source": [
    "**(b)** 2% per year"
   ]
  },
  {
   "cell_type": "code",
   "execution_count": null,
   "metadata": {},
   "outputs": [],
   "source": []
  },
  {
   "cell_type": "markdown",
   "metadata": {},
   "source": [
    "**(c)** 4% per year."
   ]
  },
  {
   "cell_type": "code",
   "execution_count": null,
   "metadata": {},
   "outputs": [],
   "source": []
  },
  {
   "cell_type": "markdown",
   "metadata": {},
   "source": [
    "**(d)** 6% per year."
   ]
  },
  {
   "cell_type": "code",
   "execution_count": null,
   "metadata": {},
   "outputs": [],
   "source": []
  },
  {
   "cell_type": "markdown",
   "metadata": {},
   "source": [
    "## Q2) Population Growth\n",
    "\n",
    "Suppose the world population today is 7 bllion, and suppose this population grows at a constant rate of 3% per year fron now on. This rate is almost certainly much faster than the future population growth ratek the high rate used here is useful for pedagogy. \n",
    "\n",
    "**(a)** What would the population equal 100 years from now?"
   ]
  },
  {
   "cell_type": "code",
   "execution_count": null,
   "metadata": {},
   "outputs": [],
   "source": []
  },
  {
   "cell_type": "markdown",
   "metadata": {},
   "source": [
    "**(b)** Compute the level of the population for $t=0$, $t=1$, $t=2$, $t=10$, $t=25$, $t=50$ \n",
    "\n",
    "*Hint: You can use array operations to compute all these values simultaneously.*"
   ]
  },
  {
   "cell_type": "code",
   "execution_count": null,
   "metadata": {},
   "outputs": [],
   "source": []
  },
  {
   "cell_type": "markdown",
   "metadata": {},
   "source": [
    "**(c)** Make a time series plot of population versus time on a standard scale."
   ]
  },
  {
   "cell_type": "code",
   "execution_count": null,
   "metadata": {},
   "outputs": [],
   "source": []
  },
  {
   "cell_type": "markdown",
   "metadata": {},
   "source": [
    "**(d)** Make a time series plot of population versus time on a ratio scale."
   ]
  },
  {
   "cell_type": "code",
   "execution_count": null,
   "metadata": {},
   "outputs": [],
   "source": []
  },
  {
   "cell_type": "markdown",
   "metadata": {},
   "source": [
    "## Q3) Computing levels: \n",
    "\n",
    "Suppose $x_t$ grows at 2% per year and $y_t$ grows at 5% per year with $x_o = 2$ and $y_o = 1$. Calculate the numerical values of $z = x^{3/4}y^{1/4}$ for $t = 0, \\ t = 2,  \\ t = 10, \\ t = 17$, and $t = 35$.\n",
    "\n",
    "\n"
   ]
  },
  {
   "cell_type": "code",
   "execution_count": null,
   "metadata": {},
   "outputs": [],
   "source": []
  },
  {
   "cell_type": "markdown",
   "metadata": {},
   "source": [
    "## Q4) Growh rates of per capita GDP:\n",
    "\n",
    "**(a)** Compute the average annual growth rate of per capita GDP for each of the countries listed in the Pandas DataFrame below. The levels of GDP per capital are provided for 1980 and 2014, measured in constant 2011 dollars. \n",
    "\n",
    "*Hint: The comments in the input field below will guide you through this exercise.*\n"
   ]
  },
  {
   "cell_type": "code",
   "execution_count": null,
   "metadata": {},
   "outputs": [],
   "source": [
    "#Guide them through how to use equation (3.9) and put it into a formula to then apply to each country.\n",
    "\n"
   ]
  },
  {
   "cell_type": "markdown",
   "metadata": {},
   "source": [
    "**(b)** In part **(a)** you found the average growth rates for various countries. Do you think that there are some growth rates that are more common than others? Create a histogram and find out!"
   ]
  },
  {
   "cell_type": "code",
   "execution_count": 2,
   "metadata": {},
   "outputs": [],
   "source": [
    "\n"
   ]
  },
  {
   "cell_type": "markdown",
   "metadata": {},
   "source": [
    "## Q5) Practice Charting in Python\n",
    "\n",
    "a) The code below will walk you through importing data on Amazon's (AMZN) stock price over time. Create a time series plot of the stock price with time on the x-axis and price on the y-axis. Don't forget to make the graph look good by including a proper lables and some color to the data being plotted."
   ]
  },
  {
   "cell_type": "code",
   "execution_count": null,
   "metadata": {},
   "outputs": [],
   "source": [
    "# Step 1: Import the data from Git Hub\n",
    "amzn = pd.read_csv('https://raw.githubusercontent.com/dylanjm/econ_381_development/master/data/AMZN.csv')\n",
    "\n",
    "# Step 2: Create x and y axis variables for plotting.\n",
    "date = amzn[\"Date\"]\n",
    "price = amzn[\"Close\"]\n",
    "\n",
    "#Note: each variable is an array. You can use any of the array tools you learned in DataCamp.\n",
    "\n",
    "# Step 3: Insert your code below to make the time series plot using Python's Matplotlib.\n",
    "\n",
    "\n",
    "\n",
    "\n"
   ]
  },
  {
   "cell_type": "markdown",
   "metadata": {},
   "source": [
    "b) The constant growth rate formula we have used throughout this assignment has many uses and different names. This same formula is used in Finance to calculate average returns for a miriad of assets. Let's use it to compute an average percent return for Amazon's stock prices during the time period we have data. You will use exactly the same formula from Q4 part (a), taking the first observation in \"price\" as $y_0$ and the last observation as $y_t$. Make sure that you calculate $t$ in years.\n"
   ]
  },
  {
   "cell_type": "code",
   "execution_count": null,
   "metadata": {},
   "outputs": [],
   "source": [
    "# Step 1"
   ]
  }
 ],
 "metadata": {
  "kernelspec": {
   "display_name": "Python 3",
   "language": "python",
   "name": "python3"
  },
  "language_info": {
   "codemirror_mode": {
    "name": "ipython",
    "version": 3
   },
   "file_extension": ".py",
   "mimetype": "text/x-python",
   "name": "python",
   "nbconvert_exporter": "python",
   "pygments_lexer": "ipython3",
   "version": "3.6.5"
  }
 },
 "nbformat": 4,
 "nbformat_minor": 2
}
