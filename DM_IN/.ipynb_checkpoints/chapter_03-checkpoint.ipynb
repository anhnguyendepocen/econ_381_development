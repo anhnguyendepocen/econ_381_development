{
 "cells": [
  {
   "cell_type": "markdown",
   "metadata": {},
   "source": [
    "# Chapter 03 Exercises\n",
    "\n",
    "## Name goes here\n",
    "\n",
    "### Date"
   ]
  },
  {
   "cell_type": "code",
   "execution_count": null,
   "metadata": {},
   "outputs": [],
   "source": [
    "# Libraries you will need for this assignment. The code below will import them for your use. Please run in before continuing.\n",
    "%matplotlib inline\n",
    "import numpy as np\n",
    "import pandas as pd\n",
    "import matplotlib.pyplot as plt"
   ]
  },
  {
   "cell_type": "markdown",
   "metadata": {},
   "source": [
    "## Q1) Growth and Development\n",
    "In 2014, Ethiopia had a per capita income of \\$1500, about \\$4 per day. Compute per capita income in Ethiopia for the year 2050, assuming the average annual growth rates below.\n",
    "\n",
    "*Hint:use the constant growth rate formula (3.7) on page 50 on your textbook to solve **(a)**. Then copy the formula for the next parts of this question, changing only the growth rate variable.*  \n",
    "\n",
    "**(a)** 1% per year\n",
    "\n"
   ]
  },
  {
   "cell_type": "code",
   "execution_count": null,
   "metadata": {},
   "outputs": [],
   "source": []
  },
  {
   "cell_type": "markdown",
   "metadata": {},
   "source": [
    "**(b)** 2% per year"
   ]
  },
  {
   "cell_type": "code",
   "execution_count": null,
   "metadata": {},
   "outputs": [],
   "source": []
  },
  {
   "cell_type": "markdown",
   "metadata": {},
   "source": [
    "**(c)** 4% per year."
   ]
  },
  {
   "cell_type": "code",
   "execution_count": null,
   "metadata": {},
   "outputs": [],
   "source": []
  },
  {
   "cell_type": "markdown",
   "metadata": {},
   "source": [
    "**(d)** 6% per year."
   ]
  },
  {
   "cell_type": "code",
   "execution_count": null,
   "metadata": {},
   "outputs": [],
   "source": []
  },
  {
   "cell_type": "markdown",
   "metadata": {},
   "source": [
    "## Q2) Population Growth\n",
    "\n",
    "Suppose the world population today is 7 bllion, and suppose this population grows at a constant rate of 3% per year from now on. \n",
    "\n",
    "**(a)** What would the world's population in 100 years from now?"
   ]
  },
  {
   "cell_type": "code",
   "execution_count": null,
   "metadata": {},
   "outputs": [],
   "source": []
  },
  {
   "cell_type": "markdown",
   "metadata": {},
   "source": [
    "**(b)** Compute the level of the population for $t=0$, $t=1$, $t=2$, $t=10$, $t=25$, $t=50$ \n",
    "\n",
    "*Hint: You can use array operations to compute all these values simultaneously.*"
   ]
  },
  {
   "cell_type": "code",
   "execution_count": null,
   "metadata": {},
   "outputs": [],
   "source": []
  },
  {
   "cell_type": "markdown",
   "metadata": {},
   "source": [
    "**(c)** Make a time series plot of population versus time on a standard scale."
   ]
  },
  {
   "cell_type": "code",
   "execution_count": null,
   "metadata": {},
   "outputs": [],
   "source": []
  },
  {
   "cell_type": "markdown",
   "metadata": {},
   "source": [
    "**(d)** Make a time series plot of population versus time on a ratio scale."
   ]
  },
  {
   "cell_type": "code",
   "execution_count": null,
   "metadata": {},
   "outputs": [],
   "source": []
  },
  {
   "cell_type": "markdown",
   "metadata": {},
   "source": [
    "## Q3) Computing levels: \n",
    "\n",
    "Suppose $x_t$ grows at 2% per year and $y_t$ grows at 5% per year with $x_o = 2$ and $y_o = 1$. Calculate the numerical values of $z = x^{3/4}y^{1/4}$ for $t = 0, \\ t = 2,  \\ t = 10, \\ t = 17$, and $t = 35$.\n",
    "\n",
    "*Hint: Look at section 3.5 of your textbook.*\n",
    "\n",
    "\n"
   ]
  },
  {
   "cell_type": "code",
   "execution_count": null,
   "metadata": {},
   "outputs": [],
   "source": []
  },
  {
   "cell_type": "markdown",
   "metadata": {},
   "source": [
    "## Q4) Growh rates of per capita GDP:\n",
    "\n",
    "**(a)** Compute the average annual growth rate of per capita GDP for each of the countries listed below. The levels of GDP per capital are provided for 1980 and 2014, measured in constant 2011 dollars. \n",
    "\n",
    "*Hint: We will use formula (3.9) on page 54 of your textbook. The comments in the input field below will guide you through this exercise.*\n"
   ]
  },
  {
   "cell_type": "code",
   "execution_count": null,
   "metadata": {
    "scrolled": false
   },
   "outputs": [],
   "source": [
    "# The following are lists containing the information described above.\n",
    "\n",
    "names=['United States','Canada','France','United Kingdom','Italy','Germany','Japan','Ireland','Mexico','Brazil','Indonesia','Kenya','China','India','Ethiopia']\n",
    "GDP_1980=[29288, 24716, 22557, 20044, 19912, 19617, 19147, 12845, 11954, 5297, 2249, 2049, 1578, 1196, 690]\n",
    "GDP_2014=[51958, 43376, 37360, 38083, 34876, 45320, 35574, 52186, 15521, 17459, 9797, 2971, 12514, 5451, 1505]\n",
    "\n",
    "\n",
    "#Step 1: Turn these pre-defined lists into a dictionary called \"gdp_dictionary\"\n",
    "\n",
    "#Solution:\n",
    "gdp_dictionary={\n",
    "    'country':names,\n",
    "    'GDP_1980':GDP_1980,\n",
    "    'GDP_2014':GDP_2014\n",
    "}\n",
    "\n",
    "\n",
    "#Step2: Convert your GDP dictionary into a DataFrame called \"gdp_df\"\n",
    "\n",
    "#Solution:\n",
    "gdp_df=pd.DataFrame(gdp_dictionary)\n",
    "\n",
    "# Use a custom function to calculate the average growth rate of GDP between 1980 and 2014 for all the countries at the same time.\n",
    "# Append you calculated field as another column on the \"gdp_df\" dataframe.\n",
    "\n",
    "    # Explanation: The next two lines define a custom function for the Data Frame that will calculate average gdp growth for the\n",
    "    # time period previously mentioned. The first line names the function, the second line defines the function as found in \n",
    "    # equation (3.9). The word \"row\" defines the function to operate horizontally on our DataFrame, across rows. You could \n",
    "    # change it to \"col\" to perform the operation over the DataFrame's columns in a future application if that is what you\n",
    "    # need to do. The last line appends the output to the existing DataFrame.\n",
    "\n",
    "def avg_growth(row):  \n",
    "    return (row['GDP_2014']/row['GDP_1980'])**(1/34)-1\n",
    "\n",
    "gdp_df['avg_growth']=gdp_df.apply(avg_growth,axis=1)\n",
    "\n",
    "\n",
    "#Step 3: Always print your output\n",
    "\n",
    "print(gdp_df)\n",
    "\n"
   ]
  },
  {
   "cell_type": "markdown",
   "metadata": {},
   "source": [
    "**(b)** In part **(a)** you found the average growth rates for various countries. Do you think that there are some growth rates that are more common than others? Create a histogram and find out!"
   ]
  },
  {
   "cell_type": "code",
   "execution_count": null,
   "metadata": {},
   "outputs": [],
   "source": [
    "# Hint: you can directly plot a histogram from the DataFrame if you don't want a lot of customization (google it!). \n",
    "#Otherwise you can use \"matplotlib.pyplot.hist\"\n",
    "\n",
    "#Solution:\n",
    "\n",
    "hist=gdp_df.hist(column='avg_growth')"
   ]
  },
  {
   "cell_type": "markdown",
   "metadata": {},
   "source": [
    "## Q5) Practice Charting in Python\n",
    "\n",
    "a) The code below will walk you through importing data on Amazon's (AMZN) stock price over time. Create a time series plot of the stock price with time on the x-axis and price on the y-axis. Don't forget to make the graph look professional by including a proper lables, title, and some color to the data being plotted.\n",
    "\n",
    "*Hint: If you need a reminder on how to use Matplotlib, please see the DataCamp course \"Intermediate Python for Data Science\" section 1, or the Python Guide on Matplotlib on I-learn.*"
   ]
  },
  {
   "cell_type": "code",
   "execution_count": null,
   "metadata": {},
   "outputs": [],
   "source": [
    "# Step 1: Import the data from Git Hub \n",
    "\n",
    "amzn = pd.read_csv('https://raw.githubusercontent.com/dylanjm/econ_381_development/master/data/AMZN.csv')\n",
    "\n",
    "# Step 2: Create x and y axis variables for plotting.\n",
    "\n",
    "date = amzn[\"Date\"]\n",
    "price = amzn[\"Close\"]\n",
    "\n",
    "#Note: each variable is an array. You can use any of the array tools you learned in DataCamp.\n",
    "\n",
    "# Step 3: Insert your code below to make the time series plot using Python's Matplotlib.\n",
    "\n",
    "\n",
    "\n",
    "\n",
    "\n"
   ]
  },
  {
   "cell_type": "markdown",
   "metadata": {},
   "source": [
    "b) The constant growth rate formula we have used throughout this assignment has many uses and different names. This same formula is used in Finance to calculate average returns for a miriad of assets. Let's use it to compute an average percent return for Amazon's stock prices during the time period we have data. You will use exactly the same formula from Q4 part (a), taking the first observation in \"price\" as $y_0$ and the last observation as $y_t$. Make sure that you calculate $t$ in years.\n"
   ]
  },
  {
   "cell_type": "code",
   "execution_count": null,
   "metadata": {},
   "outputs": [],
   "source": [
    "# Step 1: locate the first and last observations of the \"price\" array, store them as numpy array variables \"y_\"0 and \"y_t\"\n",
    "\n",
    "#Solution:\n",
    "p=np.array(price)\n",
    "y_0=p[0]\n",
    "y_t=p[-1]\n",
    "\n",
    "#Step 2: calculate how many years have passed between the first and last observations in the \"date\" array corresponding \n",
    "#to our price observations. \n",
    "\n",
    "#Possible Solution: Use the datetime64 data type.\n",
    "\n",
    "#Explanation:\n",
    "\n",
    "#convert the dates to a numpy array. You can't use the location extraction functions that follow otherwise.\n",
    "date_num=np.array(date,dtype=np.datetime64)\n",
    "\n",
    "d_t=date_num[-1] #extract last observation from the array\n",
    "d_0=date_num[0] #extract first observation from the array\n",
    "\n",
    "#calculate difference between observations in years\n",
    "t_date=np.datetime64(d_t,'Y') - np.datetime64(d_0,'Y') \n",
    "# Note: You have to use np.datetime64(value,'Y') so that your calculation returns the number of years between the two dates. \n",
    "# You could also use 'M' or 'D' after the comma if you need to find the number of months or days respectively.\n",
    "\n",
    "# convert the output t_date to integers so that you can perform arithmetic operators. The output t_date is currently in the\n",
    "# '<m8[Y]' data type, not 'int'.\n",
    "\n",
    "t=int(t_date) \n",
    "\n",
    "#Step 3: Use formula (3.9) in page 54 of the textbook.\n",
    "\n",
    "r=(y_t/y_0)**(1/t)-1\n",
    "\n",
    "#Step 4: Print your output!\n",
    "\n",
    "print(r)\n"
   ]
  }
 ],
 "metadata": {
  "kernelspec": {
   "display_name": "Python 3",
   "language": "python",
   "name": "python3"
  },
  "language_info": {
   "codemirror_mode": {
    "name": "ipython",
    "version": 3
   },
   "file_extension": ".py",
   "mimetype": "text/x-python",
   "name": "python",
   "nbconvert_exporter": "python",
   "pygments_lexer": "ipython3",
   "version": "3.6.5"
  }
 },
 "nbformat": 4,
 "nbformat_minor": 2
}
