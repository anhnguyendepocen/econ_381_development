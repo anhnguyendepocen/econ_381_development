{
 "cells": [
  {
   "cell_type": "markdown",
   "metadata": {},
   "source": [
    "# Chapter 04 Exercises\n",
    "\n",
    "## Name Goes Here\n",
    "\n",
    "### Date"
   ]
  },
  {
   "cell_type": "code",
   "execution_count": 2,
   "metadata": {},
   "outputs": [],
   "source": [
    "# Write the code for the libraries you use to complete the assignment\n",
    "\n",
    "\n"
   ]
  },
  {
   "cell_type": "markdown",
   "metadata": {},
   "source": [
    "## Q1) Learning How to Solve Systems of Equations in Python\n",
    "\n",
    "In economics, we often want to know the solution to equalibrium values, i.e. price and quantity. To solve for these, it is possible to set up a system of equations to solve for such values using two or more equations. As preparation for future assignments you will learn how to solve a system of equations in python . Follow the steps below to complete this exercise. \n",
    "\n",
    "a) **Review of Linear Algebra** \n",
    "\n",
    "    In Econ 215 you learned the following formula can be used to find unknowns of a system of equations.\n",
    "$$\n",
    "Ax = b \\ \\ \\ \\ \\ \\ (1)\n",
    "$$\n",
    "\n",
    "    The equation (1) can be manipulated and solved using rules from linear algebra to arrive at the following equation.\n",
    "$$\n",
    "x = A^{-1} b \\ \\ \\ \\ \\ (2)\n",
    "$$\n",
    "\n",
    "    Equation (2) says that the unknowns to a system of equations can be solved for by taking the inverse of matrix $A$ and multiplying it by the constants of an equation. \n",
    "\n",
    "\n",
    "b) **Video**\n",
    "\n",
    "    With those formulas in mind, watch the following viedo as it will teach you how to solve systems of equations in python. \n",
    "    \n",
    "__[Click here to watch video]( https://youtu.be/44pAWI7v5Zk)__\n",
    "\n",
    "  \n",
    "\n",
    "c) **Solve the Following Equations**\n",
    "\n",
    "    Using the information from the video solve the following system of equations using python.\n",
    "\n",
    "(1)\n",
    "\n",
    "\\begin{align*}\n",
    "3x - y &= 7 \\\\\n",
    "2x + 3y &= 1 \n",
    "\\end{align*}\n",
    "\n",
    "(2)\n",
    "\n",
    "\\begin{align*}\n",
    "x - 2y + 3z &= 7\\\\\n",
    "2x + y + z &= 4\\\\\n",
    "-3x + 2y - 2z &= -10\n",
    "\\end{align*}\n"
   ]
  },
  {
   "cell_type": "markdown",
   "metadata": {},
   "source": [
    "## Q3) The Black Death\n",
    "\n",
    "In the middle of the fourteenth century, and epidemic known as the Black Death killed about a third of Europe's population, about 34 million people. While this was an enormous tragedy, the macroeconomic consequences might surprise you: over the next century, wages are estimated to have been *higher* than before the Black Death.\n",
    "\n",
    "  **(a)** Use the production model to explain why wages might have been higher.\n",
    "  \n",
    "  **(b)** Can you attach a number to your explination? In the model, by how much would wages rise if a third of the population died from disease?"
   ]
  },
  {
   "cell_type": "code",
   "execution_count": null,
   "metadata": {},
   "outputs": [],
   "source": []
  },
  {
   "cell_type": "markdown",
   "metadata": {},
   "source": [
    "## Q4) Solving the production model\n",
    "\n",
    "Suppose the production function at the core of our model is given by $ Y = \\bar{A}K^{3/4}L^{1/4}$ (that is, assume the exponents on capital and labor are $3/4$ and $1/4$ rather than $1/3$ and $2/3$).\n",
    "\n",
    "**(a)** Create a new version of Table 4.1 (pg. 76) for the new version of the model. What are the five equations and five unknowns? (*Hint*: The hiring rules for capital and labor will change in the obvious way.)\n",
    "\n",
    "**(b)** Now solve these equations using python to get the solution to the model. Put your solution in the same form as Table 4.2. \n",
    "\n",
    "**(c)** What is the solution for the equalibrium level of output per person?\n",
    "\n",
    "**(d)** How does changing the level of alpha, or ($\\bar{A}$), affect the solution?\n"
   ]
  },
  {
   "cell_type": "code",
   "execution_count": 3,
   "metadata": {},
   "outputs": [
    {
     "ename": "SyntaxError",
     "evalue": "invalid syntax (<ipython-input-3-4d74f4d5292b>, line 4)",
     "output_type": "error",
     "traceback": [
      "\u001b[0;36m  File \u001b[0;32m\"<ipython-input-3-4d74f4d5292b>\"\u001b[0;36m, line \u001b[0;32m4\u001b[0m\n\u001b[0;31m    alpha =\u001b[0m\n\u001b[0m            ^\u001b[0m\n\u001b[0;31mSyntaxError\u001b[0m\u001b[0;31m:\u001b[0m invalid syntax\n"
     ]
    }
   ],
   "source": [
    "# For the level of alpha, you will need to decide what it will be. The variable has already been created\n",
    "# but it is up to you to change it to what you would like it to be and then incorporate `alpha` into your code.\n",
    "\n",
    "alpha = "
   ]
  },
  {
   "cell_type": "markdown",
   "metadata": {},
   "source": [
    "## Q5) The empirical fit of the production model\n",
    "\n",
    "The table on page 99 reports per capita GDP and capital per person in the year 2014 for 10 counteries. Your task is to fill in the missing columns of the table. **You may choose to complete the HTML table in this cell or you may create a new cell and list the answers as text in a new cell instead of creating a new table.**\n",
    "\n",
    "**(a)** Given the values in columns 1 and 2 which are in U.S. dollars, fill in columns 3 and 4 which are relative to U.S. values (U.S. = 1). That is, compute per capita GDP and capital per person relative to the U.S. values. \n",
    "\n",
    "**(b)** In column 5, use the production model (with a capital exponent of $1/3$) to compute predicted per capita GDP for each country relative to the United States, assuming there are no TFP differences.\n",
    "\n",
    "**(c)** In column 6, compute the level of TFP for each country that is needed to match up the model of the data. \n",
    "\n",
    "**(d)** Comment on the general results you find. \n",
    "\n",
    "\n",
    "| Country       |(1) Capital per person| (2) Per capita GDP|(3) Capital Per person|(4) Per capita GDP|(5) Perdicted $y*$|(6) Implied TFP to match data|\n",
    "|---------------|------------------|--------------|------------------|--------------|--------------|-------------------------|\n",
    "| United States | 141,841          | 51,895       | 1.000            | 1.000        | 1.000        | 1.000                   |\n",
    "| Canada        | 128,667          | 43,367       | | | | |  \n",
    "| France        | 162, 207         | 37,360       | | | | | \n",
    "| Hong Kong     | 159, 247         | 37,360       | | | | |  \n",
    "| South Korea   | 120, 472         | 34,961       | | | | |\n",
    "| Indonesia     | 41,044           | 9,797        | | | | |\n",
    "| Argentina     | 53, 821          | 20,074       | | | | |\n",
    "| Mexico        | 45,039           | 15, 521      | | | | |\n",
    "| Kenya         | 4,686            | 2,971        | | | | |\n",
    "| Ethiopia      | 3,227            | 1,505        | | | | |"
   ]
  },
  {
   "cell_type": "code",
   "execution_count": null,
   "metadata": {},
   "outputs": [],
   "source": []
  },
  {
   "cell_type": "markdown",
   "metadata": {},
   "source": [
    "## Q6) The labor share and Cobb-Douglas production (a FRED question)\n",
    "\n",
    "Using the FRED database, download the .csv file of the share of income paid to labor for the nonfarm business sector of the U.S. economy, back to 1947. (For an introduction to FRED, see the case study \"The FRED database\" in Chapter 2 on page 34). \n",
    "\n",
    "**(a)** Create a time series plot of the data you downloaded. Make sure to include a title and y-axis lable\n",
    "\n",
    "**(b)** The graph most likely shows an index (e.g., normalized so the value in some year is 100) rather than the share itself. Assuming the labor averaged $2/3$, approximately what value is the labor share for your most recent data point?\n",
    "\n",
    "**(c)** What does this graph suggest about the validity of our assumptions that the production function is Cobb-Douglas?"
   ]
  },
  {
   "cell_type": "code",
   "execution_count": null,
   "metadata": {},
   "outputs": [],
   "source": [
    "# Use what you learned in the Intermediate Python for Data Science Course in Data Camp to import the data using the Pandas library. \n",
    "# Note when importing the .csv, you need to be able to tell the computer where to the data are located so it can read them in.\n",
    "# The data are located at the following link. Instead of putting a file path to your computer, you will simply substitute\n",
    "# this link into a function and proceed like a reguar data import your learned in Data Camp.\n",
    "# Link:https://raw.githubusercontent.com/dylanjm/econ_381_development/master/data/FRED_Chapter_4.csv\n",
    "\n"
   ]
  }
 ],
 "metadata": {
  "kernelspec": {
   "display_name": "Python 3",
   "language": "python",
   "name": "python3"
  },
  "language_info": {
   "codemirror_mode": {
    "name": "ipython",
    "version": 3
   },
   "file_extension": ".py",
   "mimetype": "text/x-python",
   "name": "python",
   "nbconvert_exporter": "python",
   "pygments_lexer": "ipython3",
   "version": "3.7.0"
  }
 },
 "nbformat": 4,
 "nbformat_minor": 2
}
