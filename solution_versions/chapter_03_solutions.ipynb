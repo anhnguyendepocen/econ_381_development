{
 "cells": [
  {
   "cell_type": "markdown",
   "metadata": {},
   "source": [
    "# Chapter 03 Exercises\n",
    "\n",
    "## Name goes here\n",
    "\n",
    "### Date"
   ]
  },
  {
   "cell_type": "code",
   "execution_count": 100,
   "metadata": {},
   "outputs": [],
   "source": [
    "# Libraries you will need for this assignment. The code below will import them for your use. Please run this before continuing.\n",
    "%matplotlib inline\n",
    "import numpy as np\n",
    "import pandas as pd\n",
    "import matplotlib.pyplot as plt\n",
    "import matplotlib.ticker as ticker\n"
   ]
  },
  {
   "cell_type": "markdown",
   "metadata": {},
   "source": [
    "## Q1) Growth and Development with discrete compounding growth\n",
    "In 2014, Ethiopia had a per capita income of $\\$1500$, about $\\$4$ per day. Compute per capita income in Ethiopia for the year 2050, assuming the average annual growth rates below.\n",
    "\n",
    "*Hint:use the constant growth rate formula (3.7) on page 50 on your textbook to solve **(a)**. Then copy the formula for the next parts of this question, changing only the growth rate variable.*  \n",
    "\n",
    "**(a)** 1% per year\n",
    "\n"
   ]
  },
  {
   "cell_type": "code",
   "execution_count": 19,
   "metadata": {},
   "outputs": [
    {
     "name": "stdout",
     "output_type": "stream",
     "text": [
      "Per capital GDP Ethiopia 2050, 1% growth rate: $2,146.15\n"
     ]
    }
   ],
   "source": [
    "def d_avg_growth(y0,g,t):\n",
    "    '''\n",
    "    This function calculates the discrete compounding growth formula\n",
    "    \n",
    "    Args:\n",
    "        y_0: starting value\n",
    "        g: growth rate\n",
    "        t: elapsed time from starting and ending value\n",
    "    Return:\n",
    "        y_t: ending value\n",
    "    '''\n",
    "    yt = y0 * (1+g) ** t\n",
    "    return yt\n",
    "\n",
    "print('Per capital GDP Ethiopia 2050, 1% growth rate:', '${:,.2f}'.format(d_avg_growth(1500, 0.01,36)))"
   ]
  },
  {
   "cell_type": "markdown",
   "metadata": {},
   "source": [
    "**(b)** 2% per year"
   ]
  },
  {
   "cell_type": "code",
   "execution_count": 21,
   "metadata": {},
   "outputs": [
    {
     "name": "stdout",
     "output_type": "stream",
     "text": [
      "Per capital GDP Ethiopia 2050, 1% growth rate: $3,059.83\n"
     ]
    }
   ],
   "source": [
    "print('Per capital GDP Ethiopia 2050, 2% growth rate:', '${:,.2f}'.format(d_avg_growth(1500, 0.02,36)))"
   ]
  },
  {
   "cell_type": "markdown",
   "metadata": {},
   "source": [
    "**(c)** 4% per year."
   ]
  },
  {
   "cell_type": "code",
   "execution_count": 22,
   "metadata": {},
   "outputs": [
    {
     "name": "stdout",
     "output_type": "stream",
     "text": [
      "Per capital GDP Ethiopia 2050, 1% growth rate: $6,155.90\n"
     ]
    }
   ],
   "source": [
    "print('Per capital GDP Ethiopia 2050, 4% growth rate:', '${:,.2f}'.format(d_avg_growth(1500, 0.04,36)))"
   ]
  },
  {
   "cell_type": "markdown",
   "metadata": {},
   "source": [
    "**(d)** 6% per year."
   ]
  },
  {
   "cell_type": "code",
   "execution_count": 23,
   "metadata": {},
   "outputs": [
    {
     "name": "stdout",
     "output_type": "stream",
     "text": [
      "Per capital GDP Ethiopia 2050, 6% growth rate: $12,220.88\n"
     ]
    }
   ],
   "source": [
    "print('Per capital GDP Ethiopia 2050, 6% growth rate:', '${:,.2f}'.format(d_avg_growth(1500, 0.06,36)))"
   ]
  },
  {
   "cell_type": "markdown",
   "metadata": {},
   "source": [
    "## Q2) Population Growth with continuous compounding growth\n",
    "\n",
    "Suppose the world population today is 7 bllion, and suppose this population grows at a constant rate of 3% per year from now on. \n",
    "\n",
    "**(a)** What would the world's population in 100 years from now?"
   ]
  },
  {
   "cell_type": "code",
   "execution_count": 62,
   "metadata": {},
   "outputs": [
    {
     "name": "stdout",
     "output_type": "stream",
     "text": [
      "World Population in 100 years, 3% growth rate, in billions: 140.60\n"
     ]
    }
   ],
   "source": [
    "def c_avg_growth(y0,g,t):\n",
    "    '''\n",
    "    This function calculates the continuous compounding growth formula\n",
    "    \n",
    "    Args:\n",
    "        y_0: starting value\n",
    "        g: growth rate\n",
    "        t: elapsed time from starting and ending value\n",
    "    Return:\n",
    "        y_t: ending value\n",
    "    '''\n",
    "    yt = y0 * np.exp(t * g)\n",
    "    return yt\n",
    "\n",
    "print('World Population in 100 years, 3% growth rate, in billions:', '{:,.2f}'.format(c_avg_growth(7, 0.03,100)))"
   ]
  },
  {
   "cell_type": "markdown",
   "metadata": {},
   "source": [
    "**(b)** Compute the level of the population for $t=0$, $t=1$, $t=2$, $t=10$, $t=25$, $t=50$ \n",
    "\n",
    "*Hint: You can use array operations to compute all these values simultaneously.*"
   ]
  },
  {
   "cell_type": "code",
   "execution_count": 89,
   "metadata": {},
   "outputs": [
    {
     "name": "stdout",
     "output_type": "stream",
     "text": [
      "   Period  Population\n",
      "0       1    7.213182\n",
      "1       2    7.432856\n",
      "2      10    9.449012\n",
      "3      25   14.819000\n",
      "4      50   31.371823\n"
     ]
    }
   ],
   "source": [
    "t=np.array([1, 2, 10, 25, 50])\n",
    "pop=c_avg_growth(7, 0.03, t)\n",
    "\n",
    "# Making the arrays into a data frame so it would look like a table when using print()\n",
    "data = pd.DataFrame({'Period': t,\n",
    "                    'Population': pop}, \n",
    "                    columns = ['Period', 'Population'])\n",
    "print(data)"
   ]
  },
  {
   "cell_type": "markdown",
   "metadata": {},
   "source": [
    "**(c)** Make a time series plot of population versus time on a standard scale."
   ]
  },
  {
   "cell_type": "code",
   "execution_count": 64,
   "metadata": {},
   "outputs": [
    {
     "data": {
      "text/plain": [
       "[<matplotlib.lines.Line2D at 0x195569e7518>]"
      ]
     },
     "execution_count": 64,
     "metadata": {},
     "output_type": "execute_result"
    },
    {
     "data": {
      "image/png": "[encoded data removed]",
      "text/plain": [
       "<Figure size 432x288 with 1 Axes>"
      ]
     },
     "metadata": {
      "needs_background": "light"
     },
     "output_type": "display_data"
    }
   ],
   "source": [
    "t=np.linspace(0,100,200) #creates an array starting a 0 until 100, with 200 equidistant values.\n",
    "\n",
    "plt.plot(t,c_avg_growth(7,0.03,t))"
   ]
  },
  {
   "cell_type": "markdown",
   "metadata": {},
   "source": [
    "**(d)** Make a time series plot of population versus time on a ratio scale."
   ]
  },
  {
   "cell_type": "code",
   "execution_count": 66,
   "metadata": {},
   "outputs": [
    {
     "data": {
      "text/plain": [
       "[<matplotlib.lines.Line2D at 0x19556ef05c0>]"
      ]
     },
     "execution_count": 66,
     "metadata": {},
     "output_type": "execute_result"
    },
    {
     "data": {
      "image/png": "[encoded data removed]",
      "text/plain": [
       "<Figure size 432x288 with 1 Axes>"
      ]
     },
     "metadata": {
      "needs_background": "light"
     },
     "output_type": "display_data"
    }
   ],
   "source": [
    "t=np.linspace(0,100,200)\n",
    "\n",
    "plt.plot(t,np.log(c_avg_growth(7,0.03,t)))\n",
    "\n",
    "# Notice that the scale of the y axis is values of Ln(pop). "
   ]
  },
  {
   "cell_type": "markdown",
   "metadata": {},
   "source": [
    "## Q3) Computing levels: \n",
    "\n",
    "__a)__ Suppose $x_t$ grows at 2% per year and $y_t$ grows at 5% per year with $x_o = 2$ and $y_o = 1$. Calculate the numerical values of $z = x^{3/4}y^{1/4}$ for $t = 0, \\ t = 2,  \\ t = 10, \\ t = 17$, and $t = 35$."
   ]
  },
  {
   "cell_type": "code",
   "execution_count": 86,
   "metadata": {},
   "outputs": [
    {
     "name": "stdout",
     "output_type": "stream",
     "text": [
      "   Period         z\n",
      "0       0  1.681793\n",
      "1       2  1.776882\n",
      "2      10  2.214132\n",
      "3      17  2.684140\n",
      "4      35  4.403327\n"
     ]
    }
   ],
   "source": [
    "t=np.array([0, 2, 10, 17, 35])\n",
    "def z_fun(x_0, y_0, g_x, g_y, t):\n",
    "    '''\n",
    "    This function calculates the values of z = x^{3/4}*y^{1/4}\n",
    "    \n",
    "    Args:\n",
    "        x_0: starting value for x\n",
    "        y_0: starting value for 7\n",
    "        g_x: growth rate of x\n",
    "        g_y: growth rate of y\n",
    "        t: elapsed time from starting and ending value\n",
    "    Return:\n",
    "        z: function evaluated at input values\n",
    "    '''\n",
    "    \n",
    "    z = (x_0 * np.exp(t * g_x)) ** (3 / 4) * (y_0 * np.exp(t * g_y)) ** (1 / 4) \n",
    "    return z\n",
    "\n",
    "# Parameters\n",
    "x_0 = 2\n",
    "y_0 = 1\n",
    "g_x = 0.02\n",
    "g_y = 0.05\n",
    "\n",
    "\n",
    "z = z_fun(x_0, y_0, g_x, g_y, t)\n",
    "\n",
    "# Making arrays into a data frame for better presentation when using print()\n",
    "data = pd.DataFrame({'Period': t,\n",
    "                    'z': z}, \n",
    "                    columns = ['Period', 'z'])\n",
    "print(data)\n"
   ]
  },
  {
   "cell_type": "markdown",
   "metadata": {},
   "source": [
    "__b)__ Calculate the growth rate of $z$ numericaly using the continuous compounding growth formula."
   ]
  },
  {
   "cell_type": "code",
   "execution_count": 87,
   "metadata": {},
   "outputs": [
    {
     "name": "stdout",
     "output_type": "stream",
     "text": [
      "Growth Rate of z: 2.75%\n"
     ]
    }
   ],
   "source": [
    "g_z=np.log(z[-1] / z[0]) / 35\n",
    "print('Growth Rate of z:', '{0:.2%}'.format(g_z))"
   ]
  },
  {
   "cell_type": "markdown",
   "metadata": {},
   "source": [
    "__c)__ Could you have found the answer in an easier way? How?"
   ]
  },
  {
   "cell_type": "markdown",
   "metadata": {},
   "source": [
    "Yes, I could use the percentage/growth rates transformation for this function."
   ]
  },
  {
   "cell_type": "code",
   "execution_count": 88,
   "metadata": {},
   "outputs": [
    {
     "name": "stdout",
     "output_type": "stream",
     "text": [
      "Growth Rate of z: 2.75%\n"
     ]
    }
   ],
   "source": [
    "g_z_better=3/4 * g_x + 1/4 * g_y\n",
    "print('Growth Rate of z:', '{0:.2%}'.format(g_z_better))"
   ]
  },
  {
   "cell_type": "markdown",
   "metadata": {},
   "source": [
    "## Q4) Growh rates of per capita GDP:\n",
    "\n",
    "**(a)** Compute the average annual growth rate of per capita GDP for each of the countries listed below. The levels of GDP per capital are provided for 1980 and 2014, measured in constant 2011 dollars. \n",
    "\n",
    "*Hint: We will use formula (3.9) on page 54 of your textbook. The comments in the input field below will guide you through this exercise.*\n"
   ]
  },
  {
   "cell_type": "code",
   "execution_count": 6,
   "metadata": {
    "scrolled": false
   },
   "outputs": [
    {
     "name": "stdout",
     "output_type": "stream",
     "text": [
      "           country  GDP_1980  GDP_2014  avg_growth\n",
      "0    United States     29288     51958    1.700347\n",
      "1           Canada     24716     43376    1.668040\n",
      "2           France     22557     37360    1.495052\n",
      "3   United Kingdom     20044     38083    1.905690\n",
      "4            Italy     19912     34876    1.662122\n",
      "5          Germany     19617     45320    2.493377\n",
      "6            Japan     19147     35574    1.838667\n",
      "7          Ireland     12845     52186    4.209297\n",
      "8           Mexico     11954     15521    0.770980\n",
      "9           Brazil      5297     17459    3.570240\n",
      "10       Indonesia      2249      9797    4.423240\n",
      "11           Kenya      2049      2971    1.098777\n",
      "12           China      1578     12514    6.279544\n",
      "13           India      1196      5451    4.562234\n",
      "14        Ethiopia       690      1505    2.320203\n"
     ]
    }
   ],
   "source": [
    "# The following are lists containing the information described above.\n",
    "\n",
    "names=['United States','Canada','France','United Kingdom','Italy','Germany','Japan','Ireland','Mexico','Brazil','Indonesia','Kenya','China','India','Ethiopia']\n",
    "GDP_1980=[29288, 24716, 22557, 20044, 19912, 19617, 19147, 12845, 11954, 5297, 2249, 2049, 1578, 1196, 690]\n",
    "GDP_2014=[51958, 43376, 37360, 38083, 34876, 45320, 35574, 52186, 15521, 17459, 9797, 2971, 12514, 5451, 1505]\n",
    "\n",
    "\n",
    "#Step 1: Turn these pre-defined lists into a dictionary called \"gdp_dictionary\"\n",
    "\n",
    "#Solution:\n",
    "gdp_dictionary={\n",
    "    'country':names,\n",
    "    'GDP_1980':GDP_1980,\n",
    "    'GDP_2014':GDP_2014\n",
    "    }\n",
    "\n",
    "\n",
    "#Step2: Convert your GDP dictionary into a DataFrame called \"gdp_df\"\n",
    "\n",
    "#Solution:\n",
    "gdp_df=pd.DataFrame(gdp_dictionary)\n",
    "\n",
    "# Use a custom function to calculate the average growth rate of GDP between 1980 and 2014 for all the countries at the same time.\n",
    "# Append you calculated field as another column on the \"gdp_df\" dataframe.\n",
    "\n",
    "\n",
    "def avg_growth(row): \n",
    "    '''\n",
    "    Calculates the average rate of growth for each row or column in a dataframe simultaneously.\n",
    "    Arguments:\n",
    "    direction:\"row\" defines the function to operate horizontally on our DataFrame, across rows;\n",
    "              \"col\" performs the operation over the DataFrame's columns\n",
    "    Returns:\n",
    "    Discrete compounding average growth rate between X_(t+n) and X_(t)\n",
    "    '''    \n",
    "    return ((row['GDP_2014'] / row['GDP_1980']) ** (1 / 34) - 1) * 100\n",
    "\n",
    "gdp_df['avg_growth']=gdp_df.apply(avg_growth,axis=1)\n",
    "\n",
    "\n",
    "#Step 3: Print your ouput\n",
    "\n",
    "print(gdp_df)\n",
    "\n"
   ]
  },
  {
   "cell_type": "markdown",
   "metadata": {},
   "source": [
    "**(b)** In part **(a)** you found the average growth rates for various countries. Do you think that there are some growth rates that are more common than others? Create a histogram and find out!"
   ]
  },
  {
   "cell_type": "code",
   "execution_count": 7,
   "metadata": {},
   "outputs": [
    {
     "data": {
      "image/png": "[encoded data removed]",
      "text/plain": [
       "<Figure size 432x288 with 1 Axes>"
      ]
     },
     "metadata": {
      "needs_background": "light"
     },
     "output_type": "display_data"
    }
   ],
   "source": [
    "# Hint: you can directly plot a histogram from the DataFrame if you don't want a lot of customization (google it!). \n",
    "#Otherwise you can use \"matplotlib.pyplot.hist\"\n",
    "\n",
    "hist=gdp_df.hist(column='avg_growth')"
   ]
  },
  {
   "cell_type": "markdown",
   "metadata": {},
   "source": [
    "## Q5) Practice Charting in Python\n",
    "\n",
    "a) The code below will walk you through importing data on Amazon's (AMZN) stock price over time. Create a time series plot of the stock price with time on the x-axis and price on the y-axis. Don't forget to make the graph look professional by including a proper lables, title, and some color to the data being plotted.\n",
    "\n",
    "*Hint: If you need a reminder on how to use Matplotlib, please see the DataCamp course \"Intermediate Python for Data Science\" section 1, or the Python Guide on Matplotlib on I-learn.*"
   ]
  },
  {
   "cell_type": "code",
   "execution_count": 109,
   "metadata": {},
   "outputs": [
    {
     "data": {
      "image/png": "[encoded data removed]",
      "text/plain": [
       "<Figure size 432x288 with 1 Axes>"
      ]
     },
     "metadata": {
      "needs_background": "light"
     },
     "output_type": "display_data"
    }
   ],
   "source": [
    "# Step 1: Import the data from Git Hub \n",
    "\n",
    "amzn = pd.read_csv('https://raw.githubusercontent.com/dylanjm/econ_381_development/master/data/AMZN.csv')\n",
    "\n",
    "# Step 2: Create x and y axis variables for plotting.\n",
    "\n",
    "date = amzn[\"Date\"]\n",
    "price = amzn[\"Close\"]\n",
    "\n",
    "# Note: each variable is an array. You can use any of the array tools you learned in DataCamp.\n",
    "\n",
    "# Step 3: Insert your code below to make the time series plot using Python's Matplotlib.\n",
    "\n",
    "# Defining the plot\n",
    "ax = plt.subplot()\n",
    "ax.plot(date, price, label = 'Amazon Stock Price')\n",
    "\n",
    "#styling; labels and titles\n",
    "ax.set(xlabel = 'Date',\n",
    "      ylabel = 'Price',\n",
    "      title = 'Amazon Stock')\n",
    "ax.grid()\n",
    "\n",
    "# definition of intervals (ticks)\n",
    "tick_date = 20 # spacing between observations for each tick. Higher number, less ticks.\n",
    "ax.xaxis.set_major_locator(ticker.MultipleLocator(tick_date)) \n",
    "\n",
    "ax.legend()\n",
    "plt.xticks(rotation=90) # rotates x-axis ticks to show them verticaly\n",
    "plt.show()\n",
    "\n",
    "\n"
   ]
  },
  {
   "cell_type": "markdown",
   "metadata": {},
   "source": [
    "b) The constant growth rate formula (both discrete and continuous) we have used throughout this assignment has many uses and different names. This same formula is used in Finance to calculate average returns for a miriad of assets. Let's use the discrete version of the formula to compute an average percent return for Amazon's stock prices during the time period we have data. You will use exactly the same formula from Q4 part (a), taking the first observation in \"price\" as $y_0$ and the last observation as $y_t$. Make sure that you calculate $t$ in years.\n"
   ]
  },
  {
   "cell_type": "code",
   "execution_count": 110,
   "metadata": {},
   "outputs": [
    {
     "name": "stdout",
     "output_type": "stream",
     "text": [
      "Average Yearly Percentage Return: 76.54%\n"
     ]
    }
   ],
   "source": [
    "# Step 1: locate the first and last observations of the \"price\" array, store them as numpy array variables \"y_\"0 and \"y_t\"\n",
    "\n",
    "#Solution:\n",
    "p=np.array(price)\n",
    "y_0=p[0]\n",
    "y_t=p[-1]\n",
    "\n",
    "#Step 2: calculate how many years have passed between the first and last observations in the \"date\" array corresponding \n",
    "#to our price observations. \n",
    "\n",
    "#Possible Solution: Use the datetime64 data type.\n",
    "\n",
    "#Explanation:\n",
    "\n",
    "#convert the dates to a numpy array. You can't use the location extraction functions that follow otherwise.\n",
    "date_num=np.array(date,dtype=np.datetime64)\n",
    "\n",
    "d_t=date_num[-1] #extract last observation from the array\n",
    "d_0=date_num[0] #extract first observation from the array\n",
    "\n",
    "#calculate difference between observations in years\n",
    "t_date=np.datetime64(d_t,'Y') - np.datetime64(d_0,'Y') \n",
    "# Note: You have to use np.datetime64(value,'Y') so that your calculation returns the number of years between the two dates. \n",
    "# You could also use 'M' or 'D' after the comma if you need to find the number of months or days respectively.\n",
    "\n",
    "# convert the output t_date to integers so that you can perform arithmetic operators. The output t_date is currently in the\n",
    "# '<m8[Y]' data type, not 'int'.\n",
    "\n",
    "t=int(t_date) \n",
    "\n",
    "#Step 3: Use formula (3.9) in page 54 of the textbook.\n",
    "\n",
    "r = ((y_t / y_0) ** (1 / t) - 1)\n",
    "\n",
    "#Step 4: Print your output!\n",
    "\n",
    "print('Average Yearly Percentage Return:', '{0:.2%}'.format(r))\n"
   ]
  }
 ],
 "metadata": {
  "kernelspec": {
   "display_name": "Python 3",
   "language": "python",
   "name": "python3"
  },
  "language_info": {
   "codemirror_mode": {
    "name": "ipython",
    "version": 3
   },
   "file_extension": ".py",
   "mimetype": "text/x-python",
   "name": "python",
   "nbconvert_exporter": "python",
   "pygments_lexer": "ipython3",
   "version": "3.7.0"
  }
 },
 "nbformat": 4,
 "nbformat_minor": 2
}
