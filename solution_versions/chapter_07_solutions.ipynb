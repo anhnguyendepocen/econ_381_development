{
 "cells": [
  {
   "cell_type": "markdown",
   "metadata": {},
   "source": [
    "# Chapter 07 Exercises\n",
    "\n",
    "## Name goes here\n",
    "\n",
    "### Date"
   ]
  },
  {
   "cell_type": "code",
   "execution_count": 7,
   "metadata": {},
   "outputs": [],
   "source": [
    "# Libraries you will need for this assignment. \n",
    "# The code below will import them for your use. \n",
    "# Please run this before continuing.\n",
    "%matplotlib inline\n",
    "import numpy as np\n",
    "import pandas as pd\n",
    "from matplotlib.dates import DateFormatter\n",
    "import matplotlib.pyplot as plt\n",
    "import matplotlib.dates as mdates"
   ]
  },
  {
   "cell_type": "markdown",
   "metadata": {},
   "source": [
    "## Q1) Practice Importing Data (A Python Question)\n",
    "\n",
    "In Data Camp, you will learned how to import .csv files into Python. This will be a valuable skill moving forward in the semester. In order to better prepare you, this question will provide example code so you can answer __Q2)__ of this assignment. After running the code below, print the datasets to ensure it has been read and imported correctly."
   ]
  },
  {
   "cell_type": "code",
   "execution_count": 16,
   "metadata": {},
   "outputs": [
    {
     "name": "stdout",
     "output_type": "stream",
     "text": [
      "           Date   Men\n",
      "0    1948-01-01  83.8\n",
      "1    1948-02-01  83.9\n",
      "2    1948-03-01  83.0\n",
      "3    1948-04-01  83.3\n",
      "4    1948-05-01  83.1\n",
      "5    1948-06-01  83.7\n",
      "6    1948-07-01  83.8\n",
      "7    1948-08-01  83.5\n",
      "8    1948-09-01  83.2\n",
      "9    1948-10-01  83.5\n",
      "10   1948-11-01  83.3\n",
      "11   1948-12-01  83.5\n",
      "12   1949-01-01  82.8\n",
      "13   1949-02-01  82.6\n",
      "14   1949-03-01  82.1\n",
      "15   1949-04-01  82.0\n",
      "16   1949-05-01  81.3\n",
      "17   1949-06-01  80.9\n",
      "18   1949-07-01  80.4\n",
      "19   1949-08-01  80.7\n",
      "20   1949-09-01  81.0\n",
      "21   1949-10-01  80.0\n",
      "22   1949-11-01  81.2\n",
      "23   1949-12-01  81.0\n",
      "24   1950-01-01  80.7\n",
      "25   1950-02-01  80.7\n",
      "26   1950-03-01  80.7\n",
      "27   1950-04-01  81.1\n",
      "28   1950-05-01  81.6\n",
      "29   1950-06-01  81.8\n",
      "..          ...   ...\n",
      "817  2016-02-01  65.9\n",
      "818  2016-03-01  65.9\n",
      "819  2016-04-01  65.8\n",
      "820  2016-05-01  65.7\n",
      "821  2016-06-01  65.8\n",
      "822  2016-07-01  65.8\n",
      "823  2016-08-01  65.8\n",
      "824  2016-09-01  65.8\n",
      "825  2016-10-01  65.7\n",
      "826  2016-11-01  65.8\n",
      "827  2016-12-01  65.7\n",
      "828  2017-01-01  65.9\n",
      "829  2017-02-01  66.0\n",
      "830  2017-03-01  66.0\n",
      "831  2017-04-01  66.2\n",
      "832  2017-05-01  66.0\n",
      "833  2017-06-01  66.0\n",
      "834  2017-07-01  65.9\n",
      "835  2017-08-01  65.9\n",
      "836  2017-09-01  66.3\n",
      "837  2017-10-01  66.1\n",
      "838  2017-11-01  66.0\n",
      "839  2017-12-01  66.1\n",
      "840  2018-01-01  66.3\n",
      "841  2018-02-01  66.5\n",
      "842  2018-03-01  66.5\n",
      "843  2018-04-01  66.4\n",
      "844  2018-05-01  66.5\n",
      "845  2018-06-01  66.2\n",
      "846  2018-07-01  66.3\n",
      "\n",
      "[847 rows x 2 columns]\n",
      "           Date  Women\n",
      "0    1948-01-01   30.9\n",
      "1    1948-02-01   31.0\n",
      "2    1948-03-01   30.7\n",
      "3    1948-04-01   31.6\n",
      "4    1948-05-01   30.9\n",
      "5    1948-06-01   31.9\n",
      "6    1948-07-01   32.0\n",
      "7    1948-08-01   31.3\n",
      "8    1948-09-01   31.7\n",
      "9    1948-10-01   31.1\n",
      "10   1948-11-01   31.3\n",
      "11   1948-12-01   31.6\n",
      "12   1949-01-01   31.2\n",
      "13   1949-02-01   31.5\n",
      "14   1949-03-01   31.5\n",
      "15   1949-04-01   31.0\n",
      "16   1949-05-01   31.1\n",
      "17   1949-06-01   30.7\n",
      "18   1949-07-01   31.1\n",
      "19   1949-08-01   31.2\n",
      "20   1949-09-01   31.1\n",
      "21   1949-10-01   31.3\n",
      "22   1949-11-01   31.6\n",
      "23   1949-12-01   31.3\n",
      "24   1950-01-01   31.1\n",
      "25   1950-02-01   31.1\n",
      "26   1950-03-01   31.0\n",
      "27   1950-04-01   32.1\n",
      "28   1950-05-01   31.6\n",
      "29   1950-06-01   32.1\n",
      "..          ...    ...\n",
      "817  2016-02-01   54.1\n",
      "818  2016-03-01   54.2\n",
      "819  2016-04-01   54.0\n",
      "820  2016-05-01   54.0\n",
      "821  2016-06-01   53.9\n",
      "822  2016-07-01   54.1\n",
      "823  2016-08-01   54.1\n",
      "824  2016-09-01   54.1\n",
      "825  2016-10-01   54.2\n",
      "826  2016-11-01   54.2\n",
      "827  2016-12-01   54.2\n",
      "828  2017-01-01   54.2\n",
      "829  2017-02-01   54.4\n",
      "830  2017-03-01   54.7\n",
      "831  2017-04-01   54.5\n",
      "832  2017-05-01   54.4\n",
      "833  2017-06-01   54.6\n",
      "834  2017-07-01   54.8\n",
      "835  2017-08-01   54.7\n",
      "836  2017-09-01   54.8\n",
      "837  2017-10-01   54.6\n",
      "838  2017-11-01   54.6\n",
      "839  2017-12-01   54.6\n",
      "840  2018-01-01   54.4\n",
      "841  2018-02-01   54.7\n",
      "842  2018-03-01   54.6\n",
      "843  2018-04-01   54.6\n",
      "844  2018-05-01   54.7\n",
      "845  2018-06-01   54.9\n",
      "846  2018-07-01   55.0\n",
      "\n",
      "[847 rows x 2 columns]\n"
     ]
    }
   ],
   "source": [
    "# For Q2), we will need two distinct datasets from FRED.\n",
    "# For the sake of simplicity, we have downloaded the data and stored it on a remote server.\n",
    "# This code requires the use of the Pandas library, we have abbreviated Pandas as pd (see the preamble).\n",
    "\n",
    "# URL to first data set:\n",
    "men_url = \"https://raw.githubusercontent.com/dylanjm/econ_381_development/master/data/ch07_employment_ratio_men.csv\"\n",
    "\n",
    "# Import the data and save it to a variable:\n",
    "men_emp_ratio = pd.read_csv(men_url,header=0, names=['Date', 'Men']) #the argument in the function pd.read_csv(argument) is the name of the variable.\n",
    "\n",
    "# URL to second data set:\n",
    "women_url = \"https://raw.githubusercontent.com/dylanjm/econ_381_development/master/data/ch07_employment_ratio_women.csv\"\n",
    "\n",
    "# Import the data and save it to a variable:\n",
    "women_emp_ratio = pd.read_csv(women_url,header=0, names=['Date', 'Women'])\n",
    "\n",
    "# Print both datasets:\n",
    "print(men_emp_ratio)\n",
    "print(women_emp_ratio)\n",
    "\n"
   ]
  },
  {
   "cell_type": "markdown",
   "metadata": {},
   "source": [
    "## Q2) The employment-population ratio for men and women (a FRED question)\n",
    "\n",
    "Using the data imported from __Q1)__, answer the following questions:"
   ]
  },
  {
   "cell_type": "markdown",
   "metadata": {},
   "source": [
    "__(a)__: Create one plot with two time-series, one for men and one for women. This plot shows the employment-population ratio by gender from 1948 to 2018. Please use the code from the Chapter 01 Homework __Q2)__ as a guide."
   ]
  },
  {
   "cell_type": "code",
   "execution_count": 10,
   "metadata": {},
   "outputs": [
    {
     "data": {
      "image/png": "[encoded data removed]",
      "text/plain": [
       "<Figure size 432x288 with 1 Axes>"
      ]
     },
     "metadata": {
      "needs_background": "light"
     },
     "output_type": "display_data"
    }
   ],
   "source": [
    "# See this website for an example of how the code should work\n",
    "# https://matplotlib.org/gallery/text_labels_and_annotations/date.html\n",
    "\n",
    "fig, ax = plt.subplots()\n",
    "ax.plot(men_emp_ratio.Date, men_emp_ratio.Men, label = 'Men')\n",
    "ax.plot(women_emp_ratio.Date, women_emp_ratio.Women, label = 'Women')\n",
    "ax.set(xlabel='Date', ylabel='LFPR',\n",
    "       title='Labor Force Participation Rate')\n",
    "\n",
    "\n",
    "# X-lable ticks\n",
    "years = mdates.YearLocator(10)   # every decade - YearLocator(base=1, month=1, day=1, tz=None) Make ticks on a given day of each year that is a multiple of base\n",
    "yearsFmt = mdates.DateFormatter('%y') # 2 digit year - DateFormatter syntax %Y - 4 digit year %y - 2 digit year %m - month %d - day\n",
    "\n",
    "ax.xaxis.set_major_locator(years)\n",
    "ax.xaxis.set_major_formatter(yearsFmt)\n",
    "\n",
    "# X axis range\n",
    "datemin = np.datetime64(men_emp_ratio.Date[0], 'Y')\n",
    "#datemax = np.datetime64(men_emp_ratio.Date[-1], 'Y')\n",
    "datemax = np.datetime64(men_emp_ratio.Date[846], 'Y')\n",
    "\n",
    "#ax.set_xlim(datemin, datemax)\n",
    "\n",
    "\n",
    "plt.legend()\n",
    "plt.show()"
   ]
  },
  {
   "cell_type": "markdown",
   "metadata": {},
   "source": [
    "__(b)__: What are some possible explanations for the differences between the two series between 1950 and 2000?"
   ]
  },
  {
   "cell_type": "markdown",
   "metadata": {},
   "source": [
    "During the post– World War II baby boom many women\n",
    "left the labor force and re entered after their children had\n",
    "grown. The stagflation events of the 1970s further caused\n",
    "women to enter the labor force to maintain family living\n",
    "standards."
   ]
  },
  {
   "cell_type": "markdown",
   "metadata": {},
   "source": [
    "__(c)__: What might explain the change in the trend of women's employment since 2000?"
   ]
  },
  {
   "cell_type": "markdown",
   "metadata": {},
   "source": [
    "Since 2000, the trend for women has flattened out, where\n",
    "about 55 percent of the female population is working. This\n",
    "could be due to a lack of job opportunities for women, as the\n",
    "employment growth stagnated in the first de cade of the\n",
    "twenty- first century."
   ]
  },
  {
   "cell_type": "markdown",
   "metadata": {},
   "source": [
    "## Q3) How much is a college education worth?\n",
    "\n",
    "In the text, we supposed a college education raised a person's wage by \\\\$30,000 per year, from \\\\$40,000 to \\\\$70,000. Assume the relevant interest rate is 3\\%, there is no growth in wages, and you are expected to retire at 65 years old after you graduate high-school."
   ]
  },
  {
   "cell_type": "markdown",
   "metadata": {},
   "source": [
    "__(a)__: Suppose you are a 18 year old graduating high school senior deciding whether or not to go to college. What is the present discounted value of your labor earnings if you chose not to attend college?"
   ]
  },
  {
   "cell_type": "code",
   "execution_count": 40,
   "metadata": {},
   "outputs": [
    {
     "name": "stdout",
     "output_type": "stream",
     "text": [
      "Present Discouted Value of High School Graduate: $1,031,017.96\n"
     ]
    }
   ],
   "source": [
    "hs_wage = 40000\n",
    "col_wage = 70000\n",
    "col_cost = 20000\n",
    "r= 0.03\n",
    "ret_age = 65\n",
    "age = 18\n",
    "col_lenght = 4\n",
    "\n",
    "def pdv_annuity(pmt, nper, r):\n",
    "    '''\n",
    "    This function uses the constant annuity formula from Lecture 4 - Chapter 7, Slide 19\n",
    "    Arguments:\n",
    "        pmt: constant initial payment\n",
    "        nper: number of periods\n",
    "        r: interest rate in decimals    \n",
    "    '''\n",
    "    pdv = pmt * (1-(1 / (1 + r)) ** nper) / (1 - (1 / (1 + r)))\n",
    "    return pdv\n",
    "\n",
    "pdv_hs=pdv_annuity(hs_wage, ret_age-age, r)\n",
    "print('Present Discouted Value of High School Graduate, r=3%:','${:,.2f}'.format(pdv_hs) )\n"
   ]
  },
  {
   "cell_type": "markdown",
   "metadata": {},
   "source": [
    "__(b)__ What is the present discounted value of your labor earnings if you chose to attend college?"
   ]
  },
  {
   "cell_type": "code",
   "execution_count": 41,
   "metadata": {},
   "outputs": [
    {
     "name": "stdout",
     "output_type": "stream",
     "text": [
      "Present Discouted Value of College Graduate: $1,536,278.64\n"
     ]
    }
   ],
   "source": [
    "def pdv_simple(fv, nper, r):\n",
    "    '''\n",
    "    This function uses the simple present value formula with 1 period compounding\n",
    "    Arguments:\n",
    "    fv: future value of sum of money\n",
    "    nper: time elapsed from present to future\n",
    "    r: interest rate in decimals\n",
    "    '''\n",
    "    pdv = fv/(1+r)**nper\n",
    "    return pdv\n",
    "\n",
    "# Assuming you will be in college for four years, we need to find the present discounted value of your future wages after graduation and \n",
    "# discount it to present day.\n",
    "\n",
    "pdv_col=pdv_simple(pdv_annuity(col_wage, ret_age-age-col_lenght, r), col_lenght, r)\n",
    "\n",
    "print('Present Discouted Value of College Graduate, r=3%:', '${:,.2f}'.format(pdv_col) ) # :, ads comma as thousands separator, .2f limits the string to two decimal places"
   ]
  },
  {
   "cell_type": "markdown",
   "metadata": {},
   "source": [
    "__(c)__ What is the present discounted value of 4 years of your labor income if you forgo college and start work immediately?"
   ]
  },
  {
   "cell_type": "code",
   "execution_count": 42,
   "metadata": {},
   "outputs": [
    {
     "name": "stdout",
     "output_type": "stream",
     "text": [
      "Present Discounted Value of the Opportunity Cost of College: $153,144.45\n"
     ]
    }
   ],
   "source": [
    "\n",
    "pdv_op_cost=pdv_annuity(hs_wage, col_lenght, r)\n",
    "print('Present Discounted Value of the Opportunity Cost of College, r=3%:','${:,.2f}'.format(pdv_op_cost) )"
   ]
  },
  {
   "cell_type": "markdown",
   "metadata": {},
   "source": [
    "__(d)__: Suppose that college costs \\\\$20,000 per year. What is the present discounted value of your college education expenses?"
   ]
  },
  {
   "cell_type": "code",
   "execution_count": 43,
   "metadata": {},
   "outputs": [
    {
     "name": "stdout",
     "output_type": "stream",
     "text": [
      "Present Discounted Value of the Cost of College: $76,572.23\n"
     ]
    }
   ],
   "source": [
    "pdv_col_cost=pdv_annuity(col_cost, col_lenght, r)\n",
    "print('Present Discounted Value of the Cost of College, r=3%:','${:,.2f}'.format(pdv_col_cost) )"
   ]
  },
  {
   "cell_type": "markdown",
   "metadata": {},
   "source": [
    "__(e)__: What is the net present discounted value of a college education under these assumptions? "
   ]
  },
  {
   "cell_type": "code",
   "execution_count": 44,
   "metadata": {},
   "outputs": [
    {
     "name": "stdout",
     "output_type": "stream",
     "text": [
      "Present Net Discounted Value of a College Education: $428,688.45\n"
     ]
    }
   ],
   "source": [
    "pdv_net_col=pdv_col-pdv_col_cost-pdv_hs\n",
    "print('Present Net Discounted Value of a College Education, r=3%:','${:,.2f}'.format(pdv_net_col))"
   ]
  },
  {
   "cell_type": "markdown",
   "metadata": {},
   "source": [
    "__(f)__ Now, suppose that the relevant interest rate increases to 8\\%. How does that change the net present discounted value of your college education? What if instead the cost of attending college doubled? Please discuss your findings."
   ]
  },
  {
   "cell_type": "code",
   "execution_count": 48,
   "metadata": {},
   "outputs": [
    {
     "name": "stdout",
     "output_type": "stream",
     "text": [
      "Present Discounted Value of a College Education r=8%: $72,183.54\n"
     ]
    }
   ],
   "source": [
    "hs_wage = 40000\n",
    "col_wage = 70000\n",
    "col_cost = 20000\n",
    "r= 0.08\n",
    "ret_age = 65\n",
    "age = 18\n",
    "col_lenght = 4\n",
    "\n",
    "pdv_hs=pdv_annuity(hs_wage, ret_age-age, r)\n",
    "pdv_col=pdv_simple(pdv_annuity(col_wage, ret_age-age-col_lenght, r), col_lenght, r)\n",
    "pdv_op_cost=pdv_annuity(hs_wage, col_lenght, r)\n",
    "pdv_col_cost=pdv_annuity(col_cost, col_lenght, r)\n",
    "\n",
    "pdv_net_col=pdv_col-pdv_col_cost-pdv_hs\n",
    "print('Present Discounted Value of a College Education r=8%:','${:,.2f}'.format(pdv_net_col))"
   ]
  },
  {
   "cell_type": "markdown",
   "metadata": {},
   "source": [
    "There is an inverse relationship bewteen the present value of a future sum and the interest rate. The higher the interest rate, the lower the present value of a future sum of money. If interest rates were high, the future income earned by a college degree will be discouted more heavily, making it less valuable. \n",
    "\n",
    "Note that the interest rate in these calculations is the real interest rate. "
   ]
  },
  {
   "cell_type": "markdown",
   "metadata": {},
   "source": [
    "__(g)__ Statistically, workers with higher education levels work longer than unskilled workers. Suppose that you only work until 60 years old if keep your highschool degree, but work until 65 years old if you get a college degree. How does differences in lenght of working life affect the net discounted value of your college education?"
   ]
  },
  {
   "cell_type": "code",
   "execution_count": 51,
   "metadata": {},
   "outputs": [
    {
     "name": "stdout",
     "output_type": "stream",
     "text": [
      "Present Discounted Value of a College Education r=8%: $78,990.50\n",
      "Present Discounted Value of a College Education r=3%: $483,210.41\n"
     ]
    }
   ],
   "source": [
    "hs_wage = 40000\n",
    "col_wage = 70000\n",
    "col_cost = 20000\n",
    "r= 0.08\n",
    "ret_age_col = 65\n",
    "ret_age_hs = 60\n",
    "age = 18\n",
    "col_lenght = 4\n",
    "\n",
    "pdv_hs = pdv_annuity(hs_wage, ret_age_hs-age, r)\n",
    "pdv_col = pdv_simple(pdv_annuity(col_wage, ret_age_col-age-col_lenght, r), col_lenght, r)\n",
    "pdv_op_cost = pdv_annuity(hs_wage, col_lenght, r)\n",
    "pdv_col_cost = pdv_annuity(col_cost, col_lenght, r)\n",
    "\n",
    "pdv_net_col = pdv_col-pdv_col_cost-pdv_hs\n",
    "print('Present Discounted Value of a College Education r=8%:','${:,.2f}'.format(pdv_net_col))\n",
    "\n",
    "hs_wage = 40000\n",
    "col_wage = 70000\n",
    "col_cost = 20000\n",
    "r= 0.03\n",
    "ret_age_col = 65\n",
    "ret_age_hs = 60\n",
    "age = 18\n",
    "col_lenght = 4\n",
    "\n",
    "pdv_hs = pdv_annuity(hs_wage, ret_age_hs-age, r)\n",
    "pdv_col = pdv_simple(pdv_annuity(col_wage, ret_age_col-age-col_lenght, r), col_lenght, r)\n",
    "pdv_op_cost = pdv_annuity(hs_wage, col_lenght, r)\n",
    "pdv_col_cost = pdv_annuity(col_cost, col_lenght, r)\n",
    "\n",
    "pdv_net_col=pdv_col-pdv_col_cost-pdv_hs\n",
    "print('Present Discounted Value of a College Education r=3%:','${:,.2f}'.format(pdv_net_col))\n"
   ]
  },
  {
   "cell_type": "markdown",
   "metadata": {},
   "source": [
    "The NPDV of a college education increases roughly by $\\$6,000$ when interest rates are $8\\%$, and by $\\$55,000$ when interest rates are $3\\%$"
   ]
  }
 ],
 "metadata": {
  "kernelspec": {
   "display_name": "Python 3",
   "language": "python",
   "name": "python3"
  },
  "language_info": {
   "codemirror_mode": {
    "name": "ipython",
    "version": 3
   },
   "file_extension": ".py",
   "mimetype": "text/x-python",
   "name": "python",
   "nbconvert_exporter": "python",
   "pygments_lexer": "ipython3",
   "version": "3.7.0"
  }
 },
 "nbformat": 4,
 "nbformat_minor": 2
}
