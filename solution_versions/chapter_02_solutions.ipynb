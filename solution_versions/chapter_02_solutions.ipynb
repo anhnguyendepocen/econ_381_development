{
 "cells": [
  {
   "cell_type": "markdown",
   "metadata": {},
   "source": [
    "# Chapter 02 Exercises\n",
    "## SOLUTIONS\n",
    "## 1/16/2019"
   ]
  },
  {
   "cell_type": "markdown",
   "metadata": {},
   "source": [
    "## 1) Real versus nominal GDP (A FRED Question): \n",
    "\n",
    "Using the FRED database, locate the data on real and nominal GDP for the US economy. You may notice that there are both annual and quarterly data available. For the purpose of this question, let's stick with the annual data. The easy way to find this is to type \"annual nominal GDP\" and \"annual real GDP\" into the FRED search box. \n",
    "\n",
    "__Note:__ _In future assignments you will be required to write code that will read and import this data into Python. For now, lets explore FRED, the main data source for this course. You can find more infromation about FRED in the \"Case Study\" on page 34 of your textbook_"
   ]
  },
  {
   "cell_type": "markdown",
   "metadata": {},
   "source": [
    "__a)__ What is the value of real GDP and nominal GDP for the most recent year available? Explain why these numbers are different."
   ]
  },
  {
   "cell_type": "markdown",
   "metadata": {},
   "source": [
    "Answer: Real GDP 2017 is $\\$18,050$ billion; nominal GDP 2017 is $\\$19,485$ billion. Using chained 2012 dollars.\n",
    "\n",
    "__Explanation:__\n",
    "Nominal GDP is calculated using current prices, Real GDP is calculated using base year prices or the Fisher Index. Unless the latest year in the data is also the base or the reference year, they would be different"
   ]
  },
  {
   "cell_type": "markdown",
   "metadata": {},
   "source": [
    "__b)__ What was the value of real GDP and nominal GDP in 1970?\n"
   ]
  },
  {
   "cell_type": "markdown",
   "metadata": {},
   "source": [
    "Answer: Real GDP 1970 is $\\$4,951$ billion; nominal GDP 1970 is $\\$1075.9$ billion. Using chained 2012 dollars.\n"
   ]
  },
  {
   "cell_type": "markdown",
   "metadata": {},
   "source": [
    "__c:__ Using Python to do your calculations, by what factor did real GDP increase between 1970 and the most recent year? What about nominal GDP? _Note:_ Make sure you use `print()` to display the output. "
   ]
  },
  {
   "cell_type": "code",
   "execution_count": 4,
   "metadata": {},
   "outputs": [
    {
     "name": "stdout",
     "output_type": "stream",
     "text": [
      "3.6456753853865944\n",
      "18.12558139534884\n"
     ]
    }
   ],
   "source": [
    "# Real GDP factor\n",
    "print(18050.694/4951.262)\n",
    "\n",
    "# Nominal GDP factor\n",
    "print(19485/1075)\n"
   ]
  },
  {
   "cell_type": "markdown",
   "metadata": {},
   "source": [
    "__d)__ What explains the difference between the two numbers in part (c)?\n"
   ]
  },
  {
   "cell_type": "markdown",
   "metadata": {},
   "source": [
    "Explanation: The difference between these two numbers is inflation. Between those two periods there has been about a five-fold increase in the GDP deflator. "
   ]
  },
  {
   "cell_type": "markdown",
   "metadata": {},
   "source": [
    "## Q2) What counts as GDP?\n",
    "\n",
    "By how much does GDP rise in each of the following scenarios? Explain"
   ]
  },
  {
   "cell_type": "markdown",
   "metadata": {},
   "source": [
    "__a)__ You spend $5,000 on college tuition this semester."
   ]
  },
  {
   "cell_type": "markdown",
   "metadata": {},
   "source": [
    "__b)__ You buy a used car from a friend for $2,500."
   ]
  },
  {
   "cell_type": "markdown",
   "metadata": {},
   "source": [
    "__c)__ The government spends $100 million to build a dam. "
   ]
  },
  {
   "cell_type": "markdown",
   "metadata": {},
   "source": [
    "__d)__ Foreign graduate students work as teaching assistants at the local university and earn $5,000 each. "
   ]
  },
  {
   "cell_type": "markdown",
   "metadata": {},
   "source": [
    "__Answer to a-d:__ This is a worked exercise, the answer is printed on your texbook at the end of Chapter 2"
   ]
  },
  {
   "cell_type": "markdown",
   "metadata": {},
   "source": [
    "## Q3) How large is the economy of India?\n",
    "Indian GDP in 2014 was 119 trillion rupees, while US GDP was $16.5 trillion. The exchange rate in 2014 was 61.0 ruppes per dollar. India turns out to have lower prices than the United States (this is true more generally for poor countries): the price level in India (converted to dollars) divided by the price level in the United States was 0.280 in 2014."
   ]
  },
  {
   "cell_type": "markdown",
   "metadata": {},
   "source": [
    "__a)__ What is the ratio of Indian GDP to US GDP if we don't take into account the differences in relative prices and simply use the exchange rate to make the conversion?"
   ]
  },
  {
   "cell_type": "markdown",
   "metadata": {},
   "source": [
    "Answer: Without taking relative price differences into account, India’s economy is 11.8 percent the size of the U.S. economy\n",
    "$\\frac{(119\\; \\mbox{trillion rupees}/61)}{16.5 \\;\\mbox{trillion}} =\\frac{\\$1.95}{\\$16.5}$\n",
    "trillion."
   ]
  },
  {
   "cell_type": "markdown",
   "metadata": {},
   "source": [
    "__b)__ What is the ratio of real GDP in India to real GDP in the Unites States in common prices?\n"
   ]
  },
  {
   "cell_type": "markdown",
   "metadata": {},
   "source": [
    "Answer: Given that prices in the United States are higher by a factor of $3.57= 1/.28$, and India’s GDP in U.S dollars in U.S\n",
    "prices equals $\\$1.95$ trillion, India’s GDP in U.S. prices is $\\$1.95 × 3.57 = \\$6.96$ trillion. Taking relative price differences\n",
    "into account, India’s economy is $42.2$ percent of the U.S. economy ($\\$6.96$ trillion/$\\$16.5$ trillion)."
   ]
  },
  {
   "cell_type": "markdown",
   "metadata": {},
   "source": [
    "__c)__ Why are these two numbers different?"
   ]
  },
  {
   "cell_type": "markdown",
   "metadata": {},
   "source": [
    "The numbers are different because many consumer goods— food, haircuts, and medical visits— are very cheap in India when you are measuring in U.S. dollars. This is usually true in poor countries. As we see in Chapter 20, when we look at The Economist’s “Big Mac Index” of exchange rates, the same McDonald’s hamburger is much cheaper in poor countries than in rich countries when you compare prices in U.S. dollars. Wages, rents, and taxes cost less in poor countries, which makes it cheaper to produce a hamburger or a haircut or even a doctor’s visit. That means that although India is a very poor country, the Indian economy is not one- tenth the size of the U.S. economy. It is closer to one- third."
   ]
  },
  {
   "cell_type": "markdown",
   "metadata": {},
   "source": [
    "## Q4) Earthquakes and GDP\n",
    "Suppose the rual part of a country is hit by a major earthquake that destroys 10 percent of the country's housing stock. The government and private sector respond with a major construction effort to help rebuild houses. Discusss how this episode is likely to affect the two factors below: (please include any math needed to prove your point.)\n",
    "\n",
    "__(a)__ the economic well-being of the people in the country"
   ]
  },
  {
   "cell_type": "markdown",
   "metadata": {},
   "source": [
    "If fewer people have homes, then the average person\n",
    "must be worse off when it comes to homeownership— after\n",
    "all, now people must share homes or live in less desirable\n",
    "places. People will be working to rebuild things that they\n",
    "already had before. This is a loss, not a benefi t. It is likely\n",
    "that if there hadn’t been an earthquake, most of the people\n",
    "rebuilding these lost homes would have been able to build\n",
    "something new and valuable, rather than rebuilding something\n",
    "old and valuable."
   ]
  },
  {
   "cell_type": "markdown",
   "metadata": {},
   "source": [
    " __(b)__ the economy's measured GDP."
   ]
  },
  {
   "cell_type": "markdown",
   "metadata": {},
   "source": [
    "Measured GDP will likely rise— people will want to work\n",
    "hard and quickly to rebuild homes, or they will pay a high\n",
    "price to have other workers rebuild their homes. These wages\n",
    "for workers and purchases of materials (which are mostly\n",
    "wages for other workers, probably) all show up in GDP.\n",
    "This question illustrates a famous parable in economics,\n",
    "the “fallacy of the broken window.” If a person breaks a\n",
    "shop window, the shop owner must pay to repair that window.\n",
    "If we only look at the direct effect, we will only notice\n",
    "that the person who broke the window has “created new\n",
    "jobs” in the windowmaking industry. That’s true, but what\n",
    "we don’t see is that if the window hadn’t been broken, the\n",
    "shop owner would have bought a new suit later that week.\n",
    "Now, he doesn’t get the suit since he must replace his window.\n",
    "So, he would’ve “created new jobs” in the suitmaking\n",
    "industry, but now he won’t get that new and valuable suit.\n",
    "Instead, he’ll spend his scarce dollars replacing something\n",
    "old and valuable.\n",
    "So, our earthquake is like the broken window: workers\n",
    "who could have created something new instead must replace\n",
    "something. It would have been better for citizens if the earthquake\n",
    "had not happened."
   ]
  }
 ],
 "metadata": {
  "kernelspec": {
   "display_name": "Python 3",
   "language": "python",
   "name": "python3"
  },
  "language_info": {
   "codemirror_mode": {
    "name": "ipython",
    "version": 3
   },
   "file_extension": ".py",
   "mimetype": "text/x-python",
   "name": "python",
   "nbconvert_exporter": "python",
   "pygments_lexer": "ipython3",
   "version": "3.7.0"
  }
 },
 "nbformat": 4,
 "nbformat_minor": 2
}
