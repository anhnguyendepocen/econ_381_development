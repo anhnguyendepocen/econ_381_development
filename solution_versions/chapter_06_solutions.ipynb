{
 "cells": [
  {
   "cell_type": "markdown",
   "metadata": {},
   "source": [
    "# Chapter 06 Exercises\n",
    "\n",
    "## Name goes here\n",
    "\n",
    "### Date"
   ]
  },
  {
   "cell_type": "code",
   "execution_count": 83,
   "metadata": {},
   "outputs": [],
   "source": [
    "# Insert the Python Libraries You Will Need Here:\n",
    "import numpy as np\n",
    "import matplotlib.pyplot as plt\n",
    "import pandas as pd"
   ]
  },
  {
   "cell_type": "markdown",
   "metadata": {},
   "source": [
    "## Q1) Implementing the Romer Model using Python\n",
    "\n",
    "Unlike the Solow Model, the Romer model incorporates the difference between ideas and ojects into the model. Ideas such as intellectual property and R&D can play a big role in sustained growth as we will show through different changes to the Romer model throughout this assignment.\n",
    "\n",
    "### Part I\n",
    "\n",
    "| Description             | Formula                           |\n",
    "|-------------------------|-----------------------------------|\n",
    "| Unknowns/endogenous variables:     | $Y_t$, $A_t$, $L_{yt}$, $L_{at}$| \n",
    "| Output Production Function: | $Y_t = A_tL_{yt}$|\n",
    "| Idea Production Function:   | $\\Delta A_{t+1}=\\bar{z}A_tL_{at}$ |\n",
    "| Resource Constraint: | $L_{yt}+L_{at}=\\bar{L}$ |\n",
    "| Allocation of Labor: | $L_{at} = \\bar{\\ell}\\bar{L}$ |\n",
    "| Parameters: | $\\bar{z}, \\bar{L}, \\bar{\\ell}, \\bar{A_0}$ |\n",
    "\n",
    "Suppose the parameters of the Romer model take the following values: $\\bar{A_0} = 100$, $\\bar{\\ell} = 0.10$, $\\bar{z} = \\frac{1}{500}$, and $\\bar{L} = 100$.\n",
    "\n",
    "__(a):__ What is the growth rate of output per person in this economy? Please show your work."
   ]
  },
  {
   "cell_type": "markdown",
   "metadata": {},
   "source": [
    "__Answer:__\n",
    "\n",
    "We know from the Romer model that the growth rate is constant and equal to $\\bar{g} = \\bar{z}\\bar{\\ell}\\bar{L}$ (pg. 151 of textbook). Therefore, \n",
    "\n",
    "\\begin{align*}\n",
    "\\bar{g} &= \\bar{z}\\bar{\\ell}\\bar{L}\\\\\n",
    "&= \\left(\\frac{1}{500}\\right)(0.10)(100)\\\\\n",
    "&= .02\n",
    "\\end{align*}\n",
    "\n"
   ]
  },
  {
   "cell_type": "markdown",
   "metadata": {},
   "source": [
    "__(b):__ What is the initial level of output per person? See equation 6.9 (pg. 149 of the textbook)"
   ]
  },
  {
   "cell_type": "code",
   "execution_count": 133,
   "metadata": {},
   "outputs": [
    {
     "name": "stdout",
     "output_type": "stream",
     "text": [
      "Answer:  90.0\n"
     ]
    }
   ],
   "source": [
    "# Model Parameters\n",
    "\n",
    "A0 = 100\n",
    "l_bar = 0.1\n",
    "z_bar = 1/500\n",
    "L_bar = 100\n",
    "\n",
    "# Using the calculations from part (a)\n",
    "g_bar = .02\n",
    "\n",
    "# Output per Person\n",
    "\n",
    "y = A0 * (1 - l_bar) * (1 + g_bar)**0\n",
    "print('Answer: ', y)\n"
   ]
  },
  {
   "cell_type": "markdown",
   "metadata": {},
   "source": [
    "__(c):__ Use the Romer framework to model output per person over 100 years and make a time series plot. (_Hint_: We did exactlythe same thing in the homework for Chapter 5. See Q5) part (c))"
   ]
  },
  {
   "cell_type": "code",
   "execution_count": 129,
   "metadata": {},
   "outputs": [
    {
     "data": {
      "image/png": "[encoded data removed]",
      "text/plain": [
       "<matplotlib.figure.Figure at 0x24247c87b00>"
      ]
     },
     "metadata": {},
     "output_type": "display_data"
    }
   ],
   "source": [
    "# Use a lambda function for output and call it using a for loop\n",
    "\n",
    "# Defining the lambda function. This is the same as using def but shorter.\n",
    "# Using a lambda function is great for short formulas.\n",
    "output = lambda A0, l_bar, g_bar, t: A0 * (1 - l_bar) * ((1 + g_bar)**t)\n",
    "\n",
    "\n",
    "##############################################################################\n",
    "# Make a for loop to calculate the production for each year\n",
    "\n",
    "output_array = np.zeros(101) # An array full of zeros, this is storage for data in the loop\n",
    "\n",
    "# Using a for loop to calcuate the rest of the years 1-100. \n",
    "# Remember when using range(0:100) endpoints are not included, thus it will not reach year 100 unless you do\n",
    "# range(0, 101)\n",
    "for i in range(0,101):\n",
    "    t = i\n",
    "    output_array[i] = output(A0, l_bar, g_bar, t)\n",
    "###############################################################################\n",
    "# Make a plot\n",
    "year = np.arange(0, 101, 1) # This is just used to make a nice array for the x axis\n",
    "\n",
    "plt.plot(year, output_array)\n",
    "plt.xlabel('Year')\n",
    "plt.ylabel('Output')\n",
    "plt.title('Output Over Time')\n",
    "plt.show()\n"
   ]
  },
  {
   "cell_type": "markdown",
   "metadata": {},
   "source": [
    "__(d):__ Suppose the share or workers dedicated to research were to double at $t=50$. Please answer __(a)__ and __(b)__ using this new information? Add this change to the graph of part __(c)__. You will now have two 100-year paths for each variable on one plot. Make sure your time series for this question has a different color and that your plot includes a legend indicating which parameter values belong to which variable path. Please discuss the effect on output generated by the change in the allocation of labor in this economy."
   ]
  },
  {
   "cell_type": "code",
   "execution_count": 134,
   "metadata": {},
   "outputs": [
    {
     "name": "stdout",
     "output_type": "stream",
     "text": [
      "The new growth rate would be:  0.04\n",
      "Inital Level of Output:  90.0\n"
     ]
    },
    {
     "data": {
      "image/png": "[encoded data removed]",
      "text/plain": [
       "<matplotlib.figure.Figure at 0x24247d06550>"
      ]
     },
     "metadata": {},
     "output_type": "display_data"
    }
   ],
   "source": [
    "# Insert Python Code Here:\n",
    "\n",
    "L_bar2 = (L_bar * 2) \n",
    "\n",
    "##########################################################################\n",
    "# Part (a): find the growth rate\n",
    "##########################################################################\n",
    "g_bar2 = z_bar * l_bar * L_bar2\n",
    "print('The new growth rate would be: ', g_bar2)\n",
    "\n",
    "##########################################################################\n",
    "# Part (b): The initial level of output per person\n",
    "##########################################################################\n",
    "print('Inital Level of Output: ', output(A0, l_bar, g_bar, 0))\n",
    "\n",
    "##########################################################################\n",
    "# Part (c): Make a plot of 100 years of output\n",
    "##########################################################################\n",
    "\n",
    "output_array2 = np.zeros(101)\n",
    "\n",
    "for i in range(0, 101):\n",
    "    t = i\n",
    "    \n",
    "    if t < 50:\n",
    "        output_array2[i] = output(A0, l_bar, g_bar, t)\n",
    "    else:\n",
    "        output_array2[i] = output(A0, l_bar, g_bar2, t)\n",
    "\n",
    "        \n",
    "plt.plot(year, output_array, label = 'Growth = 0.2')\n",
    "plt.plot(year, output_array2, label = 'Growth = 0.4')\n",
    "plt.legend()\n",
    "plt.xlabel('Year')\n",
    "plt.ylabel('Output')\n",
    "plt.title('Output Over Time')\n",
    "plt.show()\n",
    "\n"
   ]
  },
  {
   "cell_type": "markdown",
   "metadata": {},
   "source": [
    "__Answer__ \n",
    "\n",
    "Discuss: \n",
    "\n",
    "By by increasing the share of researchers the labor force has increased which has an impact on the growth rate. Becuase the growth rate increased at year 50 the output has increased and is faster than the original time series."
   ]
  },
  {
   "cell_type": "markdown",
   "metadata": {},
   "source": [
    "### Part II\n",
    "\n",
    "Now suppose the parameters of the model take the following values $\\bar{A_0} = 100$, $\\bar{\\ell} = 0.06$, $\\bar{z} = \\frac{1}{3000}$, and $\\bar{L} = 1000$. Use Python to answer __(a)__ through __(c)__.\n",
    "\n",
    "__(a):__ What is the growth rate of output per person in this economy? What is the initial level of output per person?"
   ]
  },
  {
   "cell_type": "code",
   "execution_count": 135,
   "metadata": {},
   "outputs": [
    {
     "name": "stdout",
     "output_type": "stream",
     "text": [
      "The growth rate is:  0.019999999999999997\n",
      "Inital Level of Output:  94.0\n"
     ]
    }
   ],
   "source": [
    "A_0 = 100\n",
    "l = .06\n",
    "z = 1/3000\n",
    "L = 1000\n",
    "\n",
    "g = z * l * L\n",
    "print('The growth rate is: ', g)\n",
    "print('Inital Level of Output: ',  output(A_0, l, g, 0))\n"
   ]
  },
  {
   "cell_type": "markdown",
   "metadata": {},
   "source": [
    "__(b):__  Use the Romer framework to model output per person over 100 years and make a time series plot."
   ]
  },
  {
   "cell_type": "code",
   "execution_count": 136,
   "metadata": {},
   "outputs": [
    {
     "data": {
      "image/png": "[encoded data removed]",
      "text/plain": [
       "<matplotlib.figure.Figure at 0x24247d0c2e8>"
      ]
     },
     "metadata": {},
     "output_type": "display_data"
    }
   ],
   "source": [
    "# Insert Python Code Here:\n",
    "\n",
    "output_array = np.zeros(101)\n",
    "\n",
    "for i in range(0, 101):\n",
    "    t = i\n",
    "    output_array[i] = output(A_0, l, g, t)\n",
    "\n",
    "plt.plot(year, output_array)\n",
    "plt.xlabel('Year')\n",
    "plt.ylabel('Output')\n",
    "plt.title('Output Over Time')\n",
    "plt.show()"
   ]
  },
  {
   "cell_type": "markdown",
   "metadata": {},
   "source": [
    "__(c):__ Now add to your plot from part __(b)__ the following changes one at a time: a doubling of the initial stock of knowledge $\\bar{A_0}$ at $t=20$, a doubling of the research share $\\bar{\\ell}$ at $t=40$, a doubling of research productivity $\\bar{z}$ at $t=60$, and a doubling of the population $\\bar{L}$ at $t=80$. You should now have a total of 5 separate time series on the same plot. Make sure each line has a different color and your plot has a legend indicating which path represents which change. Please, make sure to include the growth rate of output per person after the change in the legend for each scenario."
   ]
  },
  {
   "cell_type": "code",
   "execution_count": 137,
   "metadata": {},
   "outputs": [
    {
     "data": {
      "image/png": "[encoded data removed]",
      "text/plain": [
       "<matplotlib.figure.Figure at 0x24248d45470>"
      ]
     },
     "metadata": {},
     "output_type": "display_data"
    }
   ],
   "source": [
    "#################################################################################\n",
    "# A doubling of inital stock of knowledge at t  = 20 \n",
    "#################################################################################\n",
    "A_0 = 100\n",
    "l = .06\n",
    "z = 1/3000\n",
    "L = 1000\n",
    "\n",
    "g = z * l * L\n",
    "\n",
    "output_array2 = np.zeros(101)\n",
    "\n",
    "\n",
    "for i in range(0, 101):\n",
    "    t = i\n",
    "    if i == 20:\n",
    "        A_0= A_0 * 2\n",
    "    output_array2[i] = output(A_0, l, g, t)\n",
    "\n",
    "#################################################################################\n",
    "# A doubling of the research share at t = 40\n",
    "#################################################################################\n",
    "A_0 = 100\n",
    "l = .06\n",
    "z = 1/3000\n",
    "L = 1000\n",
    "\n",
    "output_array3 = np.zeros(101)\n",
    "\n",
    "\n",
    "for i in range(0, 101):\n",
    "    t = i\n",
    "    if i == 40:\n",
    "        l = l * 2\n",
    "        g = z * l * L\n",
    "    output_array3[i] = output(A_0, l, g, t)\n",
    "\n",
    "#################################################################################\n",
    "# A doubling of research productivity at t = 60\n",
    "#################################################################################\n",
    "A_0 = 100\n",
    "l = .06\n",
    "z = 1/3000\n",
    "L = 1000\n",
    "\n",
    "output_array4 = np.zeros(101)\n",
    "    \n",
    "for i in range(0, 101):\n",
    "    t = i\n",
    "    if i == 60:\n",
    "        z = z * 2\n",
    "        g = z * l * L\n",
    "    output_array4[i] = output(A_0, l, g, t)\n",
    "\n",
    "#################################################################################\n",
    "# A doubling of population at t = 80\n",
    "#################################################################################\n",
    "A_0 = 100\n",
    "l = .06\n",
    "z = 1/3000\n",
    "L = 1000\n",
    "output_array5 = np.zeros(101)\n",
    "    \n",
    "for i in range(0, 101):\n",
    "    t = i\n",
    "    if i == 80:\n",
    "        L = L * 2\n",
    "        g = z * l * L\n",
    "    output_array5[i] = output(A_0, l, g, t)\n",
    "\n",
    "plt.plot(year, output_array, label = 'Original')\n",
    "plt.plot(year, output_array2, label = 'Doubleing Stock of Knowledge')\n",
    "plt.plot(year, output_array3, label = 'Doubling Research Share')\n",
    "plt.plot(year, output_array4, label = 'Doubling Research Productivity')\n",
    "plt.plot(year, output_array5, label = 'Doubling of the Population')\n",
    "plt.legend()\n",
    "plt.xlabel('Year')\n",
    "plt.ylabel('Output')\n",
    "plt.title('Output Over Time')\n",
    "plt.show()"
   ]
  },
  {
   "cell_type": "markdown",
   "metadata": {},
   "source": [
    "__(d):__ If you could advocate one of the changes considered in part __(c)__, which would you choose? White a paragraph arguing for your choice."
   ]
  },
  {
   "cell_type": "markdown",
   "metadata": {},
   "source": [
    "__Answer:__ \n",
    "\n",
    "Doubling the population had the greatest impact under current conditions of the economy thus if more output is desired, one should advocate for this choice. "
   ]
  },
  {
   "cell_type": "markdown",
   "metadata": {},
   "source": [
    "## Q2) Intellectual property products (a FRED question)\n",
    "\n",
    "In 2015, the U.S. National Income Accounts began to \"count\" intellectual property products—such as R&D, computer software, books, music, and movies—explicitly as investment. More correctly, they had previously assumed these products were an intermediate good that depreciated fully when used to produce some other final good, but now they are included as a part of investment and GDP. Examine the data on investment in intellectual property products (IPP).\n",
    "\n",
    "__(a):__ Using the FRED database, download the data for the series with label \"Y001RE1Q156NBEA\" and create a time series plot. Follow the steps below to complete this. __Don't skip steps or this won't work!__\n",
    "\n",
    "   * In past assignments data was posted on Git Hub for you to download. This time will be different. You will be importing the data straight from a file on your computer.\n",
    "   \n",
    "   * Begin by downloading the data to your computer from FRED as instructed in part __(a)__ by selecting download and then selecting the CSV (data) option on the FRED website. The file should download with the name \"Y001RE1Q156NBEA.csv\".\n",
    "   \n",
    "   * Once you have downloaded the data you will need to locate where the data was downloaded. This will typically be in your Downloads folder on your computer. Take the .csv file from your Downloads and move it to a different folder such as a folder for this class.\n",
    "   \n",
    "   * A file path to such a folder for this class __in Windows__ might look like `C:\\Users\\Moncayo\\Documents\\BYU-I\\Fall_2018\\Econ_381`. __For Mac__, the file path might be `~/Documents/BYU-I/Fall_2018/Econ_381`. The slashes tell the computer to move into that folder. Also note that the slashes are facing a different direction for Windows and Mac, make sure to use the correct slash for your computer. __Note file paths are case sensitive!__   \n",
    "   \n",
    "   * You will use Python's Pandas package to import the data using the read csv function with the appropriate Windows or Mac file path. __Don't forget to use quotes around your file path in the funcion.__ The final file path needed to import the data might look something like this: `C:/Users/Moncayo/Documents/BYU-I/Fall 2018/Econ 381/Y001RE1Q156NBEA.csv`. __Note the slash is facing a different dirction than in bullet four, the slash must face forward when the file path is placed inside the read_csv() function.__\n",
    "   \n",
    "   * If your Pandas data import does not work you may have misspelled a word, not capitalized something that should be, put an unnecessary space, or the file path you have does not lead to where the .csv file is actually stored. Check all these things if it does not work."
   ]
  },
  {
   "cell_type": "code",
   "execution_count": 138,
   "metadata": {},
   "outputs": [
    {
     "data": {
      "text/html": [
       "<div>\n",
       "<style scoped>\n",
       "    .dataframe tbody tr th:only-of-type {\n",
       "        vertical-align: middle;\n",
       "    }\n",
       "\n",
       "    .dataframe tbody tr th {\n",
       "        vertical-align: top;\n",
       "    }\n",
       "\n",
       "    .dataframe thead th {\n",
       "        text-align: right;\n",
       "    }\n",
       "</style>\n",
       "<table border=\"1\" class=\"dataframe\">\n",
       "  <thead>\n",
       "    <tr style=\"text-align: right;\">\n",
       "      <th></th>\n",
       "      <th>DATE</th>\n",
       "      <th>Y001RE1Q156NBEA</th>\n",
       "    </tr>\n",
       "  </thead>\n",
       "  <tbody>\n",
       "    <tr>\n",
       "      <th>0</th>\n",
       "      <td>1947-01-01</td>\n",
       "      <td>0.8</td>\n",
       "    </tr>\n",
       "    <tr>\n",
       "      <th>1</th>\n",
       "      <td>1947-04-01</td>\n",
       "      <td>0.8</td>\n",
       "    </tr>\n",
       "    <tr>\n",
       "      <th>2</th>\n",
       "      <td>1947-07-01</td>\n",
       "      <td>0.8</td>\n",
       "    </tr>\n",
       "    <tr>\n",
       "      <th>3</th>\n",
       "      <td>1947-10-01</td>\n",
       "      <td>0.8</td>\n",
       "    </tr>\n",
       "    <tr>\n",
       "      <th>4</th>\n",
       "      <td>1948-01-01</td>\n",
       "      <td>0.8</td>\n",
       "    </tr>\n",
       "    <tr>\n",
       "      <th>5</th>\n",
       "      <td>1948-04-01</td>\n",
       "      <td>0.8</td>\n",
       "    </tr>\n",
       "    <tr>\n",
       "      <th>6</th>\n",
       "      <td>1948-07-01</td>\n",
       "      <td>0.8</td>\n",
       "    </tr>\n",
       "    <tr>\n",
       "      <th>7</th>\n",
       "      <td>1948-10-01</td>\n",
       "      <td>0.7</td>\n",
       "    </tr>\n",
       "    <tr>\n",
       "      <th>8</th>\n",
       "      <td>1949-01-01</td>\n",
       "      <td>0.7</td>\n",
       "    </tr>\n",
       "    <tr>\n",
       "      <th>9</th>\n",
       "      <td>1949-04-01</td>\n",
       "      <td>0.7</td>\n",
       "    </tr>\n",
       "    <tr>\n",
       "      <th>10</th>\n",
       "      <td>1949-07-01</td>\n",
       "      <td>0.7</td>\n",
       "    </tr>\n",
       "    <tr>\n",
       "      <th>11</th>\n",
       "      <td>1949-10-01</td>\n",
       "      <td>0.8</td>\n",
       "    </tr>\n",
       "    <tr>\n",
       "      <th>12</th>\n",
       "      <td>1950-01-01</td>\n",
       "      <td>0.8</td>\n",
       "    </tr>\n",
       "    <tr>\n",
       "      <th>13</th>\n",
       "      <td>1950-04-01</td>\n",
       "      <td>0.8</td>\n",
       "    </tr>\n",
       "    <tr>\n",
       "      <th>14</th>\n",
       "      <td>1950-07-01</td>\n",
       "      <td>0.7</td>\n",
       "    </tr>\n",
       "    <tr>\n",
       "      <th>15</th>\n",
       "      <td>1950-10-01</td>\n",
       "      <td>0.7</td>\n",
       "    </tr>\n",
       "    <tr>\n",
       "      <th>16</th>\n",
       "      <td>1951-01-01</td>\n",
       "      <td>0.7</td>\n",
       "    </tr>\n",
       "    <tr>\n",
       "      <th>17</th>\n",
       "      <td>1951-04-01</td>\n",
       "      <td>0.7</td>\n",
       "    </tr>\n",
       "    <tr>\n",
       "      <th>18</th>\n",
       "      <td>1951-07-01</td>\n",
       "      <td>0.7</td>\n",
       "    </tr>\n",
       "    <tr>\n",
       "      <th>19</th>\n",
       "      <td>1951-10-01</td>\n",
       "      <td>0.7</td>\n",
       "    </tr>\n",
       "  </tbody>\n",
       "</table>\n",
       "</div>"
      ],
      "text/plain": [
       "          DATE  Y001RE1Q156NBEA\n",
       "0   1947-01-01              0.8\n",
       "1   1947-04-01              0.8\n",
       "2   1947-07-01              0.8\n",
       "3   1947-10-01              0.8\n",
       "4   1948-01-01              0.8\n",
       "5   1948-04-01              0.8\n",
       "6   1948-07-01              0.8\n",
       "7   1948-10-01              0.7\n",
       "8   1949-01-01              0.7\n",
       "9   1949-04-01              0.7\n",
       "10  1949-07-01              0.7\n",
       "11  1949-10-01              0.8\n",
       "12  1950-01-01              0.8\n",
       "13  1950-04-01              0.8\n",
       "14  1950-07-01              0.7\n",
       "15  1950-10-01              0.7\n",
       "16  1951-01-01              0.7\n",
       "17  1951-04-01              0.7\n",
       "18  1951-07-01              0.7\n",
       "19  1951-10-01              0.7"
      ]
     },
     "execution_count": 138,
     "metadata": {},
     "output_type": "execute_result"
    }
   ],
   "source": [
    "# Example of importing data\n",
    "\n",
    "# Actual code may vary slightly due to different file paths\n",
    "# There are two ways to deal with slashes which can at times be problematic\n",
    "\n",
    "\n",
    "# Frist way, note the r in front of the file path inside the read_csv function\n",
    "data = pd.read_csv(r\"C:\\Users\\Andrew\\Documents\\Econ 381 Course Development\\Y001RE1Q156NBEA.csv\")\n",
    "\n",
    "# Second way, if you don't want to use the r inside of the function you have to change the direction of the slashes\n",
    "# in the file path1\n",
    "data = pd.read_csv(\"C:/Users/Andrew/Documents/Econ 381 Course Development/Y001RE1Q156NBEA.csv\")\n",
    "\n",
    "# Print the first 20 rows of the data frame\n",
    "data.head(20)"
   ]
  },
  {
   "cell_type": "markdown",
   "metadata": {},
   "source": [
    "__(b):__ What has happened to the share of GDP devoted to investment in IPP over the last 60 years. What might explain this change?"
   ]
  },
  {
   "cell_type": "code",
   "execution_count": 115,
   "metadata": {},
   "outputs": [
    {
     "data": {
      "image/png": "[encoded data removed]",
      "text/plain": [
       "<matplotlib.figure.Figure at 0x242476a7d68>"
      ]
     },
     "metadata": {},
     "output_type": "display_data"
    }
   ],
   "source": [
    "data.plot()\n",
    "plt.xlabel('Time period')\n",
    "plt.ylabel('% GDP Devoted to IPP Investment')\n",
    "plt.show()"
   ]
  },
  {
   "cell_type": "markdown",
   "metadata": {},
   "source": [
    "__Answer:__\n",
    "\n",
    "The beginning of the question notes that intellectual property products are products such as R&D, computer software, books, music, and movies. The first year in the time series is in 1947. By recognizing what intellectual property is, a logical explanation would be that there was not computer software in 1947. Further, movies and music where no where near as widely available as they are today. With the advancements of technology, the share of IPP as a percent of GDP has risen a lot since 1947."
   ]
  },
  {
   "cell_type": "markdown",
   "metadata": {},
   "source": [
    "__(c):__ Lets use the share of GDP devoted to investment in IPP as a proxy for the amount of effort that goes into research and development in a country, or $\\bar{\\ell}$. The assumption in the Romer model is that the research share is constant. Please relax this assumption and incorporate a dynamic research share parameter $\\bar{\\ell}_{t}$ into the Romer model. Use the data you obtained in part __(b)__ to create a series for your new dynamic variable $\\bar{\\ell}_{t}$ and simluate 100 years of data using $\\bar{A_0} = 100$, $\\bar{z} = \\frac{1}{3000}$, $\\alpha=1/3$ and $\\bar{L} = 1000$. Please create a plot of GDP per capital and the growth of GPD per capital over 100 years."
   ]
  },
  {
   "cell_type": "code",
   "execution_count": 145,
   "metadata": {},
   "outputs": [
    {
     "data": {
      "image/png": "[encoded data removed]",
      "text/plain": [
       "<matplotlib.figure.Figure at 0x24247c5b908>"
      ]
     },
     "metadata": {},
     "output_type": "display_data"
    },
    {
     "data": {
      "image/png": "[encoded data removed]",
      "text/plain": [
       "<matplotlib.figure.Figure at 0x2424782c908>"
      ]
     },
     "metadata": {},
     "output_type": "display_data"
    }
   ],
   "source": [
    "# Insert Python Code Here\n",
    "\n",
    "# Using the data from the FRED data frame we can assign this to l\n",
    "l = data['Y001RE1Q156NBEA']\n",
    "\n",
    "# Create a vectors of zeros to be filled in later\n",
    "new_output = np.zeros(101)\n",
    "growth = np.zeros(101)\n",
    "\n",
    "# Declare the new variables from information given\n",
    "A_0 = 100\n",
    "z = 1/3000\n",
    "L = 1000\n",
    "\n",
    "# Using a for loop calculate output\n",
    "for i in range(0, 101):\n",
    "    t = i\n",
    "    growth[i] = z * l[i] * L\n",
    "    new_output[i] = output(A_0, l[i], growth[i], t)\n",
    "\n",
    "# Create a plot of output\n",
    "    \n",
    "plt.plot(year, new_output)\n",
    "plt.xlabel('Year')\n",
    "plt.ylabel('Output')\n",
    "plt.title('Output Over Time')\n",
    "plt.show()\n",
    "\n",
    "# Create a plot of growth\n",
    "plt.plot(year, growth)\n",
    "plt.xlabel('Year')\n",
    "plt.ylabel('Growth')\n",
    "plt.title('Growth')\n",
    "plt.show()\n",
    "    \n"
   ]
  },
  {
   "cell_type": "markdown",
   "metadata": {},
   "source": [
    "__(d)__ Compare the growth rate of GDP per capita under this new assumption versus the fixed parameter version of the model.  What are the strenghts and weaknesses of each model? Please justify your answers."
   ]
  },
  {
   "cell_type": "markdown",
   "metadata": {},
   "source": [
    "__Answer:__\n",
    "\n",
    "The strength is that it allows for a more free moving and dynamic model. It better represents the variance we have in the real world where things are changing all the time."
   ]
  }
 ],
 "metadata": {
  "kernelspec": {
   "display_name": "Python 3",
   "language": "python",
   "name": "python3"
  },
  "language_info": {
   "codemirror_mode": {
    "name": "ipython",
    "version": 3
   },
   "file_extension": ".py",
   "mimetype": "text/x-python",
   "name": "python",
   "nbconvert_exporter": "python",
   "pygments_lexer": "ipython3",
   "version": "3.6.4"
  }
 },
 "nbformat": 4,
 "nbformat_minor": 2
}
