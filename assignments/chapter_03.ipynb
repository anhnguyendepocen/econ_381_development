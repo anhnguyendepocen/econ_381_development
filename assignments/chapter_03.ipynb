{
 "cells": [
  {
   "cell_type": "markdown",
   "metadata": {},
   "source": [
    "# Chapter 3 Exercises\n",
    "\n",
    "## Name goes here\n",
    "\n",
    "### Date"
   ]
  },
  {
   "cell_type": "code",
   "execution_count": 3,
   "metadata": {},
   "outputs": [],
   "source": [
    "# Libraries you will need for this assignment\n",
    "%matplotlib inline\n",
    "import numpy as np\n",
    "import pandas as pd\n",
    "import matplotlib.pyplot as plt"
   ]
  },
  {
   "cell_type": "markdown",
   "metadata": {},
   "source": [
    "## 1. Review Question\n",
    "When and where did sustained economic growth first begin? How much inequality er capity income was there throughout the counteries of  the world a thousand years ago? How much is there today?\n",
    "\n"
   ]
  },
  {
   "cell_type": "markdown",
   "metadata": {},
   "source": [
    "## 2. Review Question\n",
    "\n",
    "How much richer is the typical 40-year-old today than the typical 40-year-old 35 years ago in the United States? What about in South Korea or China?"
   ]
  },
  {
   "cell_type": "markdown",
   "metadata": {},
   "source": [
    "## 7. Growh rates of per capita GDP: \n",
    "\n",
    "**(a)** Compute the average annual growth rate of per capita GDP in each of the cases below. The levels are provided for 1980 and 2014, measured in constant 2011 dollars.\n",
    "\n",
    "Fill in the code below between each comment.\n",
    "\n",
    "\n",
    "*Hint: you will need to leverage numpy's array function to complete part (a) problem.*\n",
    "\n",
    "**(b)** Create a histogram for the percent change values in part (a). Does it appear that some values are more common than others?\n",
    "\n"
   ]
  },
  {
   "cell_type": "code",
   "execution_count": null,
   "metadata": {},
   "outputs": [],
   "source": [
    "# 7(a)\n",
    "\n",
    "# Write down the numbers as a Python list for each year as two seperate variables named `year_1980` and `year_2014`\n",
    "year_1980 = \n",
    "year_2014 = \n",
    "\n",
    "# Convert the two variables, `year_1980` and `year_2014`, into arrays. This will allow you to compute the percent change\n",
    "# for each country simultaniously\n",
    "np_1980 = \n",
    "np_2014 = \n",
    "\n",
    "# Calculate the percent change for each country using a percent change formula and store the result in a new \n",
    "# variable named `percent_chg`\n",
    "percent_chg = \n",
    "\n",
    "# Print\n",
    "print(percent_chg)"
   ]
  },
  {
   "cell_type": "code",
   "execution_count": null,
   "metadata": {},
   "outputs": [],
   "source": [
    "# 7(b)\n",
    "\n"
   ]
  },
  {
   "cell_type": "markdown",
   "metadata": {},
   "source": [
    "## 11. Computing levels: \n",
    "\n",
    "Suppose $x_t$ grows at 2% per year and $y_t$ grows at 5% per year with $x_o = 2$ and $y_o = 1$. Calculate the numerical values of $z_t$ for $t = 0, \\ t = 2,  \\ t = 10, \\ t = 17$, and $t = 35$ for the following cases:\n",
    "\n",
    "(a) $z = x$\n",
    "\n",
    "(b) $z = y$\n",
    "\n",
    "(c) $z = x^{3/4}y^{1/4}$\n",
    "\n"
   ]
  },
  {
   "cell_type": "code",
   "execution_count": null,
   "metadata": {},
   "outputs": [],
   "source": [
    "# (a)\n",
    "\n",
    "# Calculate z for each of the specified time periods\n",
    "z_0 = \n",
    "\n",
    "z_2 = \n",
    "\n",
    "z_10 = \n",
    "\n",
    "z_17 = \n",
    "\n",
    "z_35 = \n",
    "\n",
    "# Create an array named z and store all of the results of `z` for each time period in the array\n",
    "\n",
    "\n",
    "\n",
    "# Print out z\n",
    "\n",
    "\n",
    "\n",
    "# (b) Use similar process to do (b) and (c)\n",
    "\n",
    "\n",
    "# (c)\n"
   ]
  },
  {
   "cell_type": "code",
   "execution_count": null,
   "metadata": {},
   "outputs": [],
   "source": []
  }
 ],
 "metadata": {
  "kernelspec": {
   "display_name": "Python 3",
   "language": "python",
   "name": "python3"
  },
  "language_info": {
   "codemirror_mode": {
    "name": "ipython",
    "version": 3
   },
   "file_extension": ".py",
   "mimetype": "text/x-python",
   "name": "python",
   "nbconvert_exporter": "python",
   "pygments_lexer": "ipython3",
   "version": "3.6.5"
  }
 },
 "nbformat": 4,
 "nbformat_minor": 2
}
