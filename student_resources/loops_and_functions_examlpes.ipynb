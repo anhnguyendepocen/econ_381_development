{
 "cells": [
  {
   "cell_type": "markdown",
   "metadata": {},
   "source": [
    "# Loops and Functions in Python\n",
    "\n",
    "One of the most important tools in computer programming is the ability to write loops. This brief guide will show code examples for different loops and when you should use them. In addition, basic function syntax will be covered."
   ]
  },
  {
   "cell_type": "markdown",
   "metadata": {},
   "source": [
    "# Loops"
   ]
  },
  {
   "cell_type": "markdown",
   "metadata": {},
   "source": [
    "#### For Loop\n",
    "\n",
    "Use a for loop when you know the start and stop point as well as how many iterations you want to run."
   ]
  },
  {
   "cell_type": "code",
   "execution_count": null,
   "metadata": {},
   "outputs": [],
   "source": [
    "# Examples of basic syntax. \n",
    "\n",
    "# Example 1\n",
    "import numpy as np\n",
    "\n",
    "for i in range(1, 5): # Range is for how many times you want to loop. Endpoint, in this case 5, is not included\n",
    "    print('Loop', i)"
   ]
  },
  {
   "cell_type": "code",
   "execution_count": null,
   "metadata": {},
   "outputs": [],
   "source": [
    "# Example 2 GDP\n",
    "# A GDP forecast for 10 years\n",
    "\n",
    "year = 2018\n",
    "C = 400     # Consumption\n",
    "I = 100     # Investment\n",
    "G = 100     # Gov spending\n",
    "XM = -50    # Net exports\n",
    "\n",
    "for i in range(0, 11):\n",
    "    GDP = C + I + G + XM                       # Store the GDP calculation in a variable\n",
    "    print('GDP for', str(year) + ':', GDP)     # Print the value of GDP\n",
    "    C *= 1.04                                  # Increase consumption by 4%\n",
    "    I *= 1.02                                  # Increase investment by 2%\n",
    "    G *= .99                                     # Decrease gov spending by 1%\n",
    "    XM *= 1.02                            # Increase the magnitude of net exports (a negative number)\n",
    "    year += 1                                  # Increase the year by 1\n",
    "    \n"
   ]
  },
  {
   "cell_type": "markdown",
   "metadata": {},
   "source": [
    "#### While loops\n",
    "\n",
    "Useful if you don't know how long a loop with need to run but you have a condition that needs to be met. In this case shown below, we run until GDP while GDP is less than 1000."
   ]
  },
  {
   "cell_type": "code",
   "execution_count": null,
   "metadata": {},
   "outputs": [],
   "source": [
    "# Example 3 using wile loops until we reach a target\n",
    "year = 2000\n",
    "C = 400     # Consumption\n",
    "I = 100     # Investment\n",
    "G = 100     # Gov spending\n",
    "XM = -50    # Net exports\n",
    "\n",
    "# While loops will run until the condition is met. In this case it is until GDP is 1000.\n",
    "# Be careful you don't run into an infinite loop!\n",
    "while GDP < 1000:\n",
    "    GDP = C + I + G + XM\n",
    "    print('GDP for', str(year) + ':', GDP)   # str() is a function that converts integers to strings.\n",
    "    C *= 1.04\n",
    "    I *= 1.02\n",
    "    G *= .99\n",
    "    XM *= 1.02\n",
    "    year += 1 \n",
    "    \n"
   ]
  },
  {
   "cell_type": "markdown",
   "metadata": {},
   "source": [
    "## Functions in Python\n",
    "\n",
    "A function is another one of the most important building blocks of programming. A function, not too much different than a mathematical function, can take inputs, and then provides ideally one output. The output is called the return. In programming, it is strongly recommended, and typically the professional standard in programming, to have every function to do one and only one thing. When a function is simple and performs only one task this is called __modularization__. In python there are two kinds of functions, a __block function__, and a inline function which is usually called a __lambda function__ in Python.\n",
    "\n",
    "Functions can to three things:\n",
    "* Return one thing\n",
    "* Return nothing (i.e. do some calcultions and then print from within the function)\n",
    "* Return multiple things (not recommended) \n"
   ]
  },
  {
   "cell_type": "markdown",
   "metadata": {},
   "source": [
    "#### Block Function Example\n",
    "\n",
    "Use a block function when you have multiple lines of code."
   ]
  },
  {
   "cell_type": "code",
   "execution_count": null,
   "metadata": {},
   "outputs": [],
   "source": [
    "# Function syntax is def, name of the function, parameters, or variables that are passed into the function to be used \n",
    "# for calculations. Functions do not have to have parameters.\n",
    "\n",
    "def calculateTradeProfit(ticker, buyQ, buyP, sellQ, sellP):\n",
    "    buyCost = sellQ * buyP\n",
    "    saleRevenue = sellQ * sellP\n",
    "    return saleRevenue - buyCost\n",
    "    \n",
    "    \n",
    "ticker = 'AAPL'\n",
    "buyQ = 100\n",
    "buyP = 120\n",
    "sellQ = 50\n",
    "sellP = 200\n",
    "\n",
    "# Call the function\n",
    "print('You made $' + str(calculateTradeProfit(ticker, buyQ, buyP, sellQ, sellP)))\n",
    "\n",
    "# You can also call the function like this\n",
    "print('You made $' + str(calculateTradeProfit('AAPL', 100, 120, 50, 200)))"
   ]
  },
  {
   "cell_type": "markdown",
   "metadata": {},
   "source": [
    "#### Lambda Function Example\n",
    "\n",
    "The syntax for a lambda function is `lambda arguments: express`. Lambda functions are great if the entire function can fit on one line of code. A good example of this is the Cobb Douglas production function."
   ]
  },
  {
   "cell_type": "code",
   "execution_count": null,
   "metadata": {},
   "outputs": [],
   "source": [
    "# Define the function as follows\n",
    "cobbDouglas = lambda A, K, L, alpha: A * K ** alpha * L ** (1 - alpha)\n",
    "\n",
    "\n",
    "A = 1             # TFP (productivity)\n",
    "K = 20            # Capital\n",
    "L = 20            # Labor\n",
    "alpha = 1/3       # Allocation of labor and capital\n",
    "\n",
    "# Call the function with the variables given above\n",
    "print(cobbDouglas(A, K, L, alpha))\n",
    "\n",
    "# You can also do this\n",
    "print(cobbDouglas(1, 20, 20, 1/3))\n"
   ]
  },
  {
   "cell_type": "markdown",
   "metadata": {},
   "source": [
    "## Calling Functions From Inside a Loop\n",
    "\n",
    "The following simulates the production of an economy over 10 years by increasing the labor by 5% every year."
   ]
  },
  {
   "cell_type": "code",
   "execution_count": null,
   "metadata": {},
   "outputs": [],
   "source": [
    "A = 1                       # TFP (Total Factor Productivity)\n",
    "K = 200                     # Capital\n",
    "L = 200                     # Labor\n",
    "alpha = 1/3                 # Allocation of labor and capital\n",
    "production = np.zeros(10)   # An array of 10 zeros. For storage later on.\n",
    "\n",
    "for i in range(0, 10):\n",
    "    production[i] = cobbDouglas(A, K, L, alpha)\n",
    "    K *= 1.05   # increase capital by 2%\n",
    "\n",
    "# Print out the production for the 10 year simulation and the level of ending capital\n",
    "print('Production:\\n', production)\n",
    "print('Capital:', K)\n",
    "\n",
    "    \n"
   ]
  }
 ],
 "metadata": {
  "kernelspec": {
   "display_name": "Python 3",
   "language": "python",
   "name": "python3"
  },
  "language_info": {
   "codemirror_mode": {
    "name": "ipython",
    "version": 3
   },
   "file_extension": ".py",
   "mimetype": "text/x-python",
   "name": "python",
   "nbconvert_exporter": "python",
   "pygments_lexer": "ipython3",
   "version": "3.7.0"
  }
 },
 "nbformat": 4,
 "nbformat_minor": 2
}
