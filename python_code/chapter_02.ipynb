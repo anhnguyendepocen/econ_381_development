{
 "cells": [
  {
   "cell_type": "markdown",
   "metadata": {},
   "source": [
    "# Chapter 02 Exercises\n",
    "## Your Name Here\n",
    "## Date"
   ]
  },
  {
   "cell_type": "markdown",
   "metadata": {},
   "source": [
    "## 1) Real versus nominal GDP (A FRED Question): \n",
    "\n",
    "Using the FRED database, locate the data on real and nominal GDP for the US economy. You may notice that there are both annual and quateryly data available. For the purpose of this question, let's stick with the annual data. The easy way to find this is to type \"annual nominal GDP\" and \"annual real GDP\" into the FRED search box."
   ]
  },
  {
   "cell_type": "markdown",
   "metadata": {},
   "source": [
    "__a)__ What is the value of real GDP and nominal GDP for the most recent year available? Explain why these numbers are different.\n",
    "\n",
    "__Answer:__\n",
    "\n",
    "__b)__ What was the value of real GDP and nominal GDP in 1970?\n",
    "\n",
    "__Answer:__\n",
    "\n",
    "__c-python):__ By what factor did real GDP increase between 1970 and the most recent year? What about nominal GDP?"
   ]
  },
  {
   "cell_type": "code",
   "execution_count": 3,
   "metadata": {},
   "outputs": [],
   "source": [
    "# Insert Python Code Here"
   ]
  },
  {
   "cell_type": "markdown",
   "metadata": {},
   "source": [
    "__d)__ What explains the difference between the two numbers in part (c)?\n",
    "\n",
    "__Answer:__"
   ]
  },
  {
   "cell_type": "markdown",
   "metadata": {},
   "source": [
    "## 3) What counts as GDP?\n",
    "\n",
    "By how much does GDP rise in each of the following scenarios? Explain"
   ]
  },
  {
   "cell_type": "markdown",
   "metadata": {},
   "source": [
    "__a)__\n",
    "\n",
    "__b)__\n",
    "\n",
    "__c)__\n",
    "\n",
    "__d)__"
   ]
  },
  {
   "cell_type": "markdown",
   "metadata": {},
   "source": [
    "## 7) How large is the economy of India?\n",
    "Indian GDP in 2014 was 119 trillion rupees, while US GDP was $16.5 trillion. The exchange rate in 2014 was 61.0 ruppes per dollar. India turns out to have lower prices than the United States (this is true more generally for poor countries): the price level in India (converted to dollars) divided by the price level in the United States was 0.280 in 2014. __(Use Python to answer the questions a) & b) below)__"
   ]
  },
  {
   "cell_type": "markdown",
   "metadata": {},
   "source": [
    "__a)__ What is the ratio of Indian GDP to US GDP if we don't take into account the differences in relative prices and simply use the exchange rate to make the conversion?\n",
    "\n",
    "__Answer:__"
   ]
  },
  {
   "cell_type": "code",
   "execution_count": 1,
   "metadata": {},
   "outputs": [],
   "source": [
    "# Insert Python Code Here"
   ]
  },
  {
   "cell_type": "markdown",
   "metadata": {},
   "source": [
    "__b)__ What is the ratio of real GDP in India to real GDP in the Unites States in common prices?\n",
    "\n",
    "__Answer:__"
   ]
  },
  {
   "cell_type": "code",
   "execution_count": 2,
   "metadata": {},
   "outputs": [],
   "source": [
    "# Insert Python Code Here"
   ]
  },
  {
   "cell_type": "markdown",
   "metadata": {},
   "source": [
    "__c)__ Why are these two numbers different?\n",
    "\n",
    "__Answer:__"
   ]
  },
  {
   "cell_type": "markdown",
   "metadata": {},
   "source": [
    "## 9) Earthquakes and GDP\n",
    "Suppose the rual part of a country is hit by a major earthquake that destroys 10 percent of the country's housing stock. The government and private sector respond with a major construction effort to help rebuild houses. Discusss how this episode is likely to affect __(a)__ the economic well-being of the people in the country and __(b)__ the economy's measured GDP."
   ]
  },
  {
   "cell_type": "markdown",
   "metadata": {},
   "source": [
    "__Answer:__"
   ]
  },
  {
   "cell_type": "code",
   "execution_count": null,
   "metadata": {},
   "outputs": [],
   "source": []
  }
 ],
 "metadata": {
  "kernelspec": {
   "display_name": "Python 3",
   "language": "python",
   "name": "python3"
  },
  "language_info": {
   "codemirror_mode": {
    "name": "ipython",
    "version": 3
   },
   "file_extension": ".py",
   "mimetype": "text/x-python",
   "name": "python",
   "nbconvert_exporter": "python",
   "pygments_lexer": "ipython3",
   "version": "3.6.5"
  }
 },
 "nbformat": 4,
 "nbformat_minor": 2
}
