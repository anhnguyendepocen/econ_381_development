{
 "cells": [
  {
   "cell_type": "markdown",
   "metadata": {},
   "source": [
    "# Chapter 02 Exercises\n",
    "## Your Name Here\n",
    "## Date"
   ]
  },
  {
   "cell_type": "markdown",
   "metadata": {},
   "source": [
    "## Question 07\n",
    "\n",
    "__How Large is the economy of India?__ Indian GDP in 2014 was 119 trillion rupees, while US GDP was $16.5 trillion. The exchange rate in 2014 was 61.0 ruppes per dollar. India turns out to have lower prices than the United States (this is true more generally for poor countries): the price level in India (converted to dollars) divided by the price level in the United States was 0.280 in 2014."
   ]
  },
  {
   "cell_type": "markdown",
   "metadata": {},
   "source": [
    "__a)__ What is the ratio of Indian GDP to US GDP if we don't take into account the differences in relative prices and simply use the exchange rate to make the conversion?"
   ]
  },
  {
   "cell_type": "code",
   "execution_count": 1,
   "metadata": {},
   "outputs": [],
   "source": [
    "india_gdp = 119\n",
    "usa_gdp = 16.5\n"
   ]
  },
  {
   "cell_type": "code",
   "execution_count": null,
   "metadata": {},
   "outputs": [],
   "source": []
  },
  {
   "cell_type": "markdown",
   "metadata": {},
   "source": [
    "__b)__ What is the ratio of real GDP in India to real GDP in the Unites States in common prices?"
   ]
  },
  {
   "cell_type": "markdown",
   "metadata": {},
   "source": [
    "__c)__ Why are these two numbers different?"
   ]
  },
  {
   "cell_type": "markdown",
   "metadata": {},
   "source": [
    "## Question 09"
   ]
  },
  {
   "cell_type": "markdown",
   "metadata": {},
   "source": [
    "__Earthquakes and GDP:__ Suppose the rual part of a country is hit by a major earthquake that destroys 10 percent of the country's housing stock. The government and private sector respond with a ajor construction effort to help rebuild houses. Discusss how this episode is liely to affect (a) the economic well-being of the people in the country and (b) the economy's measured GDP. "
   ]
  },
  {
   "cell_type": "code",
   "execution_count": null,
   "metadata": {},
   "outputs": [],
   "source": []
  }
 ],
 "metadata": {
  "kernelspec": {
   "display_name": "Python 3",
   "language": "python",
   "name": "python3"
  },
  "language_info": {
   "codemirror_mode": {
    "name": "ipython",
    "version": 3
   },
   "file_extension": ".py",
   "mimetype": "text/x-python",
   "name": "python",
   "nbconvert_exporter": "python",
   "pygments_lexer": "ipython3",
   "version": "3.6.5"
  }
 },
 "nbformat": 4,
 "nbformat_minor": 2
}
