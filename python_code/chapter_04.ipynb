{
 "cells": [
  {
   "cell_type": "markdown",
   "metadata": {},
   "source": [
    "# Chapter 4 Exercises\n",
    "\n",
    "## Name Goes Here\n",
    "\n",
    "### Date"
   ]
  },
  {
   "cell_type": "code",
   "execution_count": 1,
   "metadata": {},
   "outputs": [],
   "source": [
    "# Write the code for the libraries you use to complete the assignment\n"
   ]
  },
  {
   "cell_type": "markdown",
   "metadata": {},
   "source": [
    "## Learning How to Solve Systems of Equations in Python\n",
    "\n",
    "In economics, often we want to know the solution to equalibrium values, i.e. price and quantity. To solve for these, we know that it is possible to set up a system of equations to solve for such values using two equations. As preparation for future assignments you will learn how to solve a system of equations in python. Follow the steps below to complete the task. \n",
    "\n",
    "1. **Review of Linear Algebra** \n",
    "\n",
    "    The following formula can be used to find the unknowns in a system of equations.\n",
    "$$\n",
    "Ax = b\n",
    "$$\n",
    "\n",
    "    The equation above can be manipulated and solved using rules from linear algebra to arrive at the following equation\n",
    "$$\n",
    "x = A^{-1} b \n",
    "$$\n",
    "\n",
    "    This equation says that the unknowns to a system of equations can be solved for by taking the inverse of matrix a and multiplying it by the constatns of an equation. \n",
    "\n",
    "\n",
    "2. **Video**\n",
    "\n",
    "    With those formulas in mind, watch the following video as it will teach you how to solve systems of equations in python. (Start the video from the beginning if it does not alrady do so). \n",
    "\n",
    "https://www.youtube.com/watch?time_continue=163&v=44pAWI7v5Zk\n",
    "\n",
    "3. **Solve the Following Equations**\n",
    "\n",
    "    Using the information from the video solve the following system of equations.\n",
    "\n",
    "(a)\n",
    "\\begin{align*}\n",
    "3x - y &= 7 \\\\\n",
    "2x + 3y &= 1 \n",
    "\\end{align*}\n",
    "\n",
    "(b)\n",
    "\n",
    "\\begin{align*}\n",
    "x - 2y + 3z &= 7\\\\\n",
    "2x + y + z &= 4\\\\\n",
    "-3x + 2y - 2z &= -10\n",
    "\\end{align*}\n"
   ]
  },
  {
   "cell_type": "markdown",
   "metadata": {},
   "source": [
    "## 3. The Black Death\n",
    "\n",
    "In the middle of the fourteenth century, and epidemic known as the Black Death killed about a third of Europe's population, about 34 million people. While this was an enormous tragedy, the macroeconomic consequences might surprise you: over the next century, wages are estimated to have been *higher* than before the Black Death.\n",
    "\n",
    "  **(a)** Use the production model to explain why wages might have been higher.\n",
    "  \n",
    "  **(b)** Can you attach a number to your explination? In the model, by how much would wages rise if a third of the population died from disease?"
   ]
  },
  {
   "cell_type": "code",
   "execution_count": null,
   "metadata": {},
   "outputs": [],
   "source": []
  },
  {
   "cell_type": "markdown",
   "metadata": {},
   "source": [
    "## 4. Solving the production model\n",
    "\n",
    "Suppose the production function at the core of our model is given by $ Y = \\bar{A}K^{3/4}L^{1/4}$ (that is, assume the exponents on capital and labor are $3/4$ and $1/4$ rather than $1/3$ and $2/3$).\n",
    "\n",
    "**(a)** Create a new version of Table 4.1 for the new version of the model. What are the five equations and five unknowns? (*Hint*: The hiring rules for capital and labor will change in the obvious way.)\n",
    "\n",
    "**(b)** Now solve these equations to get the solution to the model. Put your solution in the same form as Table 4.2. \n",
    "\n",
    "**(c)** What is the solution for the equalibrium level of output per person?\n"
   ]
  },
  {
   "cell_type": "markdown",
   "metadata": {},
   "source": [
    "## 5. The empirical fit of the production model\n",
    "\n",
    "The table on page 99 reports per capita GDP and capital per person in the year 2014 for 10 counteries. Your task is to fill in the missing columns of the table.\n",
    "\n",
    "**(a)** Given the values in columns 1 and 2, fill in columns 3 and 4. That is, compute per capita GDP and capital per person relative to the U.S. values. \n",
    "\n",
    "**(b)** In column 5, use the production model (with a capital exponent of $1/3$) to compute predicted per capita GDP for each country relative to the United States, assuming there are no TFP differences.\n",
    "\n",
    "**(c)** In column 6, compute the level of TFP for each country that is needed to match up the model of the data. \n",
    "\n",
    "**(d)** Comment on the general results you find. "
   ]
  },
  {
   "cell_type": "markdown",
   "metadata": {},
   "source": [
    "## 8. The labor share and Cobb-Douglas production (a FRED question)\n",
    "\n",
    "Using the FRED database, download a graph of the share of income paid to labor for the nonfarm business sector of the U.S. economy, back to 1947. (For an introduction to FRED, see the case study \"The FRED database\" in Chapter 2 on page 34). \n",
    "\n",
    "**(a)** Display this graph\n",
    "\n",
    "**(b)** The graph most likely shows an index (e.g., normalized so the value in some year is 100) rather than the share itself. Assuming the labor averaged $2/3$, approximately what value is the labor share for your most recent data point?\n",
    "\n",
    "**(c)** What does this graph suggest about the validity of our assumptions that the production function is Cobb-Douglas?"
   ]
  }
 ],
 "metadata": {
  "kernelspec": {
   "display_name": "Python 3",
   "language": "python",
   "name": "python3"
  },
  "language_info": {
   "codemirror_mode": {
    "name": "ipython",
    "version": 3
   },
   "file_extension": ".py",
   "mimetype": "text/x-python",
   "name": "python",
   "nbconvert_exporter": "python",
   "pygments_lexer": "ipython3",
   "version": "3.6.4"
  }
 },
 "nbformat": 4,
 "nbformat_minor": 2
}
