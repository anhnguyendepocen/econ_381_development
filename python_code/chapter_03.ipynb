{
 "cells": [
  {
   "cell_type": "markdown",
   "metadata": {},
   "source": [
    "# Chapter 3 Exercises\n",
    "\n",
    "## Name goes here\n",
    "\n",
    "### Date"
   ]
  },
  {
   "cell_type": "code",
   "execution_count": 8,
   "metadata": {},
   "outputs": [],
   "source": [
    "# Libraries you will need for this assignment\n",
    "%matplotlib inline\n",
    "import numpy as np\n",
    "import pandas as pd\n",
    "import matplotlib.pyplot as plt"
   ]
  },
  {
   "cell_type": "markdown",
   "metadata": {},
   "source": [
    "## 1. Review Question\n",
    "When and where did sustained economic growth first begin? How much inequality er capity income was there throughout the counteries of  the world a thousand years ago? How much is there today?\n",
    "\n"
   ]
  },
  {
   "cell_type": "markdown",
   "metadata": {},
   "source": [
    "## 2. Review Question\n",
    "\n",
    "How much richer is the typical 40-year-old today than the typical 40-year-old 35 years ago in the United States? What about in South Korea or China?"
   ]
  },
  {
   "cell_type": "markdown",
   "metadata": {},
   "source": [
    "## 7. Growh rates of per capita GDP: \n",
    "\n",
    "**(a)** Compute the average annual growth rate of per capita GDP for each of the countries on page 66. The levels are provided for 1980 and 2014, measured in constant 2011 dollars. Fill in the code below between each comment to complete this problem.\n",
    "\n",
    "*Hint: you will need to leverage numpy's array function to complete part (a) problem.*\n",
    "\n",
    "**(b)** Create a histogram for the percent change values in part (a). Does it appear that some values are more common than others?\n",
    "\n"
   ]
  },
  {
   "cell_type": "code",
   "execution_count": 9,
   "metadata": {},
   "outputs": [
    {
     "ename": "SyntaxError",
     "evalue": "invalid syntax (<ipython-input-9-ce43685f4639>, line 4)",
     "output_type": "error",
     "traceback": [
      "\u001b[1;36m  File \u001b[1;32m\"<ipython-input-9-ce43685f4639>\"\u001b[1;36m, line \u001b[1;32m4\u001b[0m\n\u001b[1;33m    year_1980 =\u001b[0m\n\u001b[1;37m                ^\u001b[0m\n\u001b[1;31mSyntaxError\u001b[0m\u001b[1;31m:\u001b[0m invalid syntax\n"
     ]
    }
   ],
   "source": [
    "# 7(a)\n",
    "\n",
    "# Write down the numbers as a Python list for each year as two seperate variables named `year_1980` and `year_2014`\n",
    "year_1980 = \n",
    "year_2014 = \n",
    "\n",
    "# Convert the two variables, `year_1980` and `year_2014`, into arrays. This will allow you to compute the percent change\n",
    "# for each country simultaniously\n",
    "np_1980 = \n",
    "np_2014 = \n",
    "\n",
    "# Calculate the percent change for each country using a percent change formula and store the result in a new \n",
    "# variable named `percent_chg`\n",
    "percent_chg = \n",
    "\n",
    "# Print\n",
    "print(percent_chg)"
   ]
  },
  {
   "cell_type": "code",
   "execution_count": null,
   "metadata": {},
   "outputs": [],
   "source": [
    "# 7(b)\n",
    "\n"
   ]
  },
  {
   "cell_type": "markdown",
   "metadata": {},
   "source": [
    "## 11. Computing levels: \n",
    "\n",
    "Suppose $x_t$ grows at 2% per year and $y_t$ grows at 5% per year with $x_o = 2$ and $y_o = 1$. Calculate the numerical values of $z_t$ for $t = 0, \\ t = 2,  \\ t = 10, \\ t = 17$, and $t = 35$ for the following cases:\n",
    "\n",
    "(a) $z = x$\n",
    "\n",
    "(b) $z = y$\n",
    "\n",
    "(c) $z = x^{3/4}y^{1/4}$\n",
    "\n"
   ]
  },
  {
   "cell_type": "code",
   "execution_count": null,
   "metadata": {},
   "outputs": [],
   "source": [
    "# (a)\n",
    "\n",
    "# Calculate z for each of the specified time periods\n",
    "z_0 = \n",
    "\n",
    "z_2 = \n",
    "\n",
    "z_10 = \n",
    "\n",
    "z_17 = \n",
    "\n",
    "z_35 = \n",
    "\n",
    "# Create an array named z and store all of the results of `z` for each time period in the array\n",
    "\n",
    "\n",
    "\n",
    "# Print out z\n",
    "\n",
    "\n",
    "\n",
    "# (b) Use similar process to do (b) and (c)\n",
    "\n",
    "\n",
    "# (c)\n"
   ]
  },
  {
   "cell_type": "markdown",
   "metadata": {},
   "source": [
    "## Practice Charting in Python\n",
    "\n",
    "a) The following data for Amazon (AMZN) has already been imported. Make use of the data already imported to create a time series plot of the stock price with time on the x-axis and price on the y-axis. Don't forget to include a proper lables on the graph including y axis and title. \n",
    "\n",
    "\n",
    "b) Compute the percent return for the stock using the numbers from the first data point in the time series and the last data point. \n"
   ]
  },
  {
   "cell_type": "code",
   "execution_count": 43,
   "metadata": {},
   "outputs": [],
   "source": [
    "# Import the data from Git Hub\n",
    "amzn = pd.read_csv('https://raw.githubusercontent.com/dylanjm/econ_381_development/master/data/AMZN.csv')\n",
    "\n",
    "# Create an x and y axis variable for plotting\n",
    "date = amzn[\"Date\"]\n",
    "close = amzn[\"Close\"]\n",
    "\n",
    "\n",
    "\n",
    "\n",
    "\n",
    "\n",
    "# Insert your code here to make the plot\n",
    "\n"
   ]
  }
 ],
 "metadata": {
  "kernelspec": {
   "display_name": "Python 3",
   "language": "python",
   "name": "python3"
  },
  "language_info": {
   "codemirror_mode": {
    "name": "ipython",
    "version": 3
   },
   "file_extension": ".py",
   "mimetype": "text/x-python",
   "name": "python",
   "nbconvert_exporter": "python",
   "pygments_lexer": "ipython3",
   "version": "3.6.4"
  }
 },
 "nbformat": 4,
 "nbformat_minor": 2
}
