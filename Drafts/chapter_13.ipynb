{
 "cells": [
  {
   "cell_type": "markdown",
   "metadata": {},
   "source": [
    "# Chapter 13 Exercises\n",
    "## Your Name Here\n",
    "## Date"
   ]
  },
  {
   "cell_type": "raw",
   "metadata": {},
   "source": [
    "We want to put the aggregate demand/supply model into the computer. First question should be putting it into the computer. A lot less hand holding, and they should now be able to create the graphs for the time-series plots. They should be able to put the time series model. Let’s decide if they will be dynamic, because we don’t want to teach them dynamic systems if it’s not in the book. Plot the static model and if we can plot the time series let’s do that too then. Even if it’s uninteresting, it’s good to have the graphs in front of us. \n",
    "\n",
    "Exercises:\n",
    "\n",
    "1. Put the model into the computer. \n",
    "2. #13\n",
    "3. #16\n",
    "4. #17\n",
    "5. #9\n",
    "6. #11\n",
    "7. #2\n",
    "\n",
    "We will see some of these questions, for example, question 11: Do the plots in Python, take the graph and change it. Compare two plots back to back (replot), so they must recreate the plot they created in the first question and create the new plot and compare them side by side. Same idea of question 09.\n",
    "\n",
    "For Question 9b, I would like to them to take few shocks, okay compare how the shocks you did in question 16, 17, look like when the agg demand curve follows taylor rule. \n",
    "\n",
    "Last problem using the model to predict future rates."
   ]
  },
  {
   "cell_type": "markdown",
   "metadata": {},
   "source": [
    "## Q1) "
   ]
  },
  {
   "cell_type": "markdown",
   "metadata": {},
   "source": [
    "## Q2)\n",
    "\n",
    "The Japanese economy at the end of the 1990s and into the 200s experienced several years of deflation (see Figure 13.19). Again, recall the monetary policy rule used in the chapter: R_t -\\bar{r} = \\bar{m}(\\pi_t-\\bar{\\pi}), were \\bar{r} = 2\\%, \\bar{m} = 1/2, and \\bar{\\pi} = 2\\%."
   ]
  },
  {
   "cell_type": "markdown",
   "metadata": {},
   "source": [
    "__(a)__ Compute the level of the (nominal) interest rate implied by this policy rule when the inflation rate takes the following values: 1%, 0%, -1%. "
   ]
  },
  {
   "cell_type": "markdown",
   "metadata": {},
   "source": []
  },
  {
   "cell_type": "markdown",
   "metadata": {},
   "source": [
    "__(b)__ Is it possible for the nominal interest rate to be negative? Why or why not?"
   ]
  },
  {
   "cell_type": "markdown",
   "metadata": {},
   "source": []
  },
  {
   "cell_type": "markdown",
   "metadata": {},
   "source": [
    "__(c)__ What does your answer to part (b) mean about monetary policy during a deflation?"
   ]
  },
  {
   "cell_type": "markdown",
   "metadata": {},
   "source": []
  },
  {
   "cell_type": "markdown",
   "metadata": {},
   "source": [
    "__(d)__ If a central bank wants to end the deflation and stimulate the economy, as in the case of Japan in the late 1990s, what can it do?"
   ]
  },
  {
   "cell_type": "markdown",
   "metadata": {},
   "source": []
  },
  {
   "cell_type": "markdown",
   "metadata": {},
   "source": [
    "## Q3)Revisiting the inflation shock (hard):\n",
    " Reread the inflation shock example (event #1) in Section 13.5. Suppose the size of the shock is o0.\n",
    "\n",
    "(a) In the AS/AD graphs describing the response of the economy to the inflation\n",
    "shock, we labeled the initial response of inflation as Q1 and initial\n",
    "output as Y1. What are the values of these key points in terms of the\n",
    "parameters of the model? That is, by how much does output fall, and\n",
    "what is the initial inflation rate?\n",
    "\n",
    "(b) Now suppose the parameters of the AS and AD curves take the following\n",
    "values: o0\u00152%, a\u00150, b\u00151/2, m\u00151/2, v\u00151/2, and Q\u00152%. Solve for the value of short-run output and the inflation rate for the\n",
    "first 3 years after the shock.\n",
    "\n",
    "(c) Comment breifly on your results"
   ]
  },
  {
   "cell_type": "markdown",
   "metadata": {},
   "source": [
    "## Q4) Revisiting the effect of the booming European economy (hard):\n",
    "\n",
    "Reread the aggregate demand shock example (event #3) in Section 13.5. Suppose the parameters of the AS and AD curves take the following values: a 2%,\n",
    "b\u00151/2,\n",
    "m\u00151,\n",
    "v\u00151/2,\n",
    "and Q\u00153%.\n",
    "Solve for the value of short-run output\n",
    "and the inflation rate for the first 3 years after the shock. For this problem,\n",
    "assume the aggregate demand shock lasts for more than 3"
   ]
  },
  {
   "cell_type": "markdown",
   "metadata": {},
   "source": [
    "## Q5) The Taylor rule:\n",
    "\n",
    "John Taylor of Stanford University proposed the following monetary policy rule:\n",
    "\\begin{align*}\n",
    "\n",
    "\\end{align*}\n",
    "\n",
    "That is, Taylor suggests that monetary policy should increase the real interest\n",
    "rate whenever output exceeds potential.\n",
    "\n",
    "(a) What is the economic justification for such a rule?\n",
    "\n",
    "(b) Combine this policy rule with the IS curve to get a new aggregate demand curve. urve. How does it differ from the AD curve we considered in the chapter? Consider the response of short-run output to aggregate demand shocks and inflation shocks"
   ]
  },
  {
   "cell_type": "markdown",
   "metadata": {},
   "source": [
    "## Q6) Crowding out:\n",
    "\n",
    "Consider a simplified version of the Taylor rule, where monetary policy depends only on short-run output:\n",
    "\\begin{align*}\n",
    "\n",
    "\\end{align*}\n",
    "\n",
    "(a) Draw an IS-MP diagram, but instead of the usual MP curve, plot the simplified version of the Taylor rule. You might label this curve MPR for “monetary policy rule.”\n",
    "\n",
    "(b) Now consider the effect of a positive aggregate demand shock in the IS-MPR diagram. (An example might be a fiscal stimulus.) Compare and contrast the effect of this shock on the economy in the standard IS-MP diagram versus the IS-MPR diagram. Why is the result different?\n",
    "\n",
    "(c) Economists refer to the result in the IS-MPR diagram as “crowding out.”\n",
    "What gets crowded ou"
   ]
  },
  {
   "cell_type": "markdown",
   "metadata": {},
   "source": [
    "## Q7) Predicting the fed funds rate (A FRED question):\n",
    "\n",
    "This question asks you to use the FRED"
   ]
  },
  {
   "cell_type": "code",
   "execution_count": null,
   "metadata": {},
   "outputs": [],
   "source": []
  }
 ],
 "metadata": {
  "kernelspec": {
   "display_name": "Python 3",
   "language": "python",
   "name": "python3"
  },
  "language_info": {
   "codemirror_mode": {
    "name": "ipython",
    "version": 3
   },
   "file_extension": ".py",
   "mimetype": "text/x-python",
   "name": "python",
   "nbconvert_exporter": "python",
   "pygments_lexer": "ipython3",
   "version": "3.7.0"
  }
 },
 "nbformat": 4,
 "nbformat_minor": 2
}
