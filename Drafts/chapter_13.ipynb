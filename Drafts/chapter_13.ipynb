{
 "cells": [
  {
   "cell_type": "markdown",
   "metadata": {},
   "source": [
    "# Chapter 13 Exercises\n",
    "## Your Name Here\n",
    "## Date"
   ]
  },
  {
   "cell_type": "raw",
   "metadata": {},
   "source": [
    "We want to put the aggregate demand/supply model into the computer. First question should be putting it into the computer. A lot less hand holding, and they should now be able to create the graphs for the time-series plots. They should be able to put the time series model. Let’s decide if they will be dynamic, because we don’t want to teach them dynamic systems if it’s not in the book. Plot the static model and if we can plot the time series let’s do that too then. Even if it’s uninteresting, it’s good to have the graphs in front of us. \n",
    "\n",
    "Exercises:\n",
    "\n",
    "1. Put the model into the computer. \n",
    "2. #13\n",
    "3. #16\n",
    "4. #17\n",
    "5. #9\n",
    "6. #11\n",
    "7. #2\n",
    "\n",
    "We will see some of these questions, for example, question 11: Do the plots in Python, take the graph and change it. Compare two plots back to back (replot), so they must recreate the plot they created in the first question and create the new plot and compare them side by side. Same idea of question 09.\n",
    "\n",
    "For Question 9b, I would like to them to take few shocks, okay compare how the shocks you did in question 16, 17, look like when the agg demand curve follows taylor rule. \n",
    "\n",
    "Last problem using the model to predict future rates."
   ]
  },
  {
   "cell_type": "markdown",
   "metadata": {},
   "source": [
    "## Q1) "
   ]
  },
  {
   "cell_type": "markdown",
   "metadata": {},
   "source": [
    "## Q2)"
   ]
  },
  {
   "cell_type": "markdown",
   "metadata": {},
   "source": [
    "## Q3)"
   ]
  },
  {
   "cell_type": "markdown",
   "metadata": {},
   "source": [
    "## Q4)"
   ]
  },
  {
   "cell_type": "markdown",
   "metadata": {},
   "source": [
    "## Q5)"
   ]
  },
  {
   "cell_type": "markdown",
   "metadata": {},
   "source": [
    "## Q6)"
   ]
  },
  {
   "cell_type": "markdown",
   "metadata": {},
   "source": [
    "## Q7)"
   ]
  },
  {
   "cell_type": "code",
   "execution_count": null,
   "metadata": {},
   "outputs": [],
   "source": []
  }
 ],
 "metadata": {
  "kernelspec": {
   "display_name": "Python 3",
   "language": "python",
   "name": "python3"
  },
  "language_info": {
   "codemirror_mode": {
    "name": "ipython",
    "version": 3
   },
   "file_extension": ".py",
   "mimetype": "text/x-python",
   "name": "python",
   "nbconvert_exporter": "python",
   "pygments_lexer": "ipython3",
   "version": "3.7.1"
  }
 },
 "nbformat": 4,
 "nbformat_minor": 2
}
