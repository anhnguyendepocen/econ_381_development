{
 "cells": [
  {
   "cell_type": "markdown",
   "metadata": {},
   "source": [
    "# Chapter 02 Exercises\n",
    "## Your Name Here\n",
    "## Date"
   ]
  },
  {
   "cell_type": "markdown",
   "metadata": {},
   "source": [
    "## 1) Real versus nominal GDP (A FRED Question): \n",
    "\n",
    "Using the FRED database, locate the data on real and nominal GDP for the US economy. You may notice that there are both annual and quarterly data available. For the purpose of this question, let's stick with the annual data. The easy way to find this is to type \"annual nominal GDP\" and \"annual real GDP\" into the FRED search box. \n",
    "\n",
    "__Note:__ _In future assignments you will be required to write code that will read and import this data into Python. For now, lets explore FRED, the main data source for this course. You can find more infromation about FRED in the \"Case Study\" on page 34 of your textbook_"
   ]
  },
  {
   "cell_type": "markdown",
   "metadata": {},
   "source": [
    "__a)__ What is the value of real GDP and nominal GDP for the most recent year available? Explain why these numbers are different."
   ]
  },
  {
   "cell_type": "code",
   "execution_count": null,
   "metadata": {},
   "outputs": [],
   "source": [
    "R_GDP_today=\n",
    "N_GDP_today=\n",
    "\n",
    "# Explanation: "
   ]
  },
  {
   "cell_type": "markdown",
   "metadata": {},
   "source": [
    "__b)__ What was the value of real GDP and nominal GDP in 1970?\n"
   ]
  },
  {
   "cell_type": "code",
   "execution_count": null,
   "metadata": {},
   "outputs": [],
   "source": [
    "R_GDP_1970=\n",
    "N_GDP_1970=\n",
    "\n",
    "# Explanation: "
   ]
  },
  {
   "cell_type": "markdown",
   "metadata": {},
   "source": [
    "__c:__ Using Python to do your calculations, by what factor did real GDP increase between 1970 and the most recent year? What about nominal GDP? _Note:_ Make sure you use `print()` to display the output. "
   ]
  },
  {
   "cell_type": "code",
   "execution_count": null,
   "metadata": {},
   "outputs": [],
   "source": []
  },
  {
   "cell_type": "markdown",
   "metadata": {},
   "source": [
    "__d)__ What explains the difference between the two numbers in part (c)?\n"
   ]
  },
  {
   "cell_type": "code",
   "execution_count": null,
   "metadata": {},
   "outputs": [],
   "source": [
    "# Explanation: "
   ]
  },
  {
   "cell_type": "markdown",
   "metadata": {},
   "source": [
    "## Q2) What counts as GDP?\n",
    "\n",
    "By how much does GDP rise in each of the following scenarios? Explain"
   ]
  },
  {
   "cell_type": "markdown",
   "metadata": {},
   "source": [
    "__a)__ You spend $5,000 on college tuition this semester."
   ]
  },
  {
   "cell_type": "code",
   "execution_count": null,
   "metadata": {},
   "outputs": [],
   "source": [
    "# Explanation"
   ]
  },
  {
   "cell_type": "markdown",
   "metadata": {},
   "source": [
    "__b)__ You buy a used car from a friend for $2,500."
   ]
  },
  {
   "cell_type": "code",
   "execution_count": null,
   "metadata": {},
   "outputs": [],
   "source": [
    "# Explanation"
   ]
  },
  {
   "cell_type": "markdown",
   "metadata": {},
   "source": [
    "__c)__ The government spends $100 million to build a dam. "
   ]
  },
  {
   "cell_type": "code",
   "execution_count": null,
   "metadata": {},
   "outputs": [],
   "source": [
    "# Explanation"
   ]
  },
  {
   "cell_type": "markdown",
   "metadata": {},
   "source": [
    "__d)__ Foreign graduate students work as teaching assistants at the local university and earn $5,000 each. "
   ]
  },
  {
   "cell_type": "code",
   "execution_count": null,
   "metadata": {},
   "outputs": [],
   "source": [
    "# Explanation"
   ]
  },
  {
   "cell_type": "markdown",
   "metadata": {},
   "source": [
    "## Q3) How large is the economy of India?\n",
    "Indian GDP in 2014 was 119 trillion rupees, while US GDP was $16.5 trillion. The exchange rate in 2014 was 61.0 ruppes per dollar. India turns out to have lower prices than the United States (this is true more generally for poor countries): the price level in India (converted to dollars) divided by the price level in the United States was 0.280 in 2014."
   ]
  },
  {
   "cell_type": "markdown",
   "metadata": {},
   "source": [
    "__a)__ What is the ratio of Indian GDP to US GDP if we don't take into account the differences in relative prices and simply use the exchange rate to make the conversion?"
   ]
  },
  {
   "cell_type": "code",
   "execution_count": null,
   "metadata": {},
   "outputs": [],
   "source": [
    "# Insert Python Code below:"
   ]
  },
  {
   "cell_type": "markdown",
   "metadata": {},
   "source": [
    "__b)__ What is the ratio of real GDP in India to real GDP in the Unites States in common prices?\n"
   ]
  },
  {
   "cell_type": "code",
   "execution_count": null,
   "metadata": {},
   "outputs": [],
   "source": [
    "# Insert Python Code below:"
   ]
  },
  {
   "cell_type": "markdown",
   "metadata": {},
   "source": [
    "__c)__ Why are these two numbers different?"
   ]
  },
  {
   "cell_type": "code",
   "execution_count": null,
   "metadata": {},
   "outputs": [],
   "source": [
    "# Explanation:"
   ]
  },
  {
   "cell_type": "markdown",
   "metadata": {},
   "source": [
    "## Q4) Earthquakes and GDP\n",
    "Suppose the rual part of a country is hit by a major earthquake that destroys 10 percent of the country's housing stock. The government and private sector respond with a major construction effort to help rebuild houses. Discusss how this episode is likely to affect the two factors below: (please include any math needed to prove your point.)\n",
    "\n",
    "__(a)__ the economic well-being of the people in the country"
   ]
  },
  {
   "cell_type": "code",
   "execution_count": null,
   "metadata": {},
   "outputs": [],
   "source": [
    "# Explanation:"
   ]
  },
  {
   "cell_type": "markdown",
   "metadata": {},
   "source": [
    " __(b)__ the economy's measured GDP."
   ]
  },
  {
   "cell_type": "code",
   "execution_count": null,
   "metadata": {},
   "outputs": [],
   "source": [
    "# Explanation:"
   ]
  }
 ],
 "metadata": {
  "kernelspec": {
   "display_name": "Python 3",
   "language": "python",
   "name": "python3"
  },
  "language_info": {
   "codemirror_mode": {
    "name": "ipython",
    "version": 3
   },
   "file_extension": ".py",
   "mimetype": "text/x-python",
   "name": "python",
   "nbconvert_exporter": "python",
   "pygments_lexer": "ipython3",
   "version": "3.7.0"
  }
 },
 "nbformat": 4,
 "nbformat_minor": 2
}
