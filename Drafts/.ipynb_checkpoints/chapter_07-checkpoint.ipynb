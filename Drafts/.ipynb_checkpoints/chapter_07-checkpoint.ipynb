{
 "cells": [
  {
   "cell_type": "markdown",
   "metadata": {},
   "source": [
    "# Chapter 07 Exercises\n",
    "\n",
    "## Name goes here\n",
    "\n",
    "### Date"
   ]
  },
  {
   "cell_type": "code",
   "execution_count": null,
   "metadata": {},
   "outputs": [],
   "source": [
    "# Libraries you will need for this assignment. \n",
    "# The code below will import them for your use. \n",
    "# Please run this before continuing.\n",
    "%matplotlib inline\n",
    "import numpy as np\n",
    "import pandas as pd\n",
    "from matplotlib.dates import DateFormatter\n",
    "import matplotlib.pyplot as plt\n",
    "import matplotlib.dates as mdates"
   ]
  },
  {
   "cell_type": "markdown",
   "metadata": {},
   "source": [
    "## Q1) Practice Importing Data (A Python Question)\n",
    "\n",
    "In Data Camp, you will learned how to import .csv files into Python. This will be a valuable skill moving forward in the semester. In order to better prepare you, this question will provide example code so you can answer __Q2)__ of this assignment. After running the code below, print the datasets to ensure it has been read and imported correctly."
   ]
  },
  {
   "cell_type": "code",
   "execution_count": null,
   "metadata": {},
   "outputs": [],
   "source": [
    "# For Q2), we will need two distinct datasets from FRED.\n",
    "# For the sake of simplicity, we have downloaded the data and stored it on a remote server.\n",
    "# This code requires the use of the Pandas library, we have abbreviated Pandas as pd (see the preamble).\n",
    "\n",
    "# URL to first data set:\n",
    "men_url = \"https://raw.githubusercontent.com/dylanjm/econ_381_development/master/data/ch07_employment_ratio_men.csv\"\n",
    "\n",
    "# Import the data and save it to a variable:\n",
    "men_emp_ratio = pd.read_csv(men_url,header=0, names=['Date', 'Men']) #the argument in the function pd.read_csv(argument) is the name of the variable.\n",
    "\n",
    "# URL to second data set:\n",
    "women_url = \"https://raw.githubusercontent.com/dylanjm/econ_381_development/master/data/ch07_employment_ratio_women.csv\"\n",
    "\n",
    "# Import the data and save it to a variable:\n",
    "women_emp_ratio = pd.read_csv(women_url,header=0, names=['Date', 'Women'])\n",
    "\n",
    "# Print both datasets:\n",
    "print(men_emp_ratio)\n",
    "print(women_emp_ratio)"
   ]
  },
  {
   "cell_type": "markdown",
   "metadata": {},
   "source": [
    "## Q2) The employment-population ratio for men and women (a FRED question)\n",
    "\n",
    "Using the data imported from __Q1)__, answer the following questions:"
   ]
  },
  {
   "cell_type": "markdown",
   "metadata": {},
   "source": [
    "__(a)__: Create one plot with two time-series, one for men and one for women. This plot shows the employment-population ratio by gender from 1948 to 2018. Please use the code from the Chapter 01 Homework __Q2)__ as a guide."
   ]
  },
  {
   "cell_type": "code",
   "execution_count": null,
   "metadata": {},
   "outputs": [],
   "source": []
  },
  {
   "cell_type": "markdown",
   "metadata": {},
   "source": [
    "__(b)__: What are some possible explanations for the differences between the two series between 1950 and 2000?"
   ]
  },
  {
   "cell_type": "markdown",
   "metadata": {},
   "source": []
  },
  {
   "cell_type": "markdown",
   "metadata": {},
   "source": [
    "__(c)__: What might explain the change in the trend of women's employment since 2000?"
   ]
  },
  {
   "cell_type": "markdown",
   "metadata": {},
   "source": []
  },
  {
   "cell_type": "markdown",
   "metadata": {},
   "source": [
    "## Q3) How much is a college education worth?\n",
    "\n",
    "In the text, we supposed a college education raised a person's wage by \\\\$30,000 per year, from \\\\$40,000 to \\\\$70,000. Assume the relevant interest rate is 3\\%, there is no growth in wages, and you are expected to retire at 65 years old after you graduate high-school."
   ]
  },
  {
   "cell_type": "markdown",
   "metadata": {},
   "source": [
    "__(a)__: Suppose you are a 18 year old graduating high school senior deciding whether or not to go to college. What is the present discounted value of your labor earnings if you chose not to attend college?"
   ]
  },
  {
   "cell_type": "code",
   "execution_count": null,
   "metadata": {},
   "outputs": [],
   "source": []
  },
  {
   "cell_type": "markdown",
   "metadata": {},
   "source": [
    "__(b)__ What is the present discounted value of your labor earnings if you chose to attend college?"
   ]
  },
  {
   "cell_type": "code",
   "execution_count": null,
   "metadata": {},
   "outputs": [],
   "source": []
  },
  {
   "cell_type": "markdown",
   "metadata": {},
   "source": [
    "__(c)__ What is the present discounted value of 4 years of your labor income if you forgo college and start work immediately?"
   ]
  },
  {
   "cell_type": "code",
   "execution_count": null,
   "metadata": {},
   "outputs": [],
   "source": []
  },
  {
   "cell_type": "markdown",
   "metadata": {},
   "source": [
    "__(d)__: Suppose that college costs \\\\$20,000 per year. What is the present discounted value of your college education expenses?"
   ]
  },
  {
   "cell_type": "code",
   "execution_count": null,
   "metadata": {},
   "outputs": [],
   "source": []
  },
  {
   "cell_type": "markdown",
   "metadata": {},
   "source": [
    "__(e)__: What is the net present discounted value of a college education under these assumptions? "
   ]
  },
  {
   "cell_type": "code",
   "execution_count": null,
   "metadata": {},
   "outputs": [],
   "source": []
  },
  {
   "cell_type": "markdown",
   "metadata": {},
   "source": [
    "__(f)__ Now, suppose that the relevant interest rate increases to 8\\%. How does that change the net present discounted value of your college education? What if instead the cost of attending college doubled? Please discuss your findings."
   ]
  },
  {
   "cell_type": "code",
   "execution_count": null,
   "metadata": {},
   "outputs": [],
   "source": []
  },
  {
   "cell_type": "markdown",
   "metadata": {},
   "source": []
  },
  {
   "cell_type": "markdown",
   "metadata": {},
   "source": [
    "__(g)__ Statistically, workers with higher education levels work longer than unskilled workers. Suppose that you only work until 60 years old if keep your highschool degree, but work until 65 years old if you get a college degree. How does differences in lenght of working life affect the net discounted value of your college education?"
   ]
  },
  {
   "cell_type": "code",
   "execution_count": null,
   "metadata": {},
   "outputs": [],
   "source": []
  },
  {
   "cell_type": "markdown",
   "metadata": {},
   "source": []
  }
 ],
 "metadata": {
  "kernelspec": {
   "display_name": "Python 3",
   "language": "python",
   "name": "python3"
  },
  "language_info": {
   "codemirror_mode": {
    "name": "ipython",
    "version": 3
   },
   "file_extension": ".py",
   "mimetype": "text/x-python",
   "name": "python",
   "nbconvert_exporter": "python",
   "pygments_lexer": "ipython3",
   "version": "3.7.0"
  }
 },
 "nbformat": 4,
 "nbformat_minor": 2
}
