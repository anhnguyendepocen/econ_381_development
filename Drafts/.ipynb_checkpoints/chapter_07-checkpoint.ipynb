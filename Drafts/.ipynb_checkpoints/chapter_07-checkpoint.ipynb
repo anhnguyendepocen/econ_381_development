{
 "cells": [
  {
   "cell_type": "markdown",
   "metadata": {},
   "source": [
    "# Chapter 07 Exercises\n",
    "\n",
    "## Name goes here\n",
    "\n",
    "### Date"
   ]
  },
  {
   "cell_type": "code",
   "execution_count": 2,
   "metadata": {},
   "outputs": [],
   "source": [
    "# Libraries you will need for this assignment. \n",
    "# The code below will import them for your use. \n",
    "# Please run this before continuing.\n",
    "%matplotlib inline\n",
    "import numpy as np\n",
    "import pandas as pd\n",
    "import matplotlib.pyplot as plt"
   ]
  },
  {
   "cell_type": "markdown",
   "metadata": {},
   "source": [
    "## Q1) Practice Importing Data (A Python Question)\n",
    "\n",
    "In DataCamp, you will soon learn how to import .csv files into Python. This will be a valuable skill moving forward in the semester. In order to better prepare you, this question will provide example code so you can answer Question 02 of this assignment. After running the code below, print out the dataset to ensure it has been read in correctly."
   ]
  },
  {
   "cell_type": "code",
   "execution_count": 4,
   "metadata": {},
   "outputs": [
    {
     "name": "stdout",
     "output_type": "stream",
     "text": [
      "           DATE  LNS12300001\n",
      "0    1948-01-01         83.8\n",
      "1    1948-02-01         83.9\n",
      "2    1948-03-01         83.0\n",
      "3    1948-04-01         83.3\n",
      "4    1948-05-01         83.1\n",
      "5    1948-06-01         83.7\n",
      "6    1948-07-01         83.8\n",
      "7    1948-08-01         83.5\n",
      "8    1948-09-01         83.2\n",
      "9    1948-10-01         83.5\n",
      "10   1948-11-01         83.3\n",
      "11   1948-12-01         83.5\n",
      "12   1949-01-01         82.8\n",
      "13   1949-02-01         82.6\n",
      "14   1949-03-01         82.1\n",
      "15   1949-04-01         82.0\n",
      "16   1949-05-01         81.3\n",
      "17   1949-06-01         80.9\n",
      "18   1949-07-01         80.4\n",
      "19   1949-08-01         80.7\n",
      "20   1949-09-01         81.0\n",
      "21   1949-10-01         80.0\n",
      "22   1949-11-01         81.2\n",
      "23   1949-12-01         81.0\n",
      "24   1950-01-01         80.7\n",
      "25   1950-02-01         80.7\n",
      "26   1950-03-01         80.7\n",
      "27   1950-04-01         81.1\n",
      "28   1950-05-01         81.6\n",
      "29   1950-06-01         81.8\n",
      "..          ...          ...\n",
      "817  2016-02-01         65.9\n",
      "818  2016-03-01         65.9\n",
      "819  2016-04-01         65.8\n",
      "820  2016-05-01         65.7\n",
      "821  2016-06-01         65.8\n",
      "822  2016-07-01         65.8\n",
      "823  2016-08-01         65.8\n",
      "824  2016-09-01         65.8\n",
      "825  2016-10-01         65.7\n",
      "826  2016-11-01         65.8\n",
      "827  2016-12-01         65.7\n",
      "828  2017-01-01         65.9\n",
      "829  2017-02-01         66.0\n",
      "830  2017-03-01         66.0\n",
      "831  2017-04-01         66.2\n",
      "832  2017-05-01         66.0\n",
      "833  2017-06-01         66.0\n",
      "834  2017-07-01         65.9\n",
      "835  2017-08-01         65.9\n",
      "836  2017-09-01         66.3\n",
      "837  2017-10-01         66.1\n",
      "838  2017-11-01         66.0\n",
      "839  2017-12-01         66.1\n",
      "840  2018-01-01         66.3\n",
      "841  2018-02-01         66.5\n",
      "842  2018-03-01         66.5\n",
      "843  2018-04-01         66.4\n",
      "844  2018-05-01         66.5\n",
      "845  2018-06-01         66.2\n",
      "846  2018-07-01         66.3\n",
      "\n",
      "[847 rows x 2 columns]\n",
      "           DATE  LNS12300002\n",
      "0    1948-01-01         30.9\n",
      "1    1948-02-01         31.0\n",
      "2    1948-03-01         30.7\n",
      "3    1948-04-01         31.6\n",
      "4    1948-05-01         30.9\n",
      "5    1948-06-01         31.9\n",
      "6    1948-07-01         32.0\n",
      "7    1948-08-01         31.3\n",
      "8    1948-09-01         31.7\n",
      "9    1948-10-01         31.1\n",
      "10   1948-11-01         31.3\n",
      "11   1948-12-01         31.6\n",
      "12   1949-01-01         31.2\n",
      "13   1949-02-01         31.5\n",
      "14   1949-03-01         31.5\n",
      "15   1949-04-01         31.0\n",
      "16   1949-05-01         31.1\n",
      "17   1949-06-01         30.7\n",
      "18   1949-07-01         31.1\n",
      "19   1949-08-01         31.2\n",
      "20   1949-09-01         31.1\n",
      "21   1949-10-01         31.3\n",
      "22   1949-11-01         31.6\n",
      "23   1949-12-01         31.3\n",
      "24   1950-01-01         31.1\n",
      "25   1950-02-01         31.1\n",
      "26   1950-03-01         31.0\n",
      "27   1950-04-01         32.1\n",
      "28   1950-05-01         31.6\n",
      "29   1950-06-01         32.1\n",
      "..          ...          ...\n",
      "817  2016-02-01         54.1\n",
      "818  2016-03-01         54.2\n",
      "819  2016-04-01         54.0\n",
      "820  2016-05-01         54.0\n",
      "821  2016-06-01         53.9\n",
      "822  2016-07-01         54.1\n",
      "823  2016-08-01         54.1\n",
      "824  2016-09-01         54.1\n",
      "825  2016-10-01         54.2\n",
      "826  2016-11-01         54.2\n",
      "827  2016-12-01         54.2\n",
      "828  2017-01-01         54.2\n",
      "829  2017-02-01         54.4\n",
      "830  2017-03-01         54.7\n",
      "831  2017-04-01         54.5\n",
      "832  2017-05-01         54.4\n",
      "833  2017-06-01         54.6\n",
      "834  2017-07-01         54.8\n",
      "835  2017-08-01         54.7\n",
      "836  2017-09-01         54.8\n",
      "837  2017-10-01         54.6\n",
      "838  2017-11-01         54.6\n",
      "839  2017-12-01         54.6\n",
      "840  2018-01-01         54.4\n",
      "841  2018-02-01         54.7\n",
      "842  2018-03-01         54.6\n",
      "843  2018-04-01         54.6\n",
      "844  2018-05-01         54.7\n",
      "845  2018-06-01         54.9\n",
      "846  2018-07-01         55.0\n",
      "\n",
      "[847 rows x 2 columns]\n"
     ]
    }
   ],
   "source": [
    "# For Question 02, we will need two distinct datasets from the FRED.\n",
    "# For the sake of simplicity, we have downloaded the data and stored it on a remote server.\n",
    "# We will acess the data by inputing the url to the .csv file we want to download.\n",
    "# This code requires the use of the Pandas library, we have abbreviated Pandas as pd.\n",
    "\n",
    "# Url to first data set:\n",
    "men_url = \"https://raw.githubusercontent.com/dylanjm/econ_381_development/master/data/ch07_employment_ratio_men.csv\"\n",
    "\n",
    "# Import the data and save it to a variable:\n",
    "men_emp_ratio = pd.read_csv(men_url)\n",
    "\n",
    "# Url to second data set:\n",
    "women_url = \"https://raw.githubusercontent.com/dylanjm/econ_381_development/master/data/ch07_employment_ratio_women.csv\"\n",
    "\n",
    "# Import the data and save it to a variable:\n",
    "women_emp_ratio = pd.read_csv(women_url)\n",
    "\n",
    "# Insert code to print both datasets:\n",
    "print(men_emp_ratio)\n",
    "print(women_emp_ratio)"
   ]
  },
  {
   "cell_type": "markdown",
   "metadata": {},
   "source": [
    "## Q2) The employment-population ratio for men and women (a FRED question)\n",
    "\n",
    "Using the data imported from Question 01, answer the following questions:"
   ]
  },
  {
   "cell_type": "markdown",
   "metadata": {},
   "source": [
    "__(a)__: Using the code from Chapter 01 Excercises as an example, create two time-series charts visualizing the employment-population ratio trend from 1948 to 2018. "
   ]
  },
  {
   "cell_type": "code",
   "execution_count": 6,
   "metadata": {},
   "outputs": [],
   "source": [
    "# Insert Python Code for First Plot Here:\n",
    "\n",
    "\n",
    "\n",
    "\n",
    "\n",
    "\n",
    "# Insert Python Code for Second Plot Here:\n",
    "\n",
    "\n",
    "\n"
   ]
  },
  {
   "cell_type": "markdown",
   "metadata": {},
   "source": [
    "__(b)__: What are some possible explanations for the different trends in the two series between 1950 and 2000?"
   ]
  },
  {
   "cell_type": "markdown",
   "metadata": {},
   "source": [
    "__(c)__: What might explain the change in trend for women since 2000?"
   ]
  },
  {
   "cell_type": "markdown",
   "metadata": {},
   "source": [
    "## Q2) How much is a college education worth?\n",
    "\n",
    "In the text, we supposed a college education raised a person's wage by \\$30,000 per year, from \\$40,000 to \\$70,000. Assume the interest rate is 3% and there is no growth in wages, then answer the following. "
   ]
  },
  {
   "cell_type": "markdown",
   "metadata": {},
   "source": [
    "__(a)__: Suppose you are a high school senior deciding whether or not to go to college. What is the present discounted value of your labor income if you forgo college and start work immediatley?"
   ]
  },
  {
   "cell_type": "markdown",
   "metadata": {},
   "source": [
    "__(b)__: As an alternative, you could pay \\$20,000 per year in college tuition, attend for 4 years, and then earn \\$70,000 per eyar after you graduate. What is the persent discounted value of your labor earning under this plan? (Compute this value from the point of view of a high school senior.)"
   ]
  },
  {
   "cell_type": "markdown",
   "metadata": {},
   "source": [
    "__(c)__: Discuss the economic value of a college education. "
   ]
  },
  {
   "cell_type": "code",
   "execution_count": null,
   "metadata": {},
   "outputs": [],
   "source": []
  }
 ],
 "metadata": {
  "kernelspec": {
   "display_name": "Python 3",
   "language": "python",
   "name": "python3"
  },
  "language_info": {
   "codemirror_mode": {
    "name": "ipython",
    "version": 3
   },
   "file_extension": ".py",
   "mimetype": "text/x-python",
   "name": "python",
   "nbconvert_exporter": "python",
   "pygments_lexer": "ipython3",
   "version": "3.7.0"
  }
 },
 "nbformat": 4,
 "nbformat_minor": 2
}
