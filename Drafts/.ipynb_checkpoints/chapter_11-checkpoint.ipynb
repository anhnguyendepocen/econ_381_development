{
 "cells": [
  {
   "cell_type": "markdown",
   "metadata": {},
   "source": [
    "# Chapter 11 Exercises\n",
    "\n",
    "## Name goes here\n",
    "\n",
    "### Date"
   ]
  },
  {
   "cell_type": "raw",
   "metadata": {},
   "source": [
    "Chapter 11 Exercises: \n",
    "\n",
    "A good op to connect graphical representation of these equations and the model. \n",
    "\n",
    "I want them to build an IS curve on python, I want them to build it in python. Build it in a numerical way.\n",
    "\n",
    "Come up with some numbers. \n",
    "\n",
    "Exercises: #2 (Solved), #3, #9, #10, #7 (FRED)\n",
    "\n",
    "Put IS/LM model into the computer and graph the curve. \n",
    "\n",
    "* Go through and find all the problems that have been solved in the book and make a note saying they can find it solved on pg. xx\n",
    "\n",
    "Pick some parameters that make the curve look nice.\n",
    "\n",
    "*Perhaps* compute the MPK themselves by giving them all the tools to do that.\n",
    "\n",
    "After doing #2, #3, I want them to change the model so we will be using multipliers now. \n",
    "\n",
    "Graphic output, compare old model and new model, go back and redo events in #2 & #3."
   ]
  },
  {
   "cell_type": "markdown",
   "metadata": {},
   "source": [
    "## Q1) Analyzing Macroeconomic Events with the IS curve (I):\n",
    "\n",
    "Consider the following changes in the macroeconomy. Show how to think about them using the IS curve, and explain how and why GDP is affected in the short run. "
   ]
  },
  {
   "cell_type": "markdown",
   "metadata": {},
   "source": [
    "__(a)__ The Federal Reserve undertakes policy actions that have the effect of lowering the real interest rate below the marginal product of captial. (We will learn how this can occur in Chapter 12.)"
   ]
  },
  {
   "cell_type": "code",
   "execution_count": null,
   "metadata": {},
   "outputs": [],
   "source": []
  },
  {
   "cell_type": "markdown",
   "metadata": {},
   "source": [
    "__(b)__ Consumers become pessimistic about the state of the economy and futuer productivity growth. "
   ]
  },
  {
   "cell_type": "markdown",
   "metadata": {},
   "source": []
  },
  {
   "cell_type": "code",
   "execution_count": null,
   "metadata": {},
   "outputs": [],
   "source": []
  },
  {
   "cell_type": "markdown",
   "metadata": {},
   "source": [
    "__(c)__ Improvements in information technology increase productivity and therefore increase the marginal product of captial. "
   ]
  },
  {
   "cell_type": "code",
   "execution_count": null,
   "metadata": {},
   "outputs": [],
   "source": []
  },
  {
   "cell_type": "markdown",
   "metadata": {},
   "source": [
    "## Q2) Analyzing Macroeconomic Events with the IS Curve (II):\n",
    "\n",
    "Consider the following changes in the macroeconomy. Show how to think about them using the IS curve, and explain how and why GDP is affected in the short run. "
   ]
  },
  {
   "cell_type": "markdown",
   "metadata": {},
   "source": [
    "__(a)__ The government offers a temporary investment tax credit: for each dollar of investment that firms undertake, they recieve a credit that reduces the taxes they pay on corporate income. "
   ]
  },
  {
   "cell_type": "code",
   "execution_count": null,
   "metadata": {},
   "outputs": [],
   "source": []
  },
  {
   "cell_type": "markdown",
   "metadata": {},
   "source": [
    "__(b)__ A booming ecnomy in Europe this year leads to an unexpected increase in the demand by Euorpoean consumer for US goods. "
   ]
  },
  {
   "cell_type": "code",
   "execution_count": null,
   "metadata": {},
   "outputs": [],
   "source": []
  },
  {
   "cell_type": "markdown",
   "metadata": {},
   "source": [
    "__(c)__ US consumers develop an infatuation with all things made in New Zealand and sharply increase their imports from that country. "
   ]
  },
  {
   "cell_type": "code",
   "execution_count": null,
   "metadata": {},
   "outputs": [],
   "source": []
  },
  {
   "cell_type": "markdown",
   "metadata": {},
   "source": [
    "__(d)__ A housing bubble bursts so that housing prices fall by 20\\% and new home sales drop sharply. "
   ]
  },
  {
   "cell_type": "code",
   "execution_count": null,
   "metadata": {},
   "outputs": [],
   "source": []
  },
  {
   "cell_type": "markdown",
   "metadata": {},
   "source": [
    "## Q3) Imports and the Multiplier:\n",
    "\n",
    "The amount of goods that the US economy imports might depend on the current state of the economy as well as on potential GDP. For example, when the economy is booming, imports usually rise. To incoporate this channel into the model, suppose the import equation is given by\n",
    "\n",
    "\\begin{align*}\n",
    "\\frac{IM_{t}}{\\bar{Y}_{t}} = \\bar{a}_{im} + \\bar{n}\\tilde{Y}_{t}.\n",
    "\\end{align*}\n",
    "\n",
    "Assume the remainder of the model is unchanged from the original setup, as in Table 11.1 (pg. 283)"
   ]
  },
  {
   "cell_type": "markdown",
   "metadata": {},
   "source": [
    "__(a)__ Derive the IS curve for this new specification."
   ]
  },
  {
   "source": []
  },
  {
   "cell_type": "code",
   "execution_count": null,
   "metadata": {},
   "outputs": [],
   "source": []
  },
  {
   "cell_type": "markdown",
   "metadata": {},
   "source": [
    "__(b)__ What is the economic explanation for why the $\\bar{n}$ parameter shows up in the denominator of the new IS curve? Notice that an aggregate demand shock that increases $\\bar{a}$ by 1 percentage point now has a _smaller_ effect on output than it did in the original IS curve. Why?"
   ]
  },
  {
   "cell_type": "markdown",
   "metadata": {},
   "source": [
    "## Q4) Consumption and the Real Interest Rate:\n",
    "\n",
    "According to the life-cycle/permanent-income hypothesis, consumption depend on the present discounted value of income. An increase in the real interest rate will make future income worth less, therby reducing the prestent discounted value and reducing comsumption. To incorporate this channel into the model, suppose the consumption equation is given by \n",
    "\n",
    "\\begin{align*}\n",
    "C_{t} = \\bar{a}_c\\bar{Y}_{t} - \\bar{b}_c(R_t-\\bar{r})\\bar{Y}_t.\n",
    "\\end{align*}\n",
    "\n",
    "Assume the remainder of the model is unchagned from the original setup, as in Table 11.1 (pg. 283)"
   ]
  },
  {
   "cell_type": "markdown",
   "metadata": {},
   "source": [
    "__(a)__ Derive the IS curve for this new specification. "
   ]
  },
  {
   "cell_type": "markdown",
   "metadata": {},
   "source": []
  },
  {
   "cell_type": "markdown",
   "metadata": {},
   "source": [
    "__(b)__ How and why does it differ from the original IS curve? (_Hint:_ Think about the slope of the IS curve)"
   ]
  },
  {
   "cell_type": "markdown",
   "metadata": {},
   "source": []
  },
  {
   "cell_type": "markdown",
   "metadata": {},
   "source": [
    "## Q5) GDP and Government Purchases (FRED Question):\n",
    "\n"
   ]
  },
  {
   "cell_type": "markdown",
   "metadata": {},
   "source": [
    "__(a)__ Using Python, create a graphic for the period 2004 to the present."
   ]
  },
  {
   "cell_type": "code",
   "execution_count": 1,
   "metadata": {},
   "outputs": [],
   "source": [
    "# Enter Python Code Here:"
   ]
  },
  {
   "cell_type": "markdown",
   "metadata": {},
   "source": [
    "__(b)__ How did government purchases and real GDP co-move during and after the Great Recession?"
   ]
  },
  {
   "cell_type": "markdown",
   "metadata": {},
   "source": []
  },
  {
   "cell_type": "markdown",
   "metadata": {},
   "source": [
    "__(c)__ Provide two alternative (and conflicting!) interpretations of these data, one suggesting that the rise in government purchases had a negative effect on the economy, and the other suggesting it had a positive effect. "
   ]
  },
  {
   "cell_type": "markdown",
   "metadata": {},
   "source": []
  },
  {
   "cell_type": "markdown",
   "metadata": {},
   "source": [
    "__(d)__ Why is it difficult to determine which of these stories is most appropriate?"
   ]
  },
  {
   "cell_type": "markdown",
   "metadata": {},
   "source": []
  },
  {
   "cell_type": "code",
   "execution_count": null,
   "metadata": {},
   "outputs": [],
   "source": []
  }
 ],
 "metadata": {
  "kernelspec": {
   "display_name": "Python 3",
   "language": "python",
   "name": "python3"
  },
  "language_info": {
   "codemirror_mode": {
    "name": "ipython",
    "version": 3
   },
   "file_extension": ".py",
   "mimetype": "text/x-python",
   "name": "python",
   "nbconvert_exporter": "python",
   "pygments_lexer": "ipython3",
   "version": "3.7.0"
   "version": "3.6.4"
  }
 },
 "nbformat": 4,
 "nbformat_minor": 2
}
