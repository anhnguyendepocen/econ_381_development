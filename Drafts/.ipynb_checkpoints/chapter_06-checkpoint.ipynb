{
 "cells": [
  {
   "cell_type": "markdown",
   "metadata": {},
   "source": [
    "# Chapter 06 Exercises\n",
    "\n",
    "## Name goes here\n",
    "\n",
    "### Date"
   ]
  },
  {
   "cell_type": "code",
   "execution_count": null,
   "metadata": {},
   "outputs": [],
   "source": [
    "# Insert the Python Libraries You Will Need Here:\n"
   ]
  },
  {
   "cell_type": "markdown",
   "metadata": {},
   "source": [
    "## Q1) Numbers in the Romer Model\n",
    "\n",
    "### Part I\n",
    "\n",
    "Suppose the parameters of the Romer model take the following values: $\\bar{A_0} = 100$, $\\bar{\\ell} = 0.10$, $\\bar{z} = \\frac{1}{500}$, and $\\bar{L} = 100$. Use Python to answer __(a)__ through __(c)__.\n",
    "\n",
    "__(a):__ What is the growth rate of output per person in this economy?\n",
    "\n",
    "__(b):__ What is the inital level of output per person? What is the level of output per person after 100 years?\n",
    "\n",
    "__(c):__ Suppose the research share were to double. How would you answer parts __(a)__ and __(b)__.\n",
    "\n"
   ]
  },
  {
   "cell_type": "code",
   "execution_count": null,
   "metadata": {},
   "outputs": [],
   "source": []
  },
  {
   "cell_type": "markdown",
   "metadata": {},
   "source": [
    "### Part II\n",
    "\n",
    "Now suppose the paraeters of the model take the following values $\\bar{A_0} = 100$, $\\bar{\\ell} = 0.06$, $\\bar{z} = \\frac{1}{3000}$, and $\\bar{L} = 1000$. Use Python to answer __(a)__ through __(c)__.\n",
    "\n",
    "__(a):__ What is the growth rate of output per person in this economy?\n",
    "\n",
    "__(b):__ What is the inital level of output per person? What is the level of output per person after 100 years?\n",
    "\n",
    "__(c):__ Now consider the following changes one at a time: a doubling of the initial stock of knowledge $\\bar{A_0}$, a doubling of the research share $\\bar{\\ell}$, a doubling of research productivity $\\bar{z}$, and a doubling of the population $\\bar{L}$. How would your answer to parts __(a)__ and __(b)__ change in each case?\n",
    "\n",
    "__(d):__ If you could advocate one of the changes considered in part __(c)__, which whould you choose? White a paragraph auguing for your choice.\n"
   ]
  },
  {
   "cell_type": "code",
   "execution_count": null,
   "metadata": {},
   "outputs": [],
   "source": []
  },
  {
   "cell_type": "markdown",
   "metadata": {},
   "source": []
  },
  {
   "cell_type": "markdown",
   "metadata": {},
   "source": [
    "## Q2) Intellectual property products (a FRED question)\n",
    "\n",
    "In 2015, the U.S. National Income Accounts began to \"count\" intellectual property products—such as R&D, computer software, books, music, and movies—explicitly as investment. More correctly, they had previously assumed these products were an intermediate good that depreciated fully when used to produce some other final good, but now they are included as a part of investment and GDP. Examine the data on investment in intelectual property products (IPP).\n",
    "\n",
    "__(a):__ Using the FRED database, download a graph of the seris with label \"Y001RE1Q156NBEA\" and make a time series plot. Follow the steps below to complete this. \n",
    "\n",
    "   * In past assignmets data was posted on Git Hub for you to download. This time will be different. You will be importing the data straight from a file on your computer.\n",
    "   \n",
    "   * Begin by downloading the data to your computer from FRED as instructed in part __(a)__ by selecting download and then selecting the CSV (data) option. The file will be named Y001RE1Q156NBEA.csv.\n",
    "   * Once you have downloaded the data you will need to located where the data was downloaded. This will typically be in your Downloads folder on your computer. Take the .csv file from your Downloads and move it to a different folder such as a folder for this class.\n",
    "   \n",
    "   * A file path to such a folder for this class might look like C:\\Users\\Moncayo\\Documents\\BYU-I\\Fall 2018\\Econ 381 for windows. For Mac the file path might be /home/moncayo/Documents/BYU-I/Fall 2018/Econ 381. The slashes simply tell the computer to move into that folder. Inside your Econ 381 folder you should be able to locate the FRED .csv file. __Note file paths are case sensitive!__   \n",
    "   \n",
    "   * You will use Python's Pandas package to import the data using the read csv function with the appropriate Windows or Mac file path. __Don't forget to use quotes aroud your file path.__\n",
    "   \n",
    "   * If your Pandas data import does not work you may have misspelled a word, not capitalized something that should be, put an unnessesary space, or the file path you have does not actually lead to where the .csv file is actually stored. Check all these things if it does not work.\n",
    "\n",
    "__(b):__ What has happened to the share of GDP devoted to investment in IPP over the last 60 years. What might explain this change?\n",
    "\n",
    "__(c):__ If this were the only change included in a Romer model, what would happen to the growth rate of GDP per person over time. What might explain why this has not happened."
   ]
  },
  {
   "cell_type": "code",
   "execution_count": null,
   "metadata": {},
   "outputs": [],
   "source": []
  }
 ],
 "metadata": {
  "kernelspec": {
   "display_name": "Python 3",
   "language": "python",
   "name": "python3"
  },
  "language_info": {
   "codemirror_mode": {
    "name": "ipython",
    "version": 3
   },
   "file_extension": ".py",
   "mimetype": "text/x-python",
   "name": "python",
   "nbconvert_exporter": "python",
   "pygments_lexer": "ipython3",
   "version": "3.6.4"
  }
 },
 "nbformat": 4,
 "nbformat_minor": 2
}
