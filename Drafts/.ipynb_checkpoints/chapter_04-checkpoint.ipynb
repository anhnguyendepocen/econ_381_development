{
 "cells": [
  {
   "cell_type": "markdown",
   "metadata": {},
   "source": [
    "# Chapter 04 Exercises\n",
    "\n",
    "## Name Goes Here\n",
    "\n",
    "### Date"
   ]
  },
  {
   "cell_type": "code",
   "execution_count": 2,
   "metadata": {},
   "outputs": [],
   "source": [
    "# Write the code for the libraries you use to complete the assignment\n",
    "\n",
    "\n"
   ]
  },
  {
   "cell_type": "markdown",
   "metadata": {},
   "source": [
    "## Q1) Learning How to Solve Systems of Equations in Python\n",
    "\n",
    "In economics, we often want to know the solution to equilibrium values. Take for example the table below from pg. 76 in the book.\n",
    "\n",
    "| Description             | Formula                           |\n",
    "|-------------------------|-----------------------------------|\n",
    "| Production function     | $Y \\text{ = } \\bar{A}K^{1/3}L^{2/3}$ | \n",
    "| Rule for hiring capital | $\\frac{1}{3}\\cdot \\frac{Y}{K} \\text{=} r \\space$ |\n",
    "| Rule for hiring labor   | $\\frac{2}{3}\\cdot \\frac{Y}{L} \\text{=} \\omega$ |\n",
    "| Demand $=$ Supply for capital | $K = \\bar{K}$ |\n",
    "| Demand $=$ supply for labor | $L = \\bar{L}$ |\n",
    "\n",
    "In this case there are 5 equations and 5 unknowns. From the reading you learned the equilibrium in this simple economy is the solution to these equations.\n",
    "\n",
    "In Python, it is possible to solve a system of two or more equations. As preparation for exercises in this assignment and future assignments you will learn how to solve a system of equations in Python. Follow the steps below to complete this exercise. \n",
    "\n",
    "**Review of Linear Algebra** \n",
    "\n",
    "In Econ 215 you learned the following formula can be used to find unknowns of a system of equations.\n",
    "$$\n",
    "Ax = b \\ \\ \\ \\ \\ \\ (1)\n",
    "$$\n",
    "\n",
    "The equation (1) can be manipulated and solved using rules from linear algebra to arrive at the following equation.\n",
    "$$\n",
    "x = A^{-1} b \\ \\ \\ \\ \\ (2)\n",
    "$$\n",
    "\n",
    "Equation (2) says that the unknowns to a system of equations can be solved for by taking the inverse of matrix A and multiplying it by the constants of an equation. \n",
    "\n",
    "\n",
    " **Video**\n",
    "\n",
    "With those formulas in mind, watch the following video as it will teach you how to solve systems of equations in Python. \n",
    "    \n",
    "__[Click here to watch video]( https://youtu.be/44pAWI7v5Zk)__\n",
    "\n",
    "  \n",
    "\n",
    "**Solve the Equations**\n",
    "\n",
    "Using the information from the video solve the 1. and 2. below using Python.\n"
   ]
  },
  {
   "cell_type": "markdown",
   "metadata": {},
   "source": [
    "__(a)__\n",
    "\n",
    "\\begin{align*}\n",
    "3x - y &= 7 \\\\\n",
    "2x + 3y &= 1 \n",
    "\\end{align*}"
   ]
  },
  {
   "cell_type": "code",
   "execution_count": null,
   "metadata": {},
   "outputs": [],
   "source": []
  },
  {
   "cell_type": "markdown",
   "metadata": {},
   "source": [
    "__(b)__\n",
    "\n",
    "\\begin{align*}\n",
    "x - 2y + 3z &= 7\\\\\n",
    "2x + y + z &= 4\\\\\n",
    "-3x + 2y - 2z &= -10\n",
    "\\end{align*}\n"
   ]
  },
  {
   "cell_type": "code",
   "execution_count": null,
   "metadata": {},
   "outputs": [],
   "source": []
  },
  {
   "cell_type": "markdown",
   "metadata": {},
   "source": [
    "\n",
    "# The Black Death (Q2 and Q3)\n",
    "\n",
    "In the middle of the fourteenth century, and epidemic known as the Black Death killed about a third of Europe's population, about 34 million people. While this was an enormous tragedy, the macroeconomic consequences might surprise you: over the next century, wages are estimated to have been *higher* than before the Black Death. Questions 2 and 3 will help you gain an understanding as to why this happened.\n",
    "\n",
    "\n",
    "\n",
    "## Q2) Solving the production model\n",
    "\n",
    "Before answering any questions about the Black Death, let's first build an understanding of the production function. Suppose the production function is given by $ Y = \\bar{A}K^{\\alpha}L^{1-\\alpha}$. This is a general version of the production function we've been working with, where $\\alpha$ is the \"capital share of output.\" "
   ]
  },
  {
   "cell_type": "markdown",
   "metadata": {},
   "source": [
    "**(a)** Using pencil and paper (you don't have to enter the answer here), create a new version of Table 4.1 (pg. 76) for the model using this more general production function. What are the five equations and five unknowns? (*Hint*: The hiring rules for capital and labor will change in the obvious way.)"
   ]
  },
  {
   "cell_type": "markdown",
   "metadata": {},
   "source": [
    "**(c)** What is the solution for the equilibrium level of output per person? Let $\\bar{A} = 1$, $L = 200$, $K = 200$, $\\alpha = 1/3$. (*Hint: You can use Python to help solve for the solution numerically. You should verify your findings by hand.*)"
   ]
  },
  {
   "cell_type": "code",
   "execution_count": null,
   "metadata": {},
   "outputs": [],
   "source": []
  },
  {
   "cell_type": "markdown",
   "metadata": {},
   "source": [
    "**(d)** How does changing the level of alpha ($\\bar{A}$) affect the equilibrium level of output, rental rate of capital, and wages? Try $\\bar{A}$={0.5, 0.75, 1.25, 1.5}"
   ]
  },
  {
   "cell_type": "code",
   "execution_count": 1,
   "metadata": {},
   "outputs": [],
   "source": []
  },
  {
   "cell_type": "markdown",
   "metadata": {},
   "source": [
    "## Q3) \n",
    "\n",
    "  **(a)** Show numerically by how much would wages rise if a third of the population died from disease. Assume $\\bar{A} = 1$, $L = 200$, $K = 200$, $\\alpha = 1/3$\\bar{A}K^{1/3}L^{2/3}$ before the black plague."
   ]
  },
  {
   "cell_type": "code",
   "execution_count": null,
   "metadata": {},
   "outputs": [],
   "source": []
  },
  {
   "cell_type": "markdown",
   "metadata": {},
   "source": [
    "**(b)** Suppose that instead of the black plague there was an alien invasion of Europe that didn't kill anyone, but instead brough in new technology. How much would TFP have to increase to raise wages as much as the black plague? "
   ]
  },
  {
   "cell_type": "code",
   "execution_count": null,
   "metadata": {},
   "outputs": [],
   "source": []
  },
  {
   "cell_type": "markdown",
   "metadata": {},
   "source": [
    "# Q5) The empirical fit of the production model\n",
    "\n",
    "The table on page 99 of the book reports per capita GDP and capital per person in the year 2014 for 10 countries. Your task is to fill in the missing columns of the table. **You may choose to complete the HTML table below in this cell or you may create a new cell and list the answers as text in a new cell instead of creating a new table.**\n",
    "\n",
    "**(a)** Given the values in columns 1 and 2 which are in U.S. dollars, fill in columns 3 and 4 which are relative to U.S. values (U.S. = 1). That is, compute per capita GDP and capital per person relative to the U.S. values taking the ratio of each country's value (either Per capita GDP or Capital per Person) to the corresponding US value. \n",
    "\n",
    "**(b)** In column 5, use the production model (with $\\alpha=1/3$) to compute predicted per capita GDP for each country relative to the United States. Assume $\\bar{A}=1$, which implies there are no TFP differences across countries.\n",
    "\n",
    "**(c)** In column 6, compute the level of TFP for each country that is needed  to the model to the data . \n",
    "\n",
    "\n",
    "| Country       |(1) Capital per person| (2) Per capita GDP|(3) Capital Per person|(4) Per capita GDP|(5) Predicted $y*$|(6) Implied TFP to match data|\n",
    "|---------------|------------------|--------------|------------------|--------------|--------------|-------------------------|\n",
    "| United States | 141,841          | 51,895       | 1.000            | 1.000        | 1.000        | 1.000                   |\n",
    "| Canada        | 128,667          | 43,367       | | | | |  \n",
    "| France        | 162, 207         | 37,360       | | | | | \n",
    "| Hong Kong     | 159, 247         | 37,360       | | | | |  \n",
    "| South Korea   | 120, 472         | 34,961       | | | | |\n",
    "| Indonesia     | 41,044           | 9,797        | | | | |\n",
    "| Argentina     | 53, 821          | 20,074       | | | | |\n",
    "| Mexico        | 45,039           | 15, 521      | | | | |\n",
    "| Kenya         | 4,686            | 2,971        | | | | |\n",
    "| Ethiopia      | 3,227            | 1,505        | | | | |"
   ]
  },
  {
   "cell_type": "markdown",
   "metadata": {},
   "source": []
  },
  {
   "cell_type": "markdown",
   "metadata": {},
   "source": [
    "**(d)** Comment on the general results you find."
   ]
  },
  {
   "cell_type": "markdown",
   "metadata": {},
   "source": []
  },
  {
   "cell_type": "markdown",
   "metadata": {},
   "source": [
    "## Q6) The labor share and Cobb-Douglas production (a FRED question)\n",
    "\n",
    "Download the FRED `ch04_labor_compensation.csv` file (see 6(a) code comments) for the share of income paid to labor for the nonfarm business sector of the U.S. economy, back to 1947. (For an introduction to FRED, see the case study \"The FRED database\" in Chapter 2 on page 34)."
   ]
  },
  {
   "cell_type": "markdown",
   "metadata": {},
   "source": [
    "**(a)** Create a time series plot of the data you downloaded. Make sure to include a title and y-axis label."
   ]
  },
  {
   "cell_type": "code",
   "execution_count": 1,
   "metadata": {},
   "outputs": [],
   "source": [
    "# Use what you learned in the Intermediate Python for Data Science Course in Data Camp (or consider looking at code \n",
    "# given in past assignments) to import the data using the Pandas library. Note when importing the .csv file, you need to \n",
    "# be able to tell the computer where to the data are located so it can read them in. The data are located in the link. \n",
    "# Instead of putting a file path to your computer for your read csv function, you will simply substitute the link below into \n",
    "# the import python function and proceed like a regular data import your learned in Data Camp.\n",
    "# Link: https://raw.githubusercontent.com/dylanjm/econ_381_development/master/data/FRED_Chapter_4.csv\n",
    "\n"
   ]
  },
  {
   "cell_type": "markdown",
   "metadata": {},
   "source": [
    "**(b)** The graph most likely shows an index (e.g., normalized so the value in some year is 100) rather than the share itself. Assuming the labor averaged $2/3$, approximately what value is the labor share for your most recent data point? **Python hint:** you will need to access the last data point in your array, remember the syntax for accessing data points in a python array."
   ]
  },
  {
   "cell_type": "code",
   "execution_count": null,
   "metadata": {},
   "outputs": [],
   "source": []
  },
  {
   "cell_type": "markdown",
   "metadata": {},
   "source": [
    "**(c)** What does this graph suggest about the validity of our assumptions that the production function is Cobb-Douglas?"
   ]
  },
  {
   "cell_type": "markdown",
   "metadata": {},
   "source": []
  }
 ],
 "metadata": {
  "kernelspec": {
   "display_name": "Python 3",
   "language": "python",
   "name": "python3"
  },
  "language_info": {
   "codemirror_mode": {
    "name": "ipython",
    "version": 3
   },
   "file_extension": ".py",
   "mimetype": "text/x-python",
   "name": "python",
   "nbconvert_exporter": "python",
   "pygments_lexer": "ipython3",
   "version": "3.7.0"
  }
 },
 "nbformat": 4,
 "nbformat_minor": 2
}
