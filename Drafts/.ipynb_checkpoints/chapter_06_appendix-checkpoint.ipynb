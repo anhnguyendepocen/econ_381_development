{
 "cells": [
  {
   "cell_type": "markdown",
   "metadata": {},
   "source": [
    "# Chapter 06 Appendix Exercises\n",
    "\n",
    "## Name goes here\n",
    "\n",
    "### Date"
   ]
  },
  {
   "cell_type": "code",
   "execution_count": null,
   "metadata": {},
   "outputs": [],
   "source": [
    "# Insert the Python Libraries You Will Need Here:\n"
   ]
  },
  {
   "cell_type": "markdown",
   "metadata": {},
   "source": [
    "## Growth Accounting\n",
    "\n",
    "Go to the FRED website and download the Real GDP ($Y$), Capital Stock ($K$), and Population ($L$) data from 1960 to 2015 for the following countries: USA, France, China, Colombia, Ghana, and Saudi Arabia.\n",
    "\n",
    "__Do the following for each of the countries listed above.__\n",
    "\n",
    "__(a)__ Calculate the average growth rate of $Y, K, L$ for the 55 year period mentioned above."
   ]
  },
  {
   "cell_type": "code",
   "execution_count": null,
   "metadata": {},
   "outputs": [],
   "source": []
  },
  {
   "cell_type": "markdown",
   "metadata": {},
   "source": [
    "__(b)__ Calculate the yearly growth rate of $Y, K, L$ for each of the 54 years of data."
   ]
  },
  {
   "cell_type": "code",
   "execution_count": null,
   "metadata": {},
   "outputs": [],
   "source": []
  },
  {
   "cell_type": "markdown",
   "metadata": {},
   "source": [
    "__(c)__ Calculate __average growth rate of TFP__ using equation 6.12 in the book and the rates you calculated in part __(a)__."
   ]
  },
  {
   "cell_type": "code",
   "execution_count": null,
   "metadata": {},
   "outputs": [],
   "source": []
  },
  {
   "cell_type": "markdown",
   "metadata": {},
   "source": [
    "__(d)__. Calculate the __yearly growth rate of TFP__ using equation 6.12 and the rates you calculated in part __(b)__."
   ]
  },
  {
   "cell_type": "code",
   "execution_count": null,
   "metadata": {},
   "outputs": [],
   "source": []
  },
  {
   "cell_type": "markdown",
   "metadata": {},
   "source": [
    "__(e)__ Plot your results from part __(d)__"
   ]
  },
  {
   "cell_type": "code",
   "execution_count": null,
   "metadata": {},
   "outputs": [],
   "source": []
  },
  {
   "cell_type": "markdown",
   "metadata": {},
   "source": [
    "__(f)__ Does the average growth rate of TFP you calculated in part iii. sufficiently describe the yearly growth rate of TFP for each country?"
   ]
  },
  {
   "cell_type": "markdown",
   "metadata": {},
   "source": []
  },
  {
   "cell_type": "markdown",
   "metadata": {},
   "source": [
    "## The combined Solow-Romer Model\n",
    "\n",
    "Now let the production function for output be $Y_t = A_t K_t^\\alpha L_{yt}^{1 - \\alpha}$. That is, we've made the exponent on capital a parameter $(\\alpha)$ rather than keeping it as a specific number. Notice that the exponent of labor makes sure that this function exhibits constant returns to scale."
   ]
  },
  {
   "cell_type": "markdown",
   "metadata": {},
   "source": [
    "__(a)__: Solve the growth rate of output per person along a balanced growth path. Explain how it relates to the solution of the model considered in the appendix."
   ]
  },
  {
   "cell_type": "markdown",
   "metadata": {},
   "source": []
  },
  {
   "cell_type": "markdown",
   "metadata": {},
   "source": [
    "__(b)__: Solve for the level of output per person along a balanced growth path. Explain how it relates to the solution of the model considered in the appendix. "
   ]
  },
  {
   "cell_type": "markdown",
   "metadata": {},
   "source": []
  },
  {
   "cell_type": "markdown",
   "metadata": {},
   "source": [
    "__(c)__: The formula for a geometric series is $1 + \\sigma + \\sigma^2 + \\sigma^3 + ... = \\frac{1}{1 - \\sigma}$, where $\\sigma$ is some number between 0 and 1. How and why is this formula related to your answers to parts __(a)__ and __(b)__. (_Hint_: Think about how an increase in output today affects capital in the future.)"
   ]
  },
  {
   "cell_type": "markdown",
   "metadata": {},
   "source": []
  },
  {
   "cell_type": "markdown",
   "metadata": {},
   "source": [
    "## Transition Dynamics in the Combined Solow-Romer Model\n",
    "\n",
    "Consider how the combined model studies in Chapter 6 Appendix compares with the Solow model and the Romer models we studied in the previous chapters. Suppose, the economy begins on a balanced growth path in the year $t=0$ and  the parameters of the model take the following values $\\bar{A_0} = 100$, $\\bar{\\ell} = 0.06$, $\\bar{z} = \\frac{1}{3000}$, $\\alpha=1/3$, and $\\bar{L} = 1000$. Plot a graph showing how each of the following events changes the output per capita series independent of each other (multiple series, each showing the consequences of one event) and then all together (plot only one series showing the combined effect of all the events): a doubling of the initial stock of knowledge $\\bar{A_0}$ at $t=20$, a doubling of the research share $\\bar{\\ell}$ at $t=40$, a doubling of research productivity $\\bar{z}$ at $t=60$, and a doubling of the population $\\bar{L}$ at $t=80$.\n",
    "\n",
    "Please discuss in detail the differences and similarities you find between the Romer model and the combined Solow-Romer model. Should we model transition dynamics? Why? "
   ]
  },
  {
   "cell_type": "code",
   "execution_count": null,
   "metadata": {},
   "outputs": [],
   "source": []
  },
  {
   "cell_type": "markdown",
   "metadata": {},
   "source": []
  },
  {
   "cell_type": "markdown",
   "metadata": {},
   "source": [
    "## Calibrating the Combined Solow-Romer Model\n",
    "\n",
    "So far you've simulated model of long run growth using informed, yet somewhat arbitrarily chosen parameters. It's time to put some discipline to parameter values. Macroeconomist call this \"calibration.\" \n",
    "\n",
    "Define and put steps to calibration, give them a conceptual map to achieving their results.\n",
    "Give them a reading assignment?\n",
    "Go through the excercise.\n"
   ]
  }
 ],
 "metadata": {
  "kernelspec": {
   "display_name": "Python 3",
   "language": "python",
   "name": "python3"
  },
  "language_info": {
   "codemirror_mode": {
    "name": "ipython",
    "version": 3
   },
   "file_extension": ".py",
   "mimetype": "text/x-python",
   "name": "python",
   "nbconvert_exporter": "python",
   "pygments_lexer": "ipython3",
   "version": "3.7.0"
  }
 },
 "nbformat": 4,
 "nbformat_minor": 2
}
