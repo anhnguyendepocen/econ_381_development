{
 "cells": [
  {
   "cell_type": "markdown",
   "metadata": {},
   "source": [
    "# Chapter 03 Exercises\n",
    "\n",
    "## Name goes here\n",
    "\n",
    "### Date"
   ]
  },
  {
   "cell_type": "code",
   "execution_count": 8,
   "metadata": {},
   "outputs": [],
   "source": [
    "# Libraries you will need for this assignment\n",
    "%matplotlib inline\n",
    "import numpy as np\n",
    "import pandas as pd\n",
    "import matplotlib.pyplot as plt"
   ]
  },
  {
   "cell_type": "markdown",
   "metadata": {},
   "source": [
    "## Q1) Review Question\n",
    "When and where did sustained economic growth first begin? How much inequality er capity income was there throughout the counteries of  the world a thousand years ago? How much is there today?"
   ]
  },
  {
   "cell_type": "markdown",
   "metadata": {},
   "source": []
  },
  {
   "cell_type": "markdown",
   "metadata": {},
   "source": [
    "## Q2) Review Question\n",
    "\n",
    "How much richer is the typical 40-year-old today than the typical 40-year-old 35 years ago in the United States? What about in South Korea or China?"
   ]
  },
  {
   "cell_type": "markdown",
   "metadata": {},
   "source": []
  },
  {
   "cell_type": "markdown",
   "metadata": {},
   "source": [
    "## Q3) Growh rates of per capita GDP: \n",
    "\n",
    "**(a)** Compute the average annual growth rate of per capita GDP for each of the countries on page 66. The levels are provided for 1980 and 2014, measured in constant 2011 dollars. Fill in the code below between each comment to complete this problem.\n",
    "\n",
    "*Hint: In the Intro to Data Science Data Camp course you learned about functions in the Numpy library. You will need to leverage numpy's array function to complete part (a) problem.*\n",
    "\n",
    "**(b)** Create a histogram for the percent change values in part (a). Does it appear that some values are more common than others? \n",
    "\n"
   ]
  },
  {
   "cell_type": "code",
   "execution_count": 1,
   "metadata": {},
   "outputs": [
    {
     "ename": "SyntaxError",
     "evalue": "invalid syntax (<ipython-input-1-b8a0ec7aac57>, line 4)",
     "output_type": "error",
     "traceback": [
      "\u001b[0;36m  File \u001b[0;32m\"<ipython-input-1-b8a0ec7aac57>\"\u001b[0;36m, line \u001b[0;32m4\u001b[0m\n\u001b[0;31m    year_1980 =\u001b[0m\n\u001b[0m                ^\u001b[0m\n\u001b[0;31mSyntaxError\u001b[0m\u001b[0;31m:\u001b[0m invalid syntax\n"
     ]
    }
   ],
   "source": [
    "# 3(a)\n",
    "\n",
    "# Write down the numbers as a Python list for each year as two seperate variables named `year_1980` and `year_2014`.\n",
    "year_1980 = \n",
    "year_2014 = \n",
    "\n",
    "# Convert the two variables `year_1980` and `year_2014` that now have the data stored into arrays. \n",
    "# We want to convery them into arrays because this this will allow you to compute the percent change for each country simultaniously\n",
    "np_1980 = \n",
    "np_2014 = \n",
    "\n",
    "# Calculate the percent change for each country using a percent change formula and store the result in a new \n",
    "# variable named `percent_chg`\n",
    "percent_chg = \n",
    "\n",
    "# Print the `percent_chg` variable to show the final results\n"
   ]
  },
  {
   "cell_type": "code",
   "execution_count": 2,
   "metadata": {},
   "outputs": [],
   "source": [
    "# 3(b)\n",
    "\n",
    "# Use what you learned in Data Camp's section about Matplotlib. This was the first module \n",
    "# in the Intermediate Python for Data Science course. You may pick to do either a graph of 1980's data or 2014's data\n",
    "\n"
   ]
  },
  {
   "cell_type": "markdown",
   "metadata": {},
   "source": [
    "## Q4) Computing levels: \n",
    "\n",
    "Suppose $x_t$ grows at 2% per year and $y_t$ grows at 5% per year with $x_o = 2$ and $y_o = 1$. Calculate the numerical values of $z_t$ for $t = 0, \\ t = 2,  \\ t = 10, \\ t = 17$, and $t = 35$ for the following cases:\n",
    "\n",
    "(a) $z = x$\n",
    "\n",
    "(b) $z = y$\n",
    "\n",
    "(c) $z = x^{3/4}y^{1/4}$\n",
    "\n"
   ]
  },
  {
   "cell_type": "code",
   "execution_count": 3,
   "metadata": {},
   "outputs": [
    {
     "ename": "SyntaxError",
     "evalue": "invalid syntax (<ipython-input-3-918fd07db4e5>, line 4)",
     "output_type": "error",
     "traceback": [
      "\u001b[0;36m  File \u001b[0;32m\"<ipython-input-3-918fd07db4e5>\"\u001b[0;36m, line \u001b[0;32m4\u001b[0m\n\u001b[0;31m    z_0 =\u001b[0m\n\u001b[0m          ^\u001b[0m\n\u001b[0;31mSyntaxError\u001b[0m\u001b[0;31m:\u001b[0m invalid syntax\n"
     ]
    }
   ],
   "source": [
    "# 4 (a)\n",
    "\n",
    "# Calculate z for each of the specified time periods\n",
    "z_0 = \n",
    "\n",
    "z_2 = \n",
    "\n",
    "z_10 = \n",
    "\n",
    "z_17 = \n",
    "\n",
    "z_35 = \n",
    "\n",
    "# Create an array named z and store all of the results of `z` for each time period in the array\n",
    "\n",
    "\n",
    "\n",
    "# Print out z\n",
    "\n",
    "\n",
    "\n",
    "# 4 (b) Use similar process to do (b) and (c)\n",
    "\n",
    "\n",
    "# 4 (c)\n"
   ]
  },
  {
   "cell_type": "markdown",
   "metadata": {},
   "source": [
    "## Q5) Practice Charting in Python\n",
    "\n",
    "a) The following data for Amazon (AMZN) has already been imported. Make use of the data already imported to create a time series plot of the stock price with time on the x-axis and price on the y-axis. Don't forget to make the graph look good by including a proper lables and some color to the data being plotted. Step 1 and 2 have been completed for you (see code comments below).\n",
    "\n",
    "\n",
    "b) Compute the percent return for the stock using the numbers from the first data point in the time series and the last data point.\n"
   ]
  },
  {
   "cell_type": "code",
   "execution_count": null,
   "metadata": {},
   "outputs": [],
   "source": [
    "# a)\n",
    "\n",
    "\n",
    "# Step 1: Import the data from Git Hub\n",
    "amzn = pd.read_csv('https://raw.githubusercontent.com/dylanjm/econ_381_development/master/data/AMZN.csv')\n",
    "\n",
    "# Step 2: Create x and y axis variables for plotting.\n",
    "date = amzn[\"Date\"]\n",
    "close = amzn[\"Close\"]\n",
    "\n",
    "# Step 3: Insert your code here to make the time series plot using Python's Matplotlib.\n",
    "\n",
    "\n",
    "\n",
    "\n",
    "# b) Note that the close variable is essentially an array. This will enable you to access individual observations \n",
    "# inside the array.\n",
    "\n"
   ]
  }
 ],
 "metadata": {
  "kernelspec": {
   "display_name": "Python 3",
   "language": "python",
   "name": "python3"
  },
  "language_info": {
   "codemirror_mode": {
    "name": "ipython",
    "version": 3
   },
   "file_extension": ".py",
   "mimetype": "text/x-python",
   "name": "python",
   "nbconvert_exporter": "python",
   "pygments_lexer": "ipython3",
   "version": "3.7.0"
  }
 },
 "nbformat": 4,
 "nbformat_minor": 2
}
