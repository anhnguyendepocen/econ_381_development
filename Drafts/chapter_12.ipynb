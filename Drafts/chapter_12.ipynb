{
 "cells": [
  {
   "cell_type": "markdown",
   "metadata": {},
   "source": [
    "# Chapter 12\n",
    "## Name goes here\n",
    "\n",
    "### Date"
   ]
  },
  {
   "cell_type": "markdown",
   "metadata": {},
   "source": [
    "## Q1) Modeling in Python with IS MP\n",
    "\n",
    "The IS-MP Curve shows the relationship between output and real interest rates. We will build the curves and then display a graph of the IS-MP diagram.\n",
    "\n",
    "__Key variables:__\n",
    "\n",
    "\\begin{align*}\n",
    "\\text{Nomianl interest rate} = i\\\\\n",
    "\\text{Real interest rate } = R\\\\\n",
    "\\text{Short-run output} = \\tilde{Y}\\\\\n",
    "\\text{Change in inflation} = \\Delta \\pi\n",
    "\\end{align*}\n",
    "\n",
    "__Key Formulas:__\n",
    "\n",
    "\n",
    "\\begin{align*}\n",
    "i_t = R_t + \\pi_t\\\\\n",
    "R_t = i_t - \\pi_t\n",
    "\\end{align*}\n",
    "\n",
    "IS Curve real interest rate is r, marginal product of capical is little r.  When they are equal we are in the long run. Intercept is the output level at the steady state. $\\bar{a} = $ real interst rate\n",
    "\n",
    "$$\n",
    "y = mx + b\n",
    "$$"
   ]
  },
  {
   "cell_type": "markdown",
   "metadata": {},
   "source": [
    "Plot a time series of output interest rates and inflation. "
   ]
  },
  {
   "cell_type": "markdown",
   "metadata": {},
   "source": [
    "## Q2) The Productivity Slowdown and the Great Inflation:\n",
    "\n",
    "Using the IS-MP diagram and the Philips curve, explain how the productivity slowdown of the 1970s may have contributed to the Great Inflation. In particular, answer the following:"
   ]
  },
  {
   "cell_type": "markdown",
   "metadata": {},
   "source": [
    "__(a)__ Suppose growth in actual output is slowing down, as shown in Figure 12.13 in the book. Policymakers believe this is occurring because of a negative showck to aggregate demand. Explain how such a shock would accound for the slowdowndusing and IS-MP diagram. \n"
   ]
  },
  {
   "cell_type": "code",
   "execution_count": null,
   "metadata": {},
   "outputs": [],
   "source": [
    "# Code for IS-MP graph goes here\n"
   ]
  },
  {
   "cell_type": "markdown",
   "metadata": {},
   "source": [
    "Text answer goes here\n",
    "\n"
   ]
  },
  {
   "cell_type": "markdown",
   "metadata": {},
   "source": [
    "__(b)__ With this belief, what monetary policy action woud policymakers take to stabilize the economy? Show this is the IS-MP diagram, as perceived by policymakers."
   ]
  },
  {
   "cell_type": "code",
   "execution_count": null,
   "metadata": {},
   "outputs": [],
   "source": [
    "# Code for IS-MP graph goes here\n"
   ]
  },
  {
   "cell_type": "markdown",
   "metadata": {},
   "source": [
    "__(c)__ In truth, there was a slowdown in potential output, also shown in Figure 12.13 in the book. Show the effect of monetary policy on the short-fun output in the \"true\" IS-MP diagram. "
   ]
  },
  {
   "cell_type": "code",
   "execution_count": 1,
   "metadata": {},
   "outputs": [],
   "source": [
    "# Code for IS-MP graph goes here"
   ]
  },
  {
   "cell_type": "markdown",
   "metadata": {},
   "source": [
    "__(d)__ Show the effect of this monetary policy in a graph of the Phillips curve. Explain what happens. "
   ]
  },
  {
   "cell_type": "code",
   "execution_count": null,
   "metadata": {},
   "outputs": [],
   "source": [
    "# Code for Phillips curve graph goes here"
   ]
  },
  {
   "cell_type": "markdown",
   "metadata": {},
   "source": []
  },
  {
   "cell_type": "markdown",
   "metadata": {},
   "source": [
    "__(e)__ How will policymakers from parts(a) and (b) know they have made a mistake?"
   ]
  },
  {
   "cell_type": "markdown",
   "metadata": {},
   "source": []
  },
  {
   "cell_type": "markdown",
   "metadata": {},
   "source": [
    "## Q2) A Consumption Boom\n",
    "\n",
    "Using the IS-MP diagram, explain what happens to the economy if there is a temporary consumption boom that lasts for one period."
   ]
  },
  {
   "cell_type": "markdown",
   "metadata": {},
   "source": [
    "__(a)__ Initially, suppose the centeral bank keeps the nominal interst rate unchanged. "
   ]
  },
  {
   "cell_type": "markdown",
   "metadata": {},
   "source": [
    "__(b)__ Suppose you are appointed to chair of the Federal Reserve. What monetary policty action would you take in this case and why? Refer to the IS-MP diagram. "
   ]
  },
  {
   "cell_type": "markdown",
   "metadata": {},
   "source": [
    "## Q3) Your day as chair of the Fed (II): \n",
    "\n",
    "With the goal of atabilizing output, explain how and why you would change the interest rate in response to the following shocks. Show the effects on the economy in the short run using the IS-MP diagram."
   ]
  },
  {
   "cell_type": "markdown",
   "metadata": {},
   "source": [
    "__(a)__ Consumers become pessimistic about the state of the economy and future produictivity growth.  "
   ]
  },
  {
   "cell_type": "markdown",
   "metadata": {},
   "source": [
    "__(b)__ Improvements in information thecnology increase productivity and therefore increase the parginal product of capital."
   ]
  },
  {
   "cell_type": "markdown",
   "metadata": {},
   "source": [
    "__(c)__ A booming economy in Europe this year leads to an unexpected increase in the dpand by European consumers for U.S. goods."
   ]
  },
  {
   "cell_type": "markdown",
   "metadata": {},
   "source": [
    "__(d)__ Americans develop and infatuation with all things made in New Zealand and sharply increase their imports from that country. "
   ]
  },
  {
   "cell_type": "markdown",
   "metadata": {},
   "source": [
    "__(e)__ A large earthquake destroys many houses and buildings on the West Coast, but fortunatly results in little loss of life. "
   ]
  },
  {
   "cell_type": "markdown",
   "metadata": {},
   "source": [
    "__(f)__ A housing bubble starts, so that housing prices fall by 20% and new home sales drop sharply."
   ]
  },
  {
   "cell_type": "markdown",
   "metadata": {},
   "source": []
  },
  {
   "cell_type": "markdown",
   "metadata": {},
   "source": [
    "## Q4) An Oil Price Shock\n",
    "\n",
    "Suppose the economy is hit by an unexpected oil price shock that permanently raises oil prices by $\\$$50 per barrel. This is a temorary increase in $\\bar{o}$ in the model. the shock $\\bar{o}$ becomes positive for on period and then goes back to 0. "
   ]
  },
  {
   "cell_type": "markdown",
   "metadata": {},
   "source": [
    "__(a)__ Using the full short-run model, explain what happens to the economy in the absence of any monetary policy action. Be sure to include graphs showing how putput and inflcation would respond over time. "
   ]
  },
  {
   "cell_type": "code",
   "execution_count": null,
   "metadata": {},
   "outputs": [],
   "source": [
    "# Insert python code for graphs here"
   ]
  },
  {
   "cell_type": "markdown",
   "metadata": {},
   "source": [
    "Text answer goes here: \n"
   ]
  },
  {
   "cell_type": "markdown",
   "metadata": {},
   "source": [
    "__(b)__ Suppose you are in charge of the central bank. What monetary policy action would you take and why? Using the short-run model, explain what would happen to the eonomy in this case. Compare your graphs of output and inflation from those from part (a). "
   ]
  },
  {
   "cell_type": "markdown",
   "metadata": {},
   "source": []
  }
 ],
 "metadata": {
  "kernelspec": {
   "display_name": "Python 3",
   "language": "python",
   "name": "python3"
  },
  "language_info": {
   "codemirror_mode": {
    "name": "ipython",
    "version": 3
   },
   "file_extension": ".py",
   "mimetype": "text/x-python",
   "name": "python",
   "nbconvert_exporter": "python",
   "pygments_lexer": "ipython3",
   "version": "3.6.4"
  }
 },
 "nbformat": 4,
 "nbformat_minor": 2
}
