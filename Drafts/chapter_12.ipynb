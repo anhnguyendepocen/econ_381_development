{
 "cells": [
  {
   "cell_type": "markdown",
   "metadata": {},
   "source": [
    "# Chapter 12\n",
    "## Name goes here\n",
    "\n",
    "### Date"
   ]
  },
  {
   "cell_type": "markdown",
   "metadata": {},
   "source": [
    "## Q1) Modeling in Python with IS MP\n",
    "\n",
    "__Key variables:__\n",
    "\n",
    "\\begin{align*}\n",
    "\\text{Nominal interest rate} = i\\\\\n",
    "\\text{Real interest rate } = R\\\\\n",
    "\\text{Short-run output} = \\tilde{Y}\\\\\n",
    "\\text{Change in inflation} = \\Delta \\pi \\\\\n",
    "\\text{ (marginal product of capital)} = \\bar{r}\n",
    "\\end{align*}\n",
    "\n",
    "__Key Formulas:__\n",
    "\n",
    "\\begin{align*} \n",
    "\\tilde{Y_t} = \\bar{a} - \\bar{b} (R_t - \\bar{r}) \\\\\n",
    "i_t = R_t + \\pi_t\\\\\n",
    "R_t = i_t - \\pi_t\\\\\n",
    "\\text{MP} = R\n",
    "\\end{align*}"
   ]
  },
  {
   "cell_type": "markdown",
   "metadata": {},
   "source": [
    "Using the IS and MP equations, make a plot of a Basic IS-MP diagram as shown in Figure 12.3 from the textbook using the following parameters.\n",
    "\n",
    "\\begin{align*}\n",
    "\\bar{a} = 0\\\\\n",
    "\\bar{r} =  2\\%\\\\\n",
    "\\bar{b} = 1\n",
    "\\end{align*}"
   ]
  },
  {
   "cell_type": "code",
   "execution_count": null,
   "metadata": {},
   "outputs": [],
   "source": [
    "# Insert code here for the IS-MP diagram"
   ]
  },
  {
   "cell_type": "markdown",
   "metadata": {},
   "source": [
    "# Instructions for Q2 - Q5\n",
    "\n",
    "In each of the following scenarios (Q2, Q3, Q5), you will be asked to consider different shocks. __For Q2(a), Q3(a), and Q5(a), only__ include the following 5 plots:\n",
    "\n",
    "* A plot of the IS-MP diagram with the shift similar to figure 12.4 in the textbook (note you do not need the dotted lines but you must include a legend in order to differentiate between shifts)\n",
    "* A plot of output over time\n",
    "* A plot of price over time\n",
    "* A plot of interest rates over time\n",
    "* A plot of inflation over time\n",
    "\n",
    "__Additional Notes__\n",
    "* In the IS-MP diagram, for shocks of an arbitrary change, $\\bar{a}$, you may assume whatever appropriate value you would like so as to graphically be able to identify the change relative to the scale of the graph. For example, if a positive shock occurred you may change $\\bar{a}$ the previous value of 2, to 4, 5, or maybe 6.\n",
    "* For the time series plots you may assume there are only __two periods__, the period before the shock, and the period after the shock showing the change where the items in the bulleted list above are on the $Y$ axis and $\\large{t}$ is on the $X$ axis. Note the IS-MP diagram is not a time series plot.\n",
    "* You may use the parameters above in the first question as a baseline for all of the following questions unless specified otherwise."
   ]
  },
  {
   "cell_type": "markdown",
   "metadata": {},
   "source": [
    "## Q2) The Productivity Slowdown and the Great Inflation:\n",
    "\n",
    "Using the IS-MP diagram and the Philips curve, explain how the productivity slowdown of the 1970s may have contributed to the Great Inflation. In particular, answer the following:"
   ]
  },
  {
   "cell_type": "markdown",
   "metadata": {},
   "source": [
    "__(a)__ Suppose growth in actual output is slowing down, as shown in Figure 12.13 in the book. Policymakers believe this is occurring because of a negative shock to aggregate demand. Explain how such a shock would account for the slowdown using an IS-MP diagram. \n"
   ]
  },
  {
   "cell_type": "code",
   "execution_count": null,
   "metadata": {},
   "outputs": [],
   "source": [
    "# Code for IS-MP graph goes here\n"
   ]
  },
  {
   "cell_type": "code",
   "execution_count": null,
   "metadata": {},
   "outputs": [],
   "source": [
    "# Code for time series plots go here"
   ]
  },
  {
   "cell_type": "markdown",
   "metadata": {},
   "source": [
    "Explanation goes here:\n",
    "\n"
   ]
  },
  {
   "cell_type": "markdown",
   "metadata": {},
   "source": [
    "__(b)__ With this belief, what monetary policy action would policymakers take to stabilize the economy? Show this is the IS-MP diagram, as perceived by policymakers."
   ]
  },
  {
   "cell_type": "code",
   "execution_count": null,
   "metadata": {},
   "outputs": [],
   "source": [
    "# Code for IS-MP graph goes here\n"
   ]
  },
  {
   "cell_type": "markdown",
   "metadata": {},
   "source": [
    "__(c)__ In truth, there was a slowdown in potential output, also shown in Figure 12.13 in the book. Show the effect of monetary policy on the short-fun output in the \"true\" IS-MP diagram. "
   ]
  },
  {
   "cell_type": "code",
   "execution_count": 1,
   "metadata": {},
   "outputs": [],
   "source": [
    "# Code for IS-MP graph goes here"
   ]
  },
  {
   "cell_type": "markdown",
   "metadata": {},
   "source": [
    "__(d)__ Show the effect of this monetary policy in a graph of the Phillips curve. Explain what happens. "
   ]
  },
  {
   "cell_type": "code",
   "execution_count": null,
   "metadata": {},
   "outputs": [],
   "source": [
    "# Code for Phillips curve graph goes here"
   ]
  },
  {
   "cell_type": "markdown",
   "metadata": {},
   "source": [
    "Explanation goes here:"
   ]
  },
  {
   "cell_type": "markdown",
   "metadata": {},
   "source": [
    "__(e)__ How will policymakers from parts(a) and (b) know they have made a mistake?"
   ]
  },
  {
   "cell_type": "markdown",
   "metadata": {},
   "source": []
  },
  {
   "cell_type": "markdown",
   "metadata": {},
   "source": [
    "## Q3) A Consumption Boom\n",
    "\n",
    "Using the IS-MP diagram, explain what happens to the economy if there is a temporary consumption boom that lasts for one period."
   ]
  },
  {
   "cell_type": "markdown",
   "metadata": {},
   "source": [
    "__(a)__ Initially, suppose the central bank keeps the nominal interest rate unchanged. "
   ]
  },
  {
   "cell_type": "code",
   "execution_count": null,
   "metadata": {},
   "outputs": [],
   "source": [
    "# Code for IS-MP curve goes here"
   ]
  },
  {
   "cell_type": "code",
   "execution_count": null,
   "metadata": {},
   "outputs": [],
   "source": [
    "# Code for time series plots go here"
   ]
  },
  {
   "cell_type": "markdown",
   "metadata": {},
   "source": [
    "Explain here:\n",
    "\n"
   ]
  },
  {
   "cell_type": "markdown",
   "metadata": {},
   "source": [
    "__(b)__ Suppose you are appointed to chair of the Federal Reserve. What monetary policy action would you take in this case and why? Refer to the IS-MP diagram. "
   ]
  },
  {
   "cell_type": "markdown",
   "metadata": {},
   "source": []
  },
  {
   "cell_type": "markdown",
   "metadata": {},
   "source": [
    "## Q4) Your day as chair of the Fed (II): \n",
    "\n",
    "With the goal of stabilizing output, explain how and why you would change the interest rate in response to the following shocks. Show the effects on the economy in the short run using the IS-MP diagram."
   ]
  },
  {
   "cell_type": "markdown",
   "metadata": {},
   "source": [
    "__(a)__ Consumers become pessimistic about the state of the economy and future productivity  growth.  "
   ]
  },
  {
   "cell_type": "code",
   "execution_count": null,
   "metadata": {},
   "outputs": [],
   "source": [
    "# Code for IS-MP curve goes here"
   ]
  },
  {
   "cell_type": "markdown",
   "metadata": {},
   "source": [
    "__(b)__ Improvements in information technology increase productivity and therefore increase the marginal product of capital."
   ]
  },
  {
   "cell_type": "code",
   "execution_count": null,
   "metadata": {},
   "outputs": [],
   "source": [
    "# Code for IS-MP curve goes here"
   ]
  },
  {
   "cell_type": "markdown",
   "metadata": {},
   "source": [
    "__(c)__ A booming economy in Europe this year leads to an unexpected increase in the demand by European consumers for U.S. goods."
   ]
  },
  {
   "cell_type": "code",
   "execution_count": null,
   "metadata": {},
   "outputs": [],
   "source": [
    "# Code for IS-MP curve goes here"
   ]
  },
  {
   "cell_type": "markdown",
   "metadata": {},
   "source": [
    "__(d)__ Americans develop and infatuation with all things made in New Zealand and sharply increase their imports from that country. "
   ]
  },
  {
   "cell_type": "code",
   "execution_count": null,
   "metadata": {},
   "outputs": [],
   "source": [
    "# Code for IS-MP curve goes here"
   ]
  },
  {
   "cell_type": "markdown",
   "metadata": {},
   "source": [
    "__(e)__ A large earthquake destroys many houses and buildings on the West Coast, but fortunately results in little loss of life. "
   ]
  },
  {
   "cell_type": "code",
   "execution_count": null,
   "metadata": {},
   "outputs": [],
   "source": [
    "# Code for IS-MP curve goes here"
   ]
  },
  {
   "cell_type": "markdown",
   "metadata": {},
   "source": [
    "__(f)__ A housing bubble starts, so that housing prices fall by 20% and new home sales drop sharply."
   ]
  },
  {
   "cell_type": "code",
   "execution_count": null,
   "metadata": {},
   "outputs": [],
   "source": [
    "# Code for IS-MP curve goes here"
   ]
  },
  {
   "cell_type": "markdown",
   "metadata": {},
   "source": [
    "## Q5) An Oil Price Shock\n",
    "\n",
    "Suppose the economy is hit by an unexpected oil price shock that permanently raises oil prices by $\\$$50 per barrel. This is a temporary increase in $\\bar{o}$ in the model. the shock $\\bar{o}$ becomes positive for on period and then goes back to 0. "
   ]
  },
  {
   "cell_type": "markdown",
   "metadata": {},
   "source": [
    "__(a)__ Using the full short-run model, explain what happens to the economy in the absence of any monetary policy action. Be sure to include graphs showing how output and inflation would respond over time. "
   ]
  },
  {
   "cell_type": "code",
   "execution_count": null,
   "metadata": {},
   "outputs": [],
   "source": [
    "# Insert python code for graphs here\n"
   ]
  },
  {
   "cell_type": "markdown",
   "metadata": {},
   "source": [
    "Text answer goes here\n"
   ]
  },
  {
   "cell_type": "markdown",
   "metadata": {},
   "source": [
    "__(b)__ Suppose you are in charge of the central bank. What monetary policy action would you take and why? Using the short-run model, explain what would happen to the economy in this case. Compare your graphs of output and inflation from those from part (a). "
   ]
  },
  {
   "cell_type": "markdown",
   "metadata": {},
   "source": []
  }
 ],
 "metadata": {
  "kernelspec": {
   "display_name": "Python 3",
   "language": "python",
   "name": "python3"
  },
  "language_info": {
   "codemirror_mode": {
    "name": "ipython",
    "version": 3
   },
   "file_extension": ".py",
   "mimetype": "text/x-python",
   "name": "python",
   "nbconvert_exporter": "python",
   "pygments_lexer": "ipython3",
   "version": "3.6.4"
  }
 },
 "nbformat": 4,
 "nbformat_minor": 2
}
