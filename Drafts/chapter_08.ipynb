{
 "cells": [
  {
   "cell_type": "markdown",
   "metadata": {},
   "source": [
    "# Chapter 08 Exercises\n",
    "\n",
    "## Name goes here\n",
    "\n",
    "### Date"
   ]
  },
  {
   "cell_type": "code",
   "execution_count": 1,
   "metadata": {},
   "outputs": [],
   "source": [
    "# Libraries you will need for this assignment. \n",
    "# The code below will import them for your use. \n",
    "# Please run this before continuing.\n",
    "%matplotlib inline\n",
    "import numpy as np\n",
    "import pandas as pd\n",
    "import matplotlib.pyplot as plt"
   ]
  },
  {
   "cell_type": "markdown",
   "metadata": {},
   "source": [
    "## Q1) Inflation in China and India (a FRED Question)\n",
    "\n",
    "Using the FRED database, download a graph of the inflation rate for China and India.\n",
    "\n",
    "__(a)__: Display the two graphs\n",
    "\n",
    "__(b)__: What is the average inflation rate in each country for the most recent 5 years of data? What country had lower inflation?\n",
    "\n",
    "## Q2) Inflation and the quantity theory\n",
    "\n",
    "Suppose velocity is contant, the growth rate of real GDP is 3% per year, and the growth rate of money is 5% per year. Calculate the long-run rate of inflation according to the quantity theory in each of the following cases:\n",
    "\n",
    "__(a)__: What is the rate of inflation in the baseline case?\n",
    "\n",
    "__(b)__: Suppose the growth rate of money rises to 10% per year.\n",
    "\n",
    "__(c)__: Suppose the growth rate of money rises to 100% per year.\n",
    "\n",
    "__(d)__: Back to the baseline case, suppose real GDP growth rises to 5% per year.\n",
    "\n",
    "__(e)__: What if real GDP growth falls to 2% per year?\n",
    "\n",
    "__(f)__: Return to the baseline case and suppose the velocity of money rises at 1% per year. What happens to inflation in this case? Why might velocity change this fashion?\n",
    "\n",
    "## Q3) Inflation an interest rates in Italy (A FRED Question)\n",
    "\n",
    "Using the FRED database, create a single graph containing the 10-year government bond yield (one measure of nominal interest rate) and the inflation rate for Italy.\n",
    "\n",
    "__(a)__: Display the graph for the years since 1991. \n",
    "\n",
    "__(b)__: Why do these two series tend to move together over time?\n",
    "\n",
    "__(c)__: What economic concept corresponds to the difference between these two series?"
   ]
  },
  {
   "cell_type": "code",
   "execution_count": null,
   "metadata": {},
   "outputs": [],
   "source": []
  }
 ],
 "metadata": {
  "kernelspec": {
   "display_name": "Python 3",
   "language": "python",
   "name": "python3"
  },
  "language_info": {
   "codemirror_mode": {
    "name": "ipython",
    "version": 3
   },
   "file_extension": ".py",
   "mimetype": "text/x-python",
   "name": "python",
   "nbconvert_exporter": "python",
   "pygments_lexer": "ipython3",
   "version": "3.7.0"
  }
 },
 "nbformat": 4,
 "nbformat_minor": 2
}
