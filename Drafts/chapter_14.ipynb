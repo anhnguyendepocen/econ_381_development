{
 "cells": [
  {
   "cell_type": "markdown",
   "metadata": {},
   "source": [
    "# Chapter 14 Exercises\n",
    "## Your Name Here\n",
    "## Date"
   ]
  },
  {
   "cell_type": "raw",
   "metadata": {},
   "source": [
    "14 Exercises:\n",
    "\n",
    "#2, #3, #5\n",
    "\n",
    "#3 & #5 Copy them as is - (Pythonize it a little bit), ask them to come up with graphs and such. \n",
    "\n",
    "#2) Follow 2 but “I want them to create the graphs, I want to see the ISLM before/after, for example 2c, it says create a graph of the phillips curve, you cannot create a phillips curve without out time series, so they will need to create a time series first and then plot them to create the phillips curve. \n",
    "\n",
    "Heres the trick with 2. There is already a solution in the book. I want in (e) instead of summarizing do this question:\n",
    "\n",
    "“What would you have done differently for each of these fed reserve actions if you were to follow the Taylor rule?” They will explore again all the different events but respond with with what they would do regarding their approach. \n",
    "\n",
    "This is a shock -> What happened in the model? -> Show these graphs"
   ]
  },
  {
   "cell_type": "code",
   "execution_count": 2,
   "metadata": {},
   "outputs": [],
   "source": [
    "# Insert the Python Libraries you will need here:"
   ]
  },
  {
   "cell_type": "markdown",
   "metadata": {},
   "source": [
    "## Q1)"
   ]
  },
  {
   "cell_type": "markdown",
   "metadata": {},
   "source": [
    "## Q2) Predicting the Fed Funds Rate (FRED)\n",
    "\n",
    "Consider the following simple monetary policy rule:\n",
    "$$\n",
    "R_t - \\bar{r} = \\bar{m}(\\pi_t-\\bar{\\pi}) + \\bar{n}\\tilde{Y_t}\n",
    "$$\n",
    "\n",
    "In the following..."
   ]
  },
  {
   "cell_type": "markdown",
   "metadata": {},
   "source": [
    "__(a)__ Pick some reasonable values for the parameters of this policy rule, and explain why you chose these values. "
   ]
  },
  {
   "cell_type": "markdown",
   "metadata": {},
   "source": []
  },
  {
   "cell_type": "markdown",
   "metadata": {},
   "source": [
    "__"
   ]
  },
  {
   "cell_type": "markdown",
   "metadata": {},
   "source": [
    "## Q3)"
   ]
  },
  {
   "cell_type": "code",
   "execution_count": null,
   "metadata": {},
   "outputs": [],
   "source": []
  }
 ],
 "metadata": {
  "kernelspec": {
   "display_name": "Python 3",
   "language": "python",
   "name": "python3"
  },
  "language_info": {
   "codemirror_mode": {
    "name": "ipython",
    "version": 3
   },
   "file_extension": ".py",
   "mimetype": "text/x-python",
   "name": "python",
   "nbconvert_exporter": "python",
   "pygments_lexer": "ipython3",
   "version": "3.6.4"
  }
 },
 "nbformat": 4,
 "nbformat_minor": 2
}
