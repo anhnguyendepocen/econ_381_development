{
 "cells": [
  {
   "cell_type": "code",
   "execution_count": null,
   "metadata": {},
   "outputs": [],
   "source": [
    "# Chapter 11 Exercises\n",
    "## Your Name Here\n",
    "## Date"
   ]
  },
  {
   "cell_type": "raw",
   "metadata": {},
   "source": [
    "Chapter 11 Exercises:\n",
    "\"A good op to connect graphical representation of these equations and the model. \\n\",\n",
    "    \"\\n\",\n",
    "    \"I want them to build an IS curve on python, I want them to build it in python. Build it in a numerical way.\\n\",\n",
    "    \"\\n\",\n",
    "    \"Come up with some numbers. \\n\",\n",
    "    \"\\n\",\n",
    "    \"Exercises: #2 (Solved), #3, #9, #10, #7 (FRED)\\n\",\n",
    "    \"\\n\",\n",
    "    \"Put IS/LM model into the computer and graph the curve. \\n\",\n",
    "    \"\\n\",\n",
    "    \"* Go through and find all the problems that have been solved in the book and make a note saying they can find it solved on pg. xx\\n\",\n",
    "    \"\\n\",\n",
    "    \"Pick some parameters that make the curve look nice.\\n\",\n",
    "    \"\\n\",\n",
    "    \"*Perhaps* compute the MPK themselves by giving them all the tools to do that.\\n\",\n",
    "    \"\\n\",\n",
    "    \"After doing #2, #3, I want them to change the model so we will be using multipliers now. \\n\",\n",
    "    \"\\n\",\n",
    "    \"Graphic output, compare old model and new model, go back and redo events in #2 & #3.\""
   ]
  },
  {
   "cell_type": "markdown",
   "metadata": {},
   "source": []
  },
  {
   "cell_type": "markdown",
   "metadata": {},
   "source": []
  },
  {
   "cell_type": "markdown",
   "metadata": {},
   "source": []
  },
  {
   "cell_type": "markdown",
   "metadata": {},
   "source": []
  },
  {
   "cell_type": "markdown",
   "metadata": {},
   "source": []
  },
  {
   "cell_type": "markdown",
   "metadata": {},
   "source": []
  },
  {
   "cell_type": "markdown",
   "metadata": {},
   "source": []
  },
  {
   "cell_type": "markdown",
   "metadata": {},
   "source": []
  },
  {
   "cell_type": "markdown",
   "metadata": {},
   "source": []
  },
  {
   "cell_type": "markdown",
   "metadata": {},
   "source": []
  },
  {
   "cell_type": "markdown",
   "metadata": {},
   "source": []
  },
  {
   "cell_type": "markdown",
   "metadata": {},
   "source": []
  },
  {
   "cell_type": "markdown",
   "metadata": {},
   "source": []
  },
  {
   "cell_type": "markdown",
   "metadata": {},
   "source": []
  },
  {
   "cell_type": "code",
   "execution_count": null,
   "metadata": {},
   "outputs": [],
   "source": []
  }
 ],
 "metadata": {
  "kernelspec": {
   "display_name": "Python 3",
   "language": "python",
   "name": "python3"
  },
  "language_info": {
   "codemirror_mode": {
    "name": "ipython",
    "version": 3
   },
   "file_extension": ".py",
   "mimetype": "text/x-python",
   "name": "python",
   "nbconvert_exporter": "python",
   "pygments_lexer": "ipython3",
   "version": "3.7.0"
  }
 },
 "nbformat": 4,
 "nbformat_minor": 2
}
