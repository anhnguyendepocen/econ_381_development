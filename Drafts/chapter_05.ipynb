{
 "cells": [
  {
   "cell_type": "markdown",
   "metadata": {},
   "source": [
    "# Chapter 05 Exercises\n",
    "\n",
    "## Name goes here\n",
    "\n",
    "### Date"
   ]
  },
  {
   "cell_type": "code",
   "execution_count": 1,
   "metadata": {},
   "outputs": [],
   "source": [
    "# Insert the Python Libraries You Will Need Here:\n"
   ]
  },
  {
   "cell_type": "markdown",
   "metadata": {},
   "source": [
    "## Q1) Implementing the Solow Model using Python\n",
    "\n",
    "One of the important features of the Solow model is that it incorporates the evolution of variables over time (dynamics). This question will walk you through how to implement the Solow model numerically using Python. The end goal of this exercise is to teach you how to use a the model to generate a time series that shows the change in output and capital over time.\n",
    "\n",
    "| Description             | Formula                           |\n",
    "|-------------------------|-----------------------------------|\n",
    "| Unknowns/endogenous variables:     | $Y_t$, $K_t$, $L_t$, $C_t$, $I_t$ | \n",
    "| Production Function: | $Y \\text{ = } \\bar{A}K_t^{\\alpha}L_t^{1-\\alpha}$|\n",
    "| Capital Accumulation:   | $\\Delta K_{t+1}$ = $ I_t -$ $\\bar{d}K_t$ |\n",
    "| Labor Force: | $L_t = \\bar{L}$ |\n",
    "| Resource Constraint: | $C_t + I_t = Y_t$ |\n",
    "| Allocation of Resources: | $I_t = \\bar{s}Y_t$ |\n",
    "| Parameters | $\\bar{A}$, $\\bar{s}$, $\\bar{d}$, $\\bar{L}$, $\\bar{K_0}$ |\n",
    "\n",
    "__(a)__: By hand, work out the math in solving for the steady state of capital and output found on page 112-113 of the book. Your answer should show how you arrived at $K^* = \\Big(\\frac{\\bar{s}\\bar{A}}{\\bar{d}}\\Big)^{1/(1-\\alpha)}\\bar{L} \\space$ and $\\space Y^* = \\Big(\\frac{\\bar{s}}{\\bar{d}}\\Big)^{\\alpha/(1-\\alpha)}\\bar{A}^{1/(1-\\alpha)}\\bar{L}$."
   ]
  },
  {
   "cell_type": "markdown",
   "metadata": {},
   "source": [
    "__(b)__: Let $K_0 = 25$, $L = 2$, $A = 1$, $\\bar{d} = 0.03$, $\\bar{s} = 0.2$, and $\\alpha=1/3$. What are the numerical values for $K^*$ and $Y^*$?"
   ]
  },
  {
   "cell_type": "code",
   "execution_count": null,
   "metadata": {},
   "outputs": [],
   "source": [
    "# Exogenous variables and parameters\n",
    "\n",
    "K_0 = 25\n",
    "L = 2\n",
    "A = 1\n",
    "d_bar = 0.03\n",
    "s_bar = 0.2\n",
    "alpha=0.3\n",
    "\n",
    "# Steady state values for capital and output\n",
    "\n",
    "K_star=\n",
    "Y_star=\n",
    "\n",
    "\n"
   ]
  },
  {
   "cell_type": "markdown",
   "metadata": {},
   "source": [
    "__(c)__ Now, let's simulate the path of some key variables over time. This exercise will help you see how the model dynamics work and will illustrate how the model can generate time series that we can use to make predictions. Your goal is to create a data frame with the same structure as the table below. This data frame will be populated with the values for each variable for each time period. Please start with time $t=0$ and run a loop until you have arrived at the steady state within a precision of $\\epsilon=0.01$\n",
    "\n",
    "\n",
    "\n",
    "| Time, t | Capital, $K_t$ | Investment, $I_t$ | Depreciation, $\\bar{d}K_t$ | Change in capital, $\\Delta K_{t +1}$ | $Y_t$ |\n",
    "|---------|----------------|-------------------|----------------------------|---------------------------------------|-------|\n",
    "| 0       |  10            |                   |                            |                                       |       |  \n",
    "| 1       |                |                   |                            |                                       |       |  \n",
    "| 2       |                |                   |                            |                                       |       |\n",
    "| 3       |                |                   |                            |                                       |       |  \n",
    "| 4       |                |                   |                            |                                       |       |  \n",
    "| 5       |                |                   |                            |                                       |       |  \n",
    "| ...     |                |                   |                            |                                       |$\\space$|  "
   ]
  },
  {
   "cell_type": "code",
   "execution_count": 1,
   "metadata": {},
   "outputs": [],
   "source": [
    "# Insert Python Code Here for Part (b)\n",
    "K_0 = 25\n",
    "L = 2\n",
    "A = 1\n",
    "d_bar = 0.03\n",
    "s_bar = 0.2\n",
    "alpha=0.3\n",
    "\n",
    "# Using For Loops, implement the work you did by hand to update the table"
   ]
  },
  {
   "cell_type": "markdown",
   "metadata": {},
   "source": [
    "__(d)__: Make a time series plot of capital, investment, depreciation, and output. Start at $t=0$ and end the series 10 time periods after you've reached the steady state."
   ]
  },
  {
   "cell_type": "code",
   "execution_count": 1,
   "metadata": {},
   "outputs": [],
   "source": [
    "# Insert Python Code Here:"
   ]
  },
  {
   "cell_type": "markdown",
   "metadata": {},
   "source": [
    "## Q2) A Decrease in the Investment Rate\n",
    "\n",
    "Suppose the country that was analyzed in the previous question enacts a tax policy that discourages investment, and the policy reduces the investment rate immediateley and permanently from $\\bar{s}=0.2$ to $\\bar{s}^{\\prime}=0.1.$ Assuming the economy starts in its initial steady state (see Q1) part (b)), use the Solow model to explain what happens to the economy over time and in the long run. Using Python create a graph showing how output, capital, and investment evolve over time (i.e. put $Y_t$ on the vertical axis with a ratio scale and time on the horizontal axis), and explain what happens to each variable over time. "
   ]
  },
  {
   "cell_type": "code",
   "execution_count": 4,
   "metadata": {},
   "outputs": [],
   "source": [
    "# Python Code Here:"
   ]
  },
  {
   "cell_type": "markdown",
   "metadata": {},
   "source": [
    "Explain:"
   ]
  },
  {
   "cell_type": "markdown",
   "metadata": {},
   "source": [
    "## Q3) Technology Transfer in the Solow Growth Model\n",
    "\n",
    "One explanation for China’s rapid economic growth during the past several decades is its expansion of policies that encourage \"technology transfer.\" By this, we mean policies—such as opening up to international trade and attracting multinational corporations through various incentives—that encourage the use and adoption in China of new ideas and new technologies. This question asks you to use the Solow model to study this scenario.\n",
    "\n",
    "Suppose China begins in steady state. To keep the problem simple, let’s assume the sole result of these technology transfer policies is to increase TFP from $\\bar{A}=1$ to $\\bar{A}=2$ permanently. Answer the following questions:"
   ]
  },
  {
   "cell_type": "markdown",
   "metadata": {},
   "source": [
    "__(a)__: Using paper and pencil, draw the Solow diagram and __show__ what happens to China's output and capital stock. Also, make sure to note changes in steady state."
   ]
  },
  {
   "cell_type": "markdown",
   "metadata": {},
   "source": [
    "__(b)__: Create a graph using Python, showing what happens to output in China over time. Yes, use the parameters and variable values from Q1) as as your starting point.  What happens to output per person in China in the long run?"
   ]
  },
  {
   "cell_type": "code",
   "execution_count": null,
   "metadata": {},
   "outputs": [],
   "source": [
    "# Python Code Here:\n",
    "\n",
    "# For the solutions, please use 5 periods of steady state values before the change in A goes into effect. \n",
    "# That way students can see before and after clearly in the graph "
   ]
  },
  {
   "cell_type": "markdown",
   "metadata": {},
   "source": [
    "__(c)__: Create a graph showing what happens to the growth rate of output in China over time. Explain."
   ]
  },
  {
   "cell_type": "code",
   "execution_count": 2,
   "metadata": {},
   "outputs": [],
   "source": [
    "# Python Code Here:"
   ]
  },
  {
   "cell_type": "markdown",
   "metadata": {},
   "source": [
    "Explain:"
   ]
  },
  {
   "cell_type": "markdown",
   "metadata": {},
   "source": [
    "__(d)__: Discuss in a couple of sentences what your results imply about the effect of technology transfer on economic growth."
   ]
  },
  {
   "cell_type": "markdown",
   "metadata": {},
   "source": [
    "Explain:"
   ]
  },
  {
   "cell_type": "markdown",
   "metadata": {},
   "source": [
    "## Q4) Foreign Aid\n",
    "\n",
    "Continuing with the Solow economy we've been studying so far, suppose this country finds itself in it's steady state. To its pleasant surprise, the economy receives a generous gift of foreign aid in the form of $10$ billion worth of capital (electric power plants, machine tools, etc.), or equivalently a gift of $K_{gift}=10$. Use the Solow diagram (by hand), and the Python code we've built in this homework to explain and illustrate what happens to the economy, both immediately and over time."
   ]
  },
  {
   "cell_type": "markdown",
   "metadata": {},
   "source": [
    "__(a)__: By what proportion does consumption per person initially increase? What happens to consumption in the long run?"
   ]
  },
  {
   "cell_type": "code",
   "execution_count": null,
   "metadata": {},
   "outputs": [],
   "source": [
    "# Python Code Here:"
   ]
  },
  {
   "cell_type": "markdown",
   "metadata": {},
   "source": [
    "Explain:"
   ]
  },
  {
   "cell_type": "markdown",
   "metadata": {},
   "source": [
    "__(b)__: Suppose instead of starting in its steady state, the economy begins below its steady state, with a capital stock equal to $K_{0}=5$. Answer the same questions as part (a) for this case."
   ]
  },
  {
   "cell_type": "code",
   "execution_count": null,
   "metadata": {},
   "outputs": [],
   "source": [
    "# Python Code Here:"
   ]
  },
  {
   "cell_type": "markdown",
   "metadata": {},
   "source": [
    "Explain:"
   ]
  },
  {
   "cell_type": "markdown",
   "metadata": {},
   "source": [
    "__(c)__: Summarize what this exercise teaches you about the possible consequences of foreign aid. In this example, does foreign aid exert a long-run effect on the welfare of poor countries? What is the benefit of foreign aid?"
   ]
  },
  {
   "cell_type": "markdown",
   "metadata": {},
   "source": [
    "Explain:"
   ]
  },
  {
   "cell_type": "markdown",
   "metadata": {},
   "source": [
    "## Q5) Predicting Steady States and Growth Rates:\n",
    "\n",
    "Consider the data in the table below:\n",
    "\n",
    "| Country       | Per capita GDP, 2014 | Investment Rate $\\bar{s}$ (%) |TFP $\\bar{A}$ |\n",
    "|---------------|----------------------|-------------------------------|--------------|\n",
    "| United States | 1.0                  | 24.7                          | 1.000        |\n",
    "| Switzerland   | 1.147                | 31.1                          | 1.022        |\n",
    "| Hong Kong     | 0.868                | 26.2                          | 0.853        | \n",
    "| France        | 0.719                | 25.0                          | 0.688        |  \n",
    "| Japan         | 0.865                | 29.0                          | 0.680        |\n",
    "| South Korea   | 0.673                | 35.0                          | 0.711        |\n",
    "| Argentina     | 0.386                | 16.0                          | 0.534        |\n",
    "| Mexico        | 0.299                | 21.1                          | 0.438        |\n",
    "| Thailand       | 0.264                | 26.4                          | 0.381        |\n",
    "| India         | 0.105                | 23.3                          | 0.240        |\n",
    "| Kenya         | 0.057                | 11.1                          | 0.178        |\n",
    "| Ethiopia      | 0.029                | 10.4                          | 0.102        |"
   ]
  },
  {
   "cell_type": "markdown",
   "metadata": {},
   "source": [
    "__(a)__: Assuming no differences in TFP (ignore the last column) and that the rate of depreciation across countries is constant at $\\bar{d}=0.03$, use the data in the table to predict the ratio of per capita GDP in each country relative to that in the United States in steady state."
   ]
  },
  {
   "cell_type": "code",
   "execution_count": 5,
   "metadata": {},
   "outputs": [],
   "source": [
    "# Python Code Here:"
   ]
  },
  {
   "cell_type": "markdown",
   "metadata": {},
   "source": [
    "__(b)__: Now do the same exercise as part __(a)__ assuming TFP is given by the levels in the last\n",
    "column of the table above. Discuss briefly the differences you find when you include vs not include TFP differences in your predictions. Which approach do you prefer and why?"
   ]
  },
  {
   "cell_type": "code",
   "execution_count": null,
   "metadata": {},
   "outputs": [],
   "source": [
    "# Python Code Here:"
   ]
  },
  {
   "cell_type": "markdown",
   "metadata": {},
   "source": [
    "Discuss:"
   ]
  },
  {
   "cell_type": "markdown",
   "metadata": {},
   "source": [
    "__(c)__: Based on the numbers you calculated on part __(b)__, compute the percentage gap between the steady-state ratio of per capita GDP in each country relative to that in the United States and the actual ratio in 2010 (as shown in the table). Use the actual 2010 ratio in the denominator. How do your model-derived predictions compare to the data? Please discuss the strenghts and weaknesses of our model."
   ]
  },
  {
   "cell_type": "code",
   "execution_count": null,
   "metadata": {},
   "outputs": [],
   "source": [
    "# Python Code Here:"
   ]
  },
  {
   "cell_type": "markdown",
   "metadata": {},
   "source": [
    "Discuss:"
   ]
  },
  {
   "cell_type": "markdown",
   "metadata": {},
   "source": [
    "__(d)__: Apply the principle of transition dynamics to rank the countries in order of expected growth rate over the coming decades, from fastest to slowest. _(Hint: look at page 123 of the textbook for a refresher)_"
   ]
  },
  {
   "cell_type": "code",
   "execution_count": null,
   "metadata": {},
   "outputs": [],
   "source": [
    "# Python Code Here:"
   ]
  },
  {
   "cell_type": "markdown",
   "metadata": {},
   "source": [
    "## Q6) Growth Rates in the Solow Framework"
   ]
  },
  {
   "cell_type": "markdown",
   "metadata": {},
   "source": [
    "__(a)__: Use the production function $Y_t = \\bar{A}K_t^{1/3} L_t ^{2/3}$ and the rules for computing growth rates from page 53 of Chapter 3 to write the growth rate of per capita GDP as a function of the growth rate of the capital stock. (_Hint_: Because the labor force is constant, the growth rates of GDP and per capita GDP are the same.)"
   ]
  },
  {
   "cell_type": "markdown",
   "metadata": {},
   "source": []
  },
  {
   "cell_type": "markdown",
   "metadata": {},
   "source": [
    "__(b)__: Combine this result with the last equation in footnote 7 (Section 5.9) to get a solution for the growth rate of per capita GDP as a function of the current level of capital $K_t$. Be sure to write your answer in terms of $K_t$ and parameters of the model only. Use the fact that $\\space \\bar{s}Y^*/K = \\bar{d}$."
   ]
  },
  {
   "cell_type": "markdown",
   "metadata": {},
   "source": []
  }
 ],
 "metadata": {
  "kernelspec": {
   "display_name": "Python 3",
   "language": "python",
   "name": "python3"
  },
  "language_info": {
   "codemirror_mode": {
    "name": "ipython",
    "version": 3
   },
   "file_extension": ".py",
   "mimetype": "text/x-python",
   "name": "python",
   "nbconvert_exporter": "python",
   "pygments_lexer": "ipython3",
   "version": "3.7.1"
  }
 },
 "nbformat": 4,
 "nbformat_minor": 2
}
