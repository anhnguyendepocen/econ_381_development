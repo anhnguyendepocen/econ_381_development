{
 "cells": [
  {
   "cell_type": "markdown",
   "metadata": {},
   "source": [
    "# Chapter 05 Exercises\n",
    "\n",
    "## Name goes here\n",
    "\n",
    "### Date"
   ]
  },
  {
   "cell_type": "code",
   "execution_count": 1,
   "metadata": {},
   "outputs": [],
   "source": [
    "# Insert the Python Libraries You Will Need Here:\n"
   ]
  },
  {
   "cell_type": "markdown",
   "metadata": {},
   "source": [
    "## Q1) Putting the Solow Model into Python Code\n",
    "\n",
    "\n",
    "| Description             | Formula                           |\n",
    "|-------------------------|-----------------------------------|\n",
    "| Unknowns/enogenous variables:     | $Y_t, K_t, L_t, C_t, I_t$ | \n",
    "| Production Function: | $Y \\text{ = } \\bar{A}K^{1/3}L^{2/3}$|\n",
    "| Capital Accumulation:   | $\\frac{2}{3}\\cdot \\frac{Y}{L} \\text{=} \\omega$ |\n",
    "| Labor Force: | $K = \\bar{K}$ |\n",
    "| Resource Constraint: | $L = \\bar{L}$ |\n",
    "| Allocation of Resources: | $L = \\bar{L}$ |\n",
    "| Parameters | $L = \\bar{L}$ |"
   ]
  },
  {
   "cell_type": "markdown",
   "metadata": {},
   "source": [
    "## Q2) A Decrease in the Investment Rate\n",
    "\n",
    "Suppose a country enacts a tax policy that discourages investment, and the policy reduces the investment rate immediatley and permanently from $\\bar{s}$ to $\\bar{s}^{\\prime}.$ Assuming the economy starts in its initial steady state, use the Solow model to explain what happens to the economy over time and in the long run. Using Python create a graph showing how output evolves over time (put $Y_t$ on the vertical axis with a ratio scale and time on the horizontal axis), and explain what happens to economics growth over time. \n",
    "\n",
    "\n",
    "## Q3) Technology Transfer in the Solow Growth Model\n",
    "\n",
    "One explanation for China’s rapid economic growth during the past several decades is its expansion of policies that encourage \"technology transfer.\" By this, we mean policies—such as opening up to international trade and attracting multinational corporations through various incentives—that encourage the use and adoption in China of new ideas and new technologies. This question asks you to use the Solow model to study this scenario.\n",
    "\n",
    "Suppose China begins in steady state. To keep the problem simple, let’s assume the sole result of these technology transfer policies is to increase $\\bar{A}$ by a large and permanent amount, one time. Answer the following questions:\n",
    "\n",
    "__(a)__:\n",
    "\n",
    "__(b)__:\n",
    "\n",
    "__(c)__:\n",
    "\n",
    "__(d)__:\n",
    "\n",
    "\n",
    "## Q4) Foreign Aid\n",
    "\n",
    "Consider a Solow economy that begins with a capital stock equal to \\$300 billion, and suppose its steady-state level of capital is \\$500 billion. To its pleasant surprise, the economy receives a generous gift of foreign aid in the form of \\$100 billion worth of capital (electric power plants, machine tools, etc.).\n",
    "\n",
    "__(a)__: Use the Solow diagram, other graphs, and the mathematics of the Solow model to explain what happens to the economy, both immediately and over time. By what proportion does consumption per person initially increase? What happens to consumption in the long run?\n",
    "\n",
    "__(b)__: Suppose instead of starting below its steady state, the economy begins in steady state, with a capital stock equal to $500 billion. Answer part (a) for this case.\n",
    "\n",
    "__(c)__: Summarize what this exercise teaches you about the possible consequences of foreign aid. In this example, does foreign aid exert a long-run effect on the welfare of poor countries? What is the benefit of foreign aid?\n",
    "\n",
    "## Q5) Predicting Steady States and Growth Rates:\n",
    "\n",
    "Consider the data in the table below:\n",
    "\n",
    "\n",
    "\n",
    "__(a)__: Assuming no differences in TFP (ignore the last column) or the rate of depreciation across countries, use the data in the table to predict the ratio of per capita GDP in each country relative to that in the United States in steady state.\n",
    "\n",
    "__(b)__: Now do the same exercise assuming TFP is given by the levels in the last\n",
    "column. Discuss briefly the differences you find in these two approaches.\n",
    "\n",
    "__(c)__: Based on the numbers you find with the TFP differences, compute the percentage gap between the steady-state income ratio and the ratio in 2010 (as shown in the table). Use the actual 2010 ratio in the denominator.\n",
    "\n",
    "__(d)__: Apply the principle of transition dynamics to rank the countries in order of expected growth rate over the coming decades, from fastest to slowest.\n",
    "\n",
    "## Q6) Private Verus Public Investment (A FRED Question)\n",
    "\n",
    "__(a)__:\n",
    "\n",
    "__(b)__:\n",
    "\n",
    "__(c)__:\n",
    "\n",
    "\n",
    "## Q7) Growth Rates in the Solow Framework\n",
    "\n",
    "__(a)__:\n",
    "\n",
    "__(b)__:"
   ]
  },
  {
   "cell_type": "code",
   "execution_count": null,
   "metadata": {},
   "outputs": [],
   "source": []
  }
 ],
 "metadata": {
  "kernelspec": {
   "display_name": "Python 3",
   "language": "python",
   "name": "python3"
  },
  "language_info": {
   "codemirror_mode": {
    "name": "ipython",
    "version": 3
   },
   "file_extension": ".py",
   "mimetype": "text/x-python",
   "name": "python",
   "nbconvert_exporter": "python",
   "pygments_lexer": "ipython3",
   "version": "3.7.0"
  }
 },
 "nbformat": 4,
 "nbformat_minor": 2
}
