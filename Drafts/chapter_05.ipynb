{
 "cells": [
  {
   "cell_type": "markdown",
   "metadata": {},
   "source": [
    "# Chapter 05 Exercises\n",
    "\n",
    "## Name goes here\n",
    "\n",
    "### Date"
   ]
  },
  {
   "cell_type": "code",
   "execution_count": 1,
   "metadata": {},
   "outputs": [],
   "source": [
    "# Insert the Python Libraries You Will Need Here:\n"
   ]
  },
  {
   "cell_type": "markdown",
   "metadata": {},
   "source": [
    "## Q1) Putting the Solow Model into Python Code\n",
    "\n",
    "One of the important features of the Solow model is that it incorporates changes over time. This question will walk you though how to build the Solow model in Python. The end goal is to create a chart that shows the change in output, $Y^*$ over time.\n",
    "\n",
    "| Description             | Formula                           |\n",
    "|-------------------------|-----------------------------------|\n",
    "| Unknowns/enogenous variables:     | $Y_t$, $K_t$, $L_t$, $C_t$, $I_t$ | \n",
    "| Production Function: | $Y \\text{ = } \\bar{A}K_t^{1/3}L_t^{2/3}$|\n",
    "| Capital Accumulation:   | $\\Delta K_{t+1}$ = $ I_t -$ $\\bar{d}K_t$ |\n",
    "| Labor Force: | $L_t = \\bar{L}$ |\n",
    "| Resource Constraint: | $C_t + I_t = Y_t$ |\n",
    "| Allocation of Resources: | $I_t = \\bar{s}Y_t$ |\n",
    "| Parameters | $\\bar{A}$, $\\bar{s}$, $\\bar{d}$, $\\bar{L}$, $\\bar{K_0}$ |\n",
    "\n",
    "__(a)__: By hand, work out the math in solving for the steady state of capital and output found on page 112-113 of the book. Your answer should show how you arrived at $K^* = \\Big(\\frac{\\bar{s}\\bar{A}}{\\bar{d}}\\Big)^{3/2}\\bar{L} \\space$ and $\\space Y^* = \\Big(\\frac{\\bar{s}}{\\bar{d}}\\Big)^{1/2}\\bar{A}^{3/2}\\bar{L}$."
   ]
  },
  {
   "cell_type": "markdown",
   "metadata": {},
   "source": [
    "__(b)__: Make a table similar to the one shown below. Let $K_0 = 10$, $L = 20$, $A = 1$, $\\bar{d} = 0.1$, $\\bar{s} = 0.1$. $t$ will be from $0$ until the steady state plus 3 time periods. Using Python, convert your work in part (a) so that you can create the table for all $t$. \n",
    "\n",
    "\n",
    "| Time, t | Capital, $K_t$ | Investment, $I_t$ | Depreciation, $\\bar{d}K_t$ | Change in captital, $\\Delta K_{t +1}$ | $Y_t$ |\n",
    "|---------|----------------|-------------------|----------------------------|---------------------------------------|-------|\n",
    "| 0       |  10              |                   |                            |                                       |       |  \n",
    "| 1       |                |                   |                            |                                       |       |  \n",
    "| 2       |                |                   |                            |                                       |       |\n",
    "| 3       |                |                   |                            |                                       |       |  \n",
    "| 4       |                |                   |                            |                                       |       |  \n",
    "| 5       |                |                   |                            |                                       |       |  \n",
    "| ...       |                |                   |                            |                                       |$\\space$|  "
   ]
  },
  {
   "cell_type": "code",
   "execution_count": 1,
   "metadata": {},
   "outputs": [],
   "source": [
    "# Insert Python Code Here for Part (b)\n",
    "K0 = 10\n",
    "L = 20\n",
    "A = 1\n",
    "dbar = 0.1\n",
    "sbar = .1\n",
    "\n",
    "# Using For Loops implement the work you did by hand to update the table"
   ]
  },
  {
   "cell_type": "markdown",
   "metadata": {},
   "source": [
    "__(c)__: Make a time series plot of steady state output."
   ]
  },
  {
   "cell_type": "code",
   "execution_count": 1,
   "metadata": {},
   "outputs": [],
   "source": [
    "# Insert Python Code Here:"
   ]
  },
  {
   "cell_type": "markdown",
   "metadata": {},
   "source": [
    "## Q2) A Decrease in the Investment Rate\n",
    "\n",
    "Suppose a country enacts a tax policy that discourages investment, and the policy reduces the investment rate immediatley and permanently from $\\bar{s}$ to $\\bar{s}^{\\prime}.$ Assuming the economy starts in its initial steady state, use the Solow model to explain what happens to the economy over time and in the long run. Using Python create a graph showing how output evolves over time (put $Y_t$ on the vertical axis with a ratio scale and time on the horizontal axis), and explain what happens to economic growth over time. "
   ]
  },
  {
   "cell_type": "code",
   "execution_count": 4,
   "metadata": {},
   "outputs": [],
   "source": [
    "# Python Code Here:"
   ]
  },
  {
   "cell_type": "markdown",
   "metadata": {},
   "source": [
    "## Q3) Technology Transfer in the Solow Growth Model\n",
    "\n",
    "One explanation for China’s rapid economic growth during the past several decades is its expansion of policies that encourage \"technology transfer.\" By this, we mean policies—such as opening up to international trade and attracting multinational corporations through various incentives—that encourage the use and adoption in China of new ideas and new technologies. This question asks you to use the Solow model to study this scenario.\n",
    "\n",
    "Suppose China begins in steady state. To keep the problem simple, let’s assume the sole result of these technology transfer policies is to increase $\\bar{A}$ by a large and permanent amount, one time. Answer the following questions:"
   ]
  },
  {
   "cell_type": "markdown",
   "metadata": {},
   "source": [
    "__(a)__: Analyze this change using a Solow diagram. What happens to the economy over time."
   ]
  },
  {
   "cell_type": "code",
   "execution_count": 3,
   "metadata": {},
   "outputs": [],
   "source": [
    "# Python Code Here"
   ]
  },
  {
   "cell_type": "markdown",
   "metadata": {},
   "source": [
    "__(b)__: Create a graph using Python, showing what happens to output in China ofer time. What happens to output per person in China in the long run?"
   ]
  },
  {
   "cell_type": "code",
   "execution_count": null,
   "metadata": {},
   "outputs": [],
   "source": [
    "# Python Code Here:"
   ]
  },
  {
   "cell_type": "markdown",
   "metadata": {},
   "source": [
    "__(c)__: Create a graph showing what happens to the growth rate of output in China over time. Explain."
   ]
  },
  {
   "cell_type": "code",
   "execution_count": 2,
   "metadata": {},
   "outputs": [],
   "source": [
    "# Python Code Here:"
   ]
  },
  {
   "cell_type": "markdown",
   "metadata": {},
   "source": [
    "__(d)__: Discuss in a couple of sentences what your results imply about the effect of technology transfer on economic growth."
   ]
  },
  {
   "cell_type": "markdown",
   "metadata": {},
   "source": []
  },
  {
   "cell_type": "markdown",
   "metadata": {},
   "source": [
    "## Q4) Foreign Aid\n",
    "\n",
    "Consider a Solow economy that begins with a capital stock equal to \\$300 billion, and suppose its steady-state level of capital is \\$500 billion. To its pleasant surprise, the economy receives a generous gift of foreign aid in the form of \\$100 billion worth of capital (electric power plants, machine tools, etc.)."
   ]
  },
  {
   "cell_type": "markdown",
   "metadata": {},
   "source": [
    "__(a)__: Use the Solow diagram, other graphs, and the mathematics of the Solow model to explain what happens to the economy, both immediately and over time. By what proportion does consumption per person initially increase? What happens to consumption in the long run?"
   ]
  },
  {
   "cell_type": "code",
   "execution_count": null,
   "metadata": {},
   "outputs": [],
   "source": [
    "# Python Code Here:"
   ]
  },
  {
   "cell_type": "markdown",
   "metadata": {},
   "source": [
    "__(b)__: Suppose instead of starting below its steady state, the economy begins in steady state, with a capital stock equal to $500 billion. Answer part (a) for this case."
   ]
  },
  {
   "cell_type": "code",
   "execution_count": null,
   "metadata": {},
   "outputs": [],
   "source": [
    "# Python Code Here:"
   ]
  },
  {
   "cell_type": "markdown",
   "metadata": {},
   "source": [
    "__(c)__: Summarize what this exercise teaches you about the possible consequences of foreign aid. In this example, does foreign aid exert a long-run effect on the welfare of poor countries? What is the benefit of foreign aid?"
   ]
  },
  {
   "cell_type": "markdown",
   "metadata": {},
   "source": []
  },
  {
   "cell_type": "markdown",
   "metadata": {},
   "source": [
    "## Q5) Predicting Steady States and Growth Rates:\n",
    "\n",
    "Consider the data in the table below:\n",
    "\n",
    "| Country       | Per capita GDP, 2014 | Investment Rate $\\bar{s}$ (%) |TFP $\\bar{A}$ |\n",
    "|---------------|----------------------|-------------------------------|--------------|\n",
    "| United States | 1.0                  | 24.7                          | 1.000        |\n",
    "| Switzerland   | 1.147                | 31.1                          | 1.022        |\n",
    "| Hong Kong     | 0.868                | 26.2                          | 0.853        | \n",
    "| France        | 0.719                | 25.0                          | 0.688        |  \n",
    "| Japan         | 0.865                | 29.0                          | 0.680        |\n",
    "| South Korea   | 0.673                | 35.0                          | 0.711        |\n",
    "| Argentina     | 0.386                | 16.0                          | 0.534        |\n",
    "| Mexico        | 0.299                | 21.1                          | 0.438        |\n",
    "| Thiland       | 0.264                | 26.4                          | 0.381        |\n",
    "| India         | 0.105                | 23.3                          | 0.240        |\n",
    "| Kenya         | 0.057                | 11.1                          | 0.178        |\n",
    "| Etheopia      | 0.029                | 10.4                          | 0.102        |"
   ]
  },
  {
   "cell_type": "markdown",
   "metadata": {},
   "source": [
    "__(a)__: Assuming no differences in TFP (ignore the last column) or the rate of depreciation across countries, use the data in the table to predict the ratio of per capita GDP in each country relative to that in the United States in steady state."
   ]
  },
  {
   "cell_type": "code",
   "execution_count": 5,
   "metadata": {},
   "outputs": [],
   "source": [
    "# Python Code Here:"
   ]
  },
  {
   "cell_type": "markdown",
   "metadata": {},
   "source": [
    "__(b)__: Now do the same exercise assuming TFP is given by the levels in the last\n",
    "column. Discuss briefly the differences you find in these two approaches."
   ]
  },
  {
   "cell_type": "code",
   "execution_count": null,
   "metadata": {},
   "outputs": [],
   "source": [
    "# Python Code Here:"
   ]
  },
  {
   "cell_type": "markdown",
   "metadata": {},
   "source": [
    "__(c)__: Based on the numbers you find with the TFP differences, compute the percentage gap between the steady-state income ratio and the ratio in 2010 (as shown in the table). Use the actual 2010 ratio in the denominator."
   ]
  },
  {
   "cell_type": "code",
   "execution_count": null,
   "metadata": {},
   "outputs": [],
   "source": [
    "# Python Code Here:"
   ]
  },
  {
   "cell_type": "markdown",
   "metadata": {},
   "source": [
    "__(d)__: Apply the principle of transition dynamics to rank the countries in order of expected growth rate over the coming decades, from fastest to slowest."
   ]
  },
  {
   "cell_type": "code",
   "execution_count": null,
   "metadata": {},
   "outputs": [],
   "source": [
    "# Python Code Here:"
   ]
  },
  {
   "cell_type": "markdown",
   "metadata": {},
   "source": [
    "## Q7) Growth Rates in the Solow Framework"
   ]
  },
  {
   "cell_type": "markdown",
   "metadata": {},
   "source": [
    "__(a)__: Use the production function $Y_t = \\bar{A}K_t^{1/3} L_t ^{2/3}$ and the rules for computing growth rates from page 53 of Chapter 3 to write the growth rate of per capita GDP as a function of the growth rate of the capital stock. (_Hint_: Because the labor force is constant, the growth rates of GDP and per capita GDP are the same.)"
   ]
  },
  {
   "cell_type": "markdown",
   "metadata": {},
   "source": []
  },
  {
   "cell_type": "markdown",
   "metadata": {},
   "source": [
    "__(b)__: Combine this result with the last equation in footnote 7 (Section 5.9) to get a solution for the growth rate of per capita GDP as a function of the current level of capital $K_t$. Be sure to write your answer in therms of $K_t$ and parameters of the model only. For example, use the fact that $\\space \\bar{s}Y^*/K = \\bar{d}$."
   ]
  },
  {
   "cell_type": "markdown",
   "metadata": {},
   "source": []
  }
 ],
 "metadata": {
  "kernelspec": {
   "display_name": "Python 3",
   "language": "python",
   "name": "python3"
  },
  "language_info": {
   "codemirror_mode": {
    "name": "ipython",
    "version": 3
   },
   "file_extension": ".py",
   "mimetype": "text/x-python",
   "name": "python",
   "nbconvert_exporter": "python",
   "pygments_lexer": "ipython3",
   "version": "3.7.0"
  }
 },
 "nbformat": 4,
 "nbformat_minor": 2
}
