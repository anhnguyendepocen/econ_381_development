{
 "cells": [
  {
   "cell_type": "markdown",
   "metadata": {},
   "source": [
    "# Chapter 06 Appendix Exercises\n",
    "\n",
    "## Name goes here\n",
    "\n",
    "### Date"
   ]
  },
  {
   "cell_type": "code",
   "execution_count": null,
   "metadata": {},
   "outputs": [],
   "source": [
    "# Insert the Python Libraries You Will Need Here:\n"
   ]
  },
  {
   "cell_type": "markdown",
   "metadata": {},
   "source": [
    "## Growth Accounting\n",
    "\n",
    "Go to the FRED website and download GDP, capital, and labor data from 1960 to 2015 for the countries listed below. \n",
    "\n",
    "__Do the following three things for each of the countries listed below.__\n",
    "\n",
    "i. Calculate the exponent for $\\alpha$.\n",
    "\n",
    "ii. Calculate the growth rate of $Y$\n",
    "\n",
    "iii. Calculate growth rate of TFP using equation 6.12 in the book.\n",
    "\n",
    "__(a)__: USA\n",
    "\n",
    "__(b)__: France\n",
    "\n",
    "__(c)__: China\n",
    "\n",
    "__(d)__: Colombia\n",
    "\n",
    "__(e)__: Ghana\n",
    "\n",
    "__(f)__: Saudi Arabia"
   ]
  },
  {
   "cell_type": "code",
   "execution_count": null,
   "metadata": {},
   "outputs": [],
   "source": []
  },
  {
   "cell_type": "markdown",
   "metadata": {},
   "source": [
    "## Transition Dynamics in the Combined Solow-Romer Model\n",
    "\n",
    "Consider the combined model studies in Chapter 6 Appendix. Suppose, the economy begins on a balanced growth path in the year 2000. Then in 2030, the depreciation rate $\\bar{d}$ rises permanently to the higher level $\\bar{d'}$\n",
    "\n",
    "__(a)__: Using Python graph the behavior of output per person over time, using a ratio scale. \n",
    "\n",
    "__(b)__: Explain what happens to the growth rate of output per person over time and why."
   ]
  },
  {
   "cell_type": "code",
   "execution_count": null,
   "metadata": {},
   "outputs": [],
   "source": []
  },
  {
   "cell_type": "markdown",
   "metadata": {},
   "source": [
    "## The combined Solow-Romer Model Part II\n",
    "\n",
    "Now let the production function for output be $Y_t = A_t K_t^\\alpha L_{yt}^{1 - \\alpha}$. That is, we've made the exponent on capital a parameter $(\\alpha)$ rather than keeping it as a specific number. Notice that this affects the exponent on labor as well. In order to preserve constant returns to objects. \n",
    "\n",
    "__(a)__: Solve the growth rate of output per person along a balanced growth path. Explain how it relates to the solution of the model considered in the appendix. \n",
    "\n",
    "__(b)__: Solve for the level of output per person along a balanced growth path. Explain how it relates to the solution of the model considered in the appendix. \n",
    "\n",
    "__(c)__: The formula for a geometric series is $1 + \\alpha + \\alpha^2 + \\alpha^3 + ... = \\frac{1}{1 - \\alpha}$. if $\\alpha$ is some number between 0 and 1. How and why is this formula related to your answers to parts __(a)__ and __(b)__. (_Hint_: Think about how an increase in output today affects capital in the future.)"
   ]
  },
  {
   "cell_type": "code",
   "execution_count": null,
   "metadata": {},
   "outputs": [],
   "source": []
  }
 ],
 "metadata": {
  "kernelspec": {
   "display_name": "Python 3",
   "language": "python",
   "name": "python3"
  },
  "language_info": {
   "codemirror_mode": {
    "name": "ipython",
    "version": 3
   },
   "file_extension": ".py",
   "mimetype": "text/x-python",
   "name": "python",
   "nbconvert_exporter": "python",
   "pygments_lexer": "ipython3",
   "version": "3.7.0"
  }
 },
 "nbformat": 4,
 "nbformat_minor": 2
}
