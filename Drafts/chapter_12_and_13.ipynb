{
 "cells": [
  {
   "cell_type": "markdown",
   "metadata": {},
   "source": [
    "# Chapter 12 & 13\n",
    "## Name goes here\n",
    "\n",
    "### Date"
   ]
  },
  {
   "cell_type": "code",
   "execution_count": null,
   "metadata": {},
   "outputs": [],
   "source": [
    "# Import the libraries"
   ]
  },
  {
   "cell_type": "markdown",
   "metadata": {},
   "source": [
    "## Q1) Your day as chair of the Fed: \n",
    "\n",
    "With the goal of stabilizing output, explain how and why you would change the interest rate in response to the following shocks using the IS-MP framewkr. Your answer should be numerical, i.e. I would change the real interest rate to 2.3%. Assume the following parameter values: \n",
    "\n",
    "\\begin{align*}\n",
    "\\bar{a} = 0\\\\\n",
    "\\bar{r} =  2\\%\\\\\n",
    "\\bar{b} = 1/2\n",
    "\\end{align*}"
   ]
  },
  {
   "cell_type": "markdown",
   "metadata": {},
   "source": [
    "__(a)__ Consumers become pessimistic about the state of the economy and future productivity growth and $\\Delta \\bar{a}_{C}=-.5$"
   ]
  },
  {
   "cell_type": "code",
   "execution_count": null,
   "metadata": {},
   "outputs": [],
   "source": []
  },
  {
   "cell_type": "markdown",
   "metadata": {},
   "source": [
    "__(b)__ Improvements in information technology increase productivity and therefore increase the marginal product of capital and $\\Delta\\bar{r}=1\\%$"
   ]
  },
  {
   "cell_type": "code",
   "execution_count": null,
   "metadata": {},
   "outputs": [],
   "source": []
  },
  {
   "cell_type": "markdown",
   "metadata": {},
   "source": [
    "__(c)__ A booming economy in Europe this year leads to an unexpected increase in the demand of U.S. goods and $\\Delta \\bar{a}_{EX} =1$"
   ]
  },
  {
   "cell_type": "code",
   "execution_count": null,
   "metadata": {},
   "outputs": [],
   "source": []
  },
  {
   "cell_type": "markdown",
   "metadata": {},
   "source": [
    "__(d)__ Americans develop and infatuation with all things made in New Zealand and sharply increase their imports from that country and $\\Delta \\bar{a}_{IM} = 0.2$"
   ]
  },
  {
   "cell_type": "code",
   "execution_count": null,
   "metadata": {},
   "outputs": [],
   "source": []
  },
  {
   "cell_type": "markdown",
   "metadata": {},
   "source": [
    "__(e)__ A large earthquake destroys many houses and buildings on the West Coast, but \"fortunately\" results in little loss of life - _I'll let you decide what changed in this scenario and by how much._"
   ]
  },
  {
   "cell_type": "code",
   "execution_count": null,
   "metadata": {},
   "outputs": [],
   "source": []
  },
  {
   "cell_type": "markdown",
   "metadata": {},
   "source": [
    "__(f)__ A housing bubble starts, so that housing prices fall by 20% and new home sales drop sharply - _I'll let you decide what changed in this scenario and the magnitudes of the change. Hint: see page 315 of your textbook_"
   ]
  },
  {
   "cell_type": "code",
   "execution_count": null,
   "metadata": {},
   "outputs": [],
   "source": []
  },
  {
   "cell_type": "markdown",
   "metadata": {},
   "source": [
    "## Q2) Crowding out:\n",
    "\n",
    "Consider a new monetary policy rule, where monetary policy depends only on short-run output:\n",
    "$$ R_t -\\bar{r}= \\bar{n}\\tilde{Y}_{t}$$"
   ]
  },
  {
   "cell_type": "markdown",
   "metadata": {},
   "source": []
  },
  {
   "cell_type": "markdown",
   "metadata": {},
   "source": [
    "__(a)__ Assuming that $\\bar{n}=1/2$, draw a new diagram where instead of the usual IS and MP curves, you plot the simplified version of the Taylor rule along with the IS curve. You might label this new curve MPR for “monetary policy rule.” How does your graph differ from the standard IS-MP diagram."
   ]
  },
  {
   "cell_type": "markdown",
   "metadata": {},
   "source": []
  },
  {
   "cell_type": "markdown",
   "metadata": {},
   "source": [
    "__(b)__ Now consider the effect of a positive aggregate demand shock in the shape of a fiscal stimulus bill. Compare and contrast the effect of this shock on the economy in the standard IS-MP diagram versus the IS-MPR diagram. Why is the result different? Assume that $\\bar{n}=1/2$ and that the IS curve follows its initial parameters (see the Preliminaries section above)."
   ]
  },
  {
   "cell_type": "code",
   "execution_count": null,
   "metadata": {},
   "outputs": [],
   "source": []
  },
  {
   "cell_type": "markdown",
   "metadata": {},
   "source": []
  },
  {
   "cell_type": "markdown",
   "metadata": {},
   "source": [
    "__(c)__ Economists refer to the result in the IS-MPR diagram as “crowding out.” What gets crowded out and why?"
   ]
  },
  {
   "cell_type": "markdown",
   "metadata": {},
   "source": []
  },
  {
   "cell_type": "markdown",
   "metadata": {},
   "source": [
    "## Q3) Revisiting the effect of the booming European economy:\n",
    "\n",
    "Reread the aggregate demand shock example (event #3) in Section 13.5 of your textbook. Suppose the parameters of the AS and AD curves take the following values:\n",
    "\\begin{align*}\n",
    "\\bar{a}=2\\\\\n",
    "\\bar{b}=1/2\\\\\n",
    "\\bar{m}=1\\\\\n",
    "\\bar{\\nu}=1/2\\\\\n",
    "\\bar{\\pi}=3%\\\\\n",
    "\\end{align*}"
   ]
  },
  {
   "cell_type": "markdown",
   "metadata": {},
   "source": [
    "__a)__ Assuming that the aggregate demand shock lasts 3 years, solve for the time paths of short-run output $\\tilde{Y}_{t}$ and the inflation rate $\\pi_{t}$ for 15 periods.  "
   ]
  },
  {
   "cell_type": "code",
   "execution_count": 1,
   "metadata": {},
   "outputs": [],
   "source": [
    "# Hint: you have to create an array for short-run output and the inflation rate starting at the parameter values stated above.\n",
    "# I would use a loop to simulate how the economy evolves over time. Note: after three periods, change a to zero and continue the loop."
   ]
  },
  {
   "cell_type": "markdown",
   "metadata": {},
   "source": [
    "__b)__ Plot the time series for short-run output $\\tilde{Y}_{t}$ and the inflation rate $\\pi_{t}$"
   ]
  },
  {
   "cell_type": "code",
   "execution_count": null,
   "metadata": {},
   "outputs": [],
   "source": []
  },
  {
   "cell_type": "markdown",
   "metadata": {},
   "source": [
    "__c)__ Assuming that $Y=100$ $P=100$ is the value of real output $Y_{t}$ and the price level $P_{t}$ for the 10 periods preceeding the AD shock, plot the time path of real output and price level before, during, and after the AD shock. You should have a total of 25 periods in your time series."
   ]
  },
  {
   "cell_type": "code",
   "execution_count": null,
   "metadata": {},
   "outputs": [],
   "source": []
  },
  {
   "cell_type": "markdown",
   "metadata": {},
   "source": [
    "## Q4) The Taylor rule:\n",
    "\n",
    "John Taylor of Stanford University proposed the following monetary policy rule:\n",
    "$$ R_t - \\bar{r} = \\bar{m}(\\pi_{t}-\\bar{\\pi})+\\bar{n}\\tilde{Y}_{t} $$\n",
    "\n",
    "That is, Taylor suggests that monetary policy should increase the real interest rate whenever output exceeds potential."
   ]
  },
  {
   "cell_type": "markdown",
   "metadata": {},
   "source": [
    "__a)__ What is the economic justification for such a rule?"
   ]
  },
  {
   "cell_type": "markdown",
   "metadata": {},
   "source": []
  },
  {
   "cell_type": "markdown",
   "metadata": {},
   "source": [
    "__b)__ Combine this policy rule with the IS curve to get a new aggregate demand curve. How does it differ from the AD curve we considered in the chapter? Consider the response of short-run output to aggregate demand shocks and inflation shocks"
   ]
  },
  {
   "cell_type": "markdown",
   "metadata": {},
   "source": []
  },
  {
   "cell_type": "markdown",
   "metadata": {},
   "source": [
    "__c)__ Redo __Q3)__ using this new AD curve. Assume that $\\bar{n}=1/2$. Please describe the effect of a different monetary policy rule on business cycles."
   ]
  },
  {
   "cell_type": "code",
   "execution_count": null,
   "metadata": {},
   "outputs": [],
   "source": []
  },
  {
   "cell_type": "markdown",
   "metadata": {},
   "source": []
  }
 ],
 "metadata": {
  "kernelspec": {
   "display_name": "Python 3",
   "language": "python",
   "name": "python3"
  },
  "language_info": {
   "codemirror_mode": {
    "name": "ipython",
    "version": 3
   },
   "file_extension": ".py",
   "mimetype": "text/x-python",
   "name": "python",
   "nbconvert_exporter": "python",
   "pygments_lexer": "ipython3",
   "version": "3.7.0"
  }
 },
 "nbformat": 4,
 "nbformat_minor": 2
}
