{
 "cells": [
  {
   "cell_type": "markdown",
   "metadata": {},
   "source": [
    "# Chapter 06 Exercises\n",
    "\n",
    "## Name goes here\n",
    "\n",
    "### Date"
   ]
  },
  {
   "cell_type": "code",
   "execution_count": null,
   "metadata": {},
   "outputs": [],
   "source": [
    "# Insert the Python Libraries You Will Need Here:\n"
   ]
  },
  {
   "cell_type": "markdown",
   "metadata": {},
   "source": [
    "## Lesson Overview\n",
    "\n",
    "In this lesson you will use Python heavily to model changes to inputs in the Solow model and show these changes over time."
   ]
  },
  {
   "cell_type": "markdown",
   "metadata": {},
   "source": [
    "## Q1) Numbers in the Romer Model\n",
    "\n",
    "### Part I\n",
    "\n",
    "Suppose the parameters of the Romer model take the following values: $\\bar{A_0} = 100$, $\\bar{\\ell} = 0.10$, $\\bar{z} = \\frac{1}{500}$, and $\\bar{L} = 100$. Use Python to answer __(a)__ through __(d)__.\n",
    "\n",
    "__(a):__ What is the growth rate of output per person in this economy?\n",
    "\n",
    "__(b):__ What is the initial level of output per person? \n",
    "\n",
    "__(c):__ Use the Solow framework to model output per person over 100 years. __Hint__: _Use what you learned in data camp and in Chapter 5 homework to build a __for loop__ to do this. First, preconstruct an empty array (outside of your loop) of length 100. The first entry in your array[0] will be equivalent to year 1._ Then inside the loop, fill each memory slot in your array with output based on the Solow framework. Color the path of output per person and add labels to the plot. \n",
    "\n",
    "__(d):__ Suppose the research share were to double. What is the output now for __(a)__ and __(b)__? Add this change to the graph for part __(c)__. For part __(c)__, you will now have two 100 year paths on the same plot. Make sure your new path has a different color and that your plot includes a legend indicating which path demonstrates which changes to output per person over time.\n",
    "\n"
   ]
  },
  {
   "cell_type": "code",
   "execution_count": null,
   "metadata": {},
   "outputs": [],
   "source": []
  },
  {
   "cell_type": "markdown",
   "metadata": {},
   "source": [
    "### Part II\n",
    "\n",
    "Now suppose the parameters of the model take the following values $\\bar{A_0} = 100$, $\\bar{\\ell} = 0.06$, $\\bar{z} = \\frac{1}{3000}$, and $\\bar{L} = 1000$. Use Python to answer __(a)__ through __(c)__.\n",
    "\n",
    "__(a):__ What is the growth rate of output per person in this economy?\n",
    "\n",
    "__(b):__ What is the initial level of output per person? Make a plot in Python to show level of output per person for 100 years.\n",
    "\n",
    "__(c):__ Now add to your plot from part __(b)__ the following changes one at a time: a doubling of the initial stock of knowledge $\\bar{A_0}$, a doubling of the research share $\\bar{\\ell}$, a doubling of research productivity $\\bar{z}$, and a doubling of the population $\\bar{L}$. You should now have a total of 5 separate time series lines on the same plot. Make sure each line has a different color and your plot has a legend indicating which path represents which change. Additionally, how would your answer to parts __(a)__ and __(b)__ change in each case?\n",
    "\n",
    "__(d):__ If you could advocate one of the changes considered in part __(c)__, which would you choose? White a paragraph arguing for your choice.\n"
   ]
  },
  {
   "cell_type": "code",
   "execution_count": null,
   "metadata": {},
   "outputs": [],
   "source": []
  },
  {
   "cell_type": "markdown",
   "metadata": {},
   "source": []
  },
  {
   "cell_type": "markdown",
   "metadata": {},
   "source": [
    "## Q2) Intellectual property products (a FRED question)\n",
    "\n",
    "In 2015, the U.S. National Income Accounts began to \"count\" intellectual property products—such as R&D, computer software, books, music, and movies—explicitly as investment. More correctly, they had previously assumed these products were an intermediate good that depreciated fully when used to produce some other final good, but now they are included as a part of investment and GDP. Examine the data on investment in intellectual property products (IPP).\n",
    "\n",
    "__(a):__ Using the FRED database, download a graph of the series with label \"Y001RE1Q156NBEA\" and make a time series plot. Follow the steps below to complete this. __Don't skip steps or this won't work!__\n",
    "\n",
    "   * In past assignments data was posted on Git Hub for you to download. This time will be different. You will be importing the data straight from a file on your computer.\n",
    "   \n",
    "   * Begin by downloading the data to your computer from FRED as instructed in part __(a)__ by selecting download and then selecting the CSV (data) option on the FRED website. The file should download with the name \"Y001RE1Q156NBEA.csv\".\n",
    "   \n",
    "   * Once you have downloaded the data you will need to locate where the data was downloaded. This will typically be in your Downloads folder on your computer. Take the .csv file from your Downloads and move it to a different folder such as a folder for this class.\n",
    "   \n",
    "   * A file path to such a folder for this class __in Windows__ might look like `C:\\Users\\Moncayo\\Documents\\BYU-I\\Fall_2018\\Econ_381`. __For Mac__, the file path might be `~/Documents/BYU-I/Fall_2018/Econ_381`. The slashes tell the computer to move into that folder. Also note that the slashes are facing a different direction for Windows and Mac, make sure to use the correct slash for your computer. __Note file paths are case sensitive!__   \n",
    "   \n",
    "   * You will use Python's Pandas package to import the data using the read csv function with the appropriate Windows or Mac file path. __Don't forget to use quotes around your file path.__ The final file path needed to import the data might look something like this: `C:\\Users\\Moncayo\\Documents\\BYU-I\\Fall 2018\\Econ 381\\Y001RE1Q156NBEA.csv`.\n",
    "   \n",
    "   * If your Pandas data import does not work you may have misspelled a word, not capitalized something that should be, put an unnecessary space, or the file path you have does not lead to where the .csv file is actually stored. Check all these things if it does not work.\n",
    "\n",
    "__(b):__ What has happened to the share of GDP devoted to investment in IPP over the last 60 years. What might explain this change?\n",
    "\n",
    "__(c):__ If this were the only change included in a Romer model, what would happen to the growth rate of GDP per person over time. What might explain why this has not happened."
   ]
  },
  {
   "cell_type": "markdown",
   "metadata": {},
   "source": [
    "## Q3) Private Verus Public Investment (A FRED Question)\n",
    "\n",
    "Use what your learned about file paths in __Q2)__ to complete the following. Search the FRED database for the \"investment share of GDP\" and one of the first links to appear is for \"gross private domestic investment.\" \n",
    "\n",
    "__(a)__: Display a graph of the series.\n",
    "\n",
    "__(b)__: How does its average value compate to the average U.S. investment rate reported in this chapter?\n",
    "\n",
    "__(c)__: How does the average investment rate in the recent data compare to past values?"
   ]
  }
 ],
 "metadata": {
  "kernelspec": {
   "display_name": "Python 3",
   "language": "python",
   "name": "python3"
  },
  "language_info": {
   "codemirror_mode": {
    "name": "ipython",
    "version": 3
   },
   "file_extension": ".py",
   "mimetype": "text/x-python",
   "name": "python",
   "nbconvert_exporter": "python",
   "pygments_lexer": "ipython3",
   "version": "3.6.4"
  }
 },
 "nbformat": 4,
 "nbformat_minor": 2
}
