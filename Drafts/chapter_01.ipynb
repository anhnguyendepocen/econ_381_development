{
 "cells": [
  {
   "cell_type": "markdown",
   "metadata": {},
   "source": [
    "# Chapter 01 Exercises\n",
    "## Your Name Here\n",
    "## Date"
   ]
  },
  {
   "cell_type": "markdown",
   "metadata": {},
   "source": [
    "__Important Note 01:__ These homework assignments are meant help you practice and understand __both__ Macroeconomic Theory and Introductory Python. For the first few assignments, the only code you will be asked to write pertains to topics covered in the _Intro to Python for Data Science_ course on Data Camp. All other python code found in the page is meant to demonstrate a concept; you should run it and find out how it works. Little by little, the homework assignments will require your to write more and more of your own python code. A big portion of the future code you will be asked to write is simiar to the code we are currently using in these first assignments, feel free to refer back to it later on.  "
   ]
  },
  {
   "cell_type": "code",
   "execution_count": null,
   "metadata": {},
   "outputs": [],
   "source": [
    "# Libraries you will need for this assignment\n",
    "# *NOTE* You code will not work until you load these libraries\n",
    "# To load these libraries double click to activate this cell and hit Shift+Enter on your keyboard\n",
    "%matplotlib inline\n",
    "import pandas as pd\n",
    "import matplotlib.pyplot as plt"
   ]
  },
  {
   "cell_type": "markdown",
   "metadata": {},
   "source": [
    "## Q1) Country Snapshots\n",
    "\n",
    "Download the file snapshots.pdf from [web.stanford.edu/~chadj/snapshots.html](web.stanford.edu/~chadj/snapshots.html) and answer the following questions for the current year. \n",
    "\n",
    "__(a):__ What was the ratio of per capita income in each of the following countries to that in the Unites States in the current year? Ethiopia, Mexico, India, and Japan. \n",
    "\n",
    "__answer:__\n",
    "\n",
    "__(b):__ Which country had the faster average annual growth rate of per capita GDP between 1960 and 2014, Botswana or China?\n",
    "\n",
    "__answer:__\n",
    "\n",
    "__(c):__ Rank these countries in order of population: Bangladesh, Brazil, Indonesia, Nigeria, Russia, the United States. \n",
    "\n",
    "__answer:__\n",
    "\n",
    "__(d):__ Which is larger as a share of GDP in most rich countries, investment or government purchases? What about in most poor countries?\n",
    "\n",
    "__answer:__\n",
    "\n",
    "__(e):__ Exchange rates are reported as units of deomestic currency (like the Japanese yen or the British pound) per US dollar. Look at the exchange rate for several countries. Do you detect any overall pattern? Why might that be?\n",
    "\n",
    "__answer:__\n"
   ]
  },
  {
   "cell_type": "markdown",
   "metadata": {},
   "source": [
    "## Q2) Making graphics with Python:\n",
    "\n",
    "In the following exercises we will use the [snapshots.pdf](http://web.stanford.edu/~chadj/snapshots.pdf) file, together with its hyperlinks to the underlying data. We have already imported, processed the data, and wrote most of the code. You will be required to make small changes to the code to complete the assignment. Please follow the comments below.\n",
    "\n",
    "__(a)__ Make a plot of per capita GDP (in dollars) for the years 1950 to 2014 for a country of your choice. Label the x-axis \"year\" and the y-axis \"per capita GDP.\" [Click here for a list of the country codes](http://web.stanford.edu/~chadj/countrycodes6.3). Write a small description of the plot you create.\n",
    "\n"
   ]
  },
  {
   "cell_type": "code",
   "execution_count": null,
   "metadata": {},
   "outputs": [],
   "source": [
    "# Run the code below, only changing what is asked in the comments.\n",
    "\n",
    "# Determine what country's per capita GDP you'd like to graph. The following list provides the country\n",
    "# names of all the countries available in our dataset along with their abreviated 'country codes.'\n",
    "\n",
    "#----PUT THE LIST HERE----\n",
    "\n",
    "# Write the 'country code' of your choosing as the variable \"country_code\" below. \n",
    "# Make sure the country code is in single quotes (ex: 'USA')\n",
    "\n",
    "country_code = 'USA'\n",
    "\n",
    "# The following code line of code will read and import the data we processed. \n",
    "# *DO NOT CHANGE THIS CODE*\n",
    "percap_gdp = (pd.read_csv('https://raw.githubusercontent.com/dylanjm/econ_381_development/master/data/final_gdp_data.csv')\n",
    "              .query('country in @country_code'))\n",
    "\n",
    "# When you are ready to run this code place your cursor in this cell and hit Shift+Enter"
   ]
  },
  {
   "cell_type": "code",
   "execution_count": null,
   "metadata": {},
   "outputs": [],
   "source": [
    "# Now let's create the plot\n",
    "# The code below creates a plot using the 'x' variable 'year' and 'y' variable 'y_pop'\n",
    "fig, ax = plt.subplots()\n",
    "ax.plot(percap_gdp['year'], percap_gdp['y_pop'])\n",
    "\n",
    "# Change the title of your graphic to fit with whatever country you chose previously!\n",
    "ax.set(xlabel='Year', ylabel='per Capita GDP',\n",
    "       title='United States per capita GDP 1950-2014')\n",
    "ax.grid()\n",
    "plt.show"
   ]
  },
  {
   "cell_type": "markdown",
   "metadata": {},
   "source": [
    "__(b)__ Make a plot of per capita GDP relative to the United States (US = 100) for the years 1950 to 2014 that includes the United States and three other countries of your choice, all on the same graph. Be sure to label the lines on the graph in some informative way so that each line can be associated with its country. Write a small description of the plot you create."
   ]
  },
  {
   "cell_type": "code",
   "execution_count": null,
   "metadata": {},
   "outputs": [],
   "source": [
    "# Insert your 3 countries you'd like to compare to the USA in an array\n",
    "# Please ensure you keep 'USA' included.\n",
    "# *Remember:* Arrays are discussed in week 1 of your data camp assignments\n",
    "three_countries = ['ARM','CAN','RUS','USA']\n",
    "\n",
    "# Loop through the three countries and append it to the USA dataset\n",
    "# *DO NOT CHANGE THIS CODE*\n",
    "percap_gdp = (pd.read_csv('https://raw.githubusercontent.com/dylanjm/econ_381_development/master/data/final_gdp_data.csv')\n",
    "              .query(\"country in @three_countries\"))"
   ]
  },
  {
   "cell_type": "code",
   "execution_count": null,
   "metadata": {},
   "outputs": [],
   "source": [
    "# Please note, you are not required to know this section of code just yet.Just look over it and explore.\n",
    "# The following code creates a figure that contains more than one data series. Compare it to the\n",
    "# code we wrote for the previous question.\n",
    "\n",
    "fig, ax = plt.subplots()\n",
    "for i in three_countries:\n",
    "    plot_dat = percap_gdp.query(\"country == @i\")\n",
    "    ax.plot(plot_dat['year'], plot_dat['y_pop_us_100'], label = i)\n",
    "\n",
    "# Now let's customize the plot. The following code sets labels on the x and y axis and sets the\n",
    "# title for the figure. Note that it uses a previously defined variable in the title that changes\n",
    "# every time you change your choice of countries (see code cell above)\n",
    "\n",
    "ax.set(xlabel = 'Year', \n",
    "       ylabel = 'per Capita GDP (U.S. = 100)',\n",
    "       title = 'United States per capita GDP Relative to ' + str(three_countries) + ' 1950-2014')\n",
    "ax.grid()\n",
    "plt.legend()\n",
    "plt.show()"
   ]
  },
  {
   "cell_type": "markdown",
   "metadata": {},
   "source": [
    "## Q3) The Labor Market Model:\n",
    "\n",
    "Lets add some parameters to the labor market model:\n",
    "\n",
    "\\begin{align*}\n",
    "\\text{labor supply:}\\ &L^{s} = \\bar{a} \\times \\omega + \\bar{l} \\\\\n",
    "\\text{labor demand:}\\ &L^{d} = \\bar{f} - \\omega\n",
    "\\end{align*}\n",
    "\n",
    "The parameters in this setup are $\\bar{a},\\bar{l},\\text{ and }\\bar{f}$. (Notice that parameters are denoted with an overbar, a convention we will maintain throughout the semester for any variable that is exogenous, or determined outside of the model.) The parameter $\\bar{l}$ ) represents the number of hours workers would supply to the market even if the wage wer zero; it therefore relects the inherent amount of time peopale like to work. The parameter $\\bar{f}$, in contrast, reflects the amount of labor the firm would like to hire if the wage were zero. It might be thought of as some inherent capacity of the firm (perhaps  because the firm owns a given amount of land and paital that cannot be altered).\n",
    "\n",
    "\n",
    "### Answers:\n",
    "\n",
    "__(a):__ What is the economic interpretation of $\\bar{a}$.\n",
    "\n",
    "__answer:__\n",
    "\n",
    "__(b):__ What are the endogenous variables in this model (variables determined within the model)?\n",
    "\n",
    "__answer:__\n",
    "\n",
    "__(c):__ Solve for the equilibrium of the labor market. That is, solve for the endogenous variables as a function of the parameters of the model. \n",
    "\n",
    "__answer:__\n",
    "\n",
    "__(d):__ If $\\bar{l}$ increases, what happens to the equilibrium wage and employment levels? Does this make sense?\n",
    "\n",
    "__answer:__\n",
    "\n",
    "__(e):__ Answer the same questions in (d) for an increase in $\\bar{f}$.\n",
    "\n",
    "__answer:__"
   ]
  },
  {
   "cell_type": "code",
   "execution_count": null,
   "metadata": {},
   "outputs": [],
   "source": []
  }
 ],
 "metadata": {
  "kernelspec": {
   "display_name": "Python 3",
   "language": "python",
   "name": "python3"
  },
  "language_info": {
   "codemirror_mode": {
    "name": "ipython",
    "version": 3
   },
   "file_extension": ".py",
   "mimetype": "text/x-python",
   "name": "python",
   "nbconvert_exporter": "python",
   "pygments_lexer": "ipython3",
   "version": "3.7.0"
  }
 },
 "nbformat": 4,
 "nbformat_minor": 2
}
