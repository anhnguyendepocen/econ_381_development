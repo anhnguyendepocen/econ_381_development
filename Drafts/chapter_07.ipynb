{
 "cells": [
  {
   "cell_type": "markdown",
   "metadata": {},
   "source": [
    "# Chapter 07 Exercises\n",
    "\n",
    "## Name goes here\n",
    "\n",
    "### Date"
   ]
  },
  {
   "cell_type": "code",
   "execution_count": 1,
   "metadata": {},
   "outputs": [],
   "source": [
    "# Libraries you will need for this assignment. \n",
    "# The code below will import them for your use. \n",
    "# Please run this before continuing.\n",
    "%matplotlib inline\n",
    "import numpy as np\n",
    "import pandas as pd\n",
    "import matplotlib.pyplot as plt"
   ]
  },
  {
   "cell_type": "markdown",
   "metadata": {},
   "source": [
    "## Q1) The employment-population ratio for men and women (a FRED question)\n",
    "\n",
    "Using the FRED database, download graphs of the U.S. employment-population ratio for men and women. "
   ]
  },
  {
   "cell_type": "markdown",
   "metadata": {},
   "source": [
    "__(a)__: Display the graphs"
   ]
  },
  {
   "cell_type": "markdown",
   "metadata": {},
   "source": [
    "__(b)__: What are some possible explanations for the different trends in the two series between 1950 and 2000?"
   ]
  },
  {
   "cell_type": "markdown",
   "metadata": {},
   "source": [
    "__(c)__: What might explain the change in trend for women since 2000?"
   ]
  },
  {
   "cell_type": "markdown",
   "metadata": {},
   "source": [
    "## Q2) How much is a college education worth?\n",
    "\n",
    "In the text, we supposed a college education raised a person's wage by \\$30,000 per year, from \\$40,000 to \\$70,000. Assume the interest rate is 3% and there is no growth in wages, then answer the following. "
   ]
  },
  {
   "cell_type": "markdown",
   "metadata": {},
   "source": [
    "__(a)__: Suppose you are a high school senior deciding whether or not to go to college. What is the present discounted value of your labor income if you forgo college and start work immediatley?"
   ]
  },
  {
   "cell_type": "markdown",
   "metadata": {},
   "source": [
    "__(b)__: As an alternative, you could pay \\$20,000 per year in college tuition, attend for 4 years, and then earn \\$70,000 per eyar after you graduate. What is the persent discounted value of your labor earning under this plan? (Compute this value from the point of view of a high school senior.)"
   ]
  },
  {
   "cell_type": "markdown",
   "metadata": {},
   "source": [
    "__(c)__: Discuss the conomic value of a college education. "
   ]
  },
  {
   "cell_type": "code",
   "execution_count": null,
   "metadata": {},
   "outputs": [],
   "source": []
  }
 ],
 "metadata": {
  "kernelspec": {
   "display_name": "Python 3",
   "language": "python",
   "name": "python3"
  },
  "language_info": {
   "codemirror_mode": {
    "name": "ipython",
    "version": 3
   },
   "file_extension": ".py",
   "mimetype": "text/x-python",
   "name": "python",
   "nbconvert_exporter": "python",
   "pygments_lexer": "ipython3",
   "version": "3.7.0"
  }
 },
 "nbformat": 4,
 "nbformat_minor": 2
}
