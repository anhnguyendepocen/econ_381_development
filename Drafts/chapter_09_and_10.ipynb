{
 "cells": [
  {
   "cell_type": "markdown",
   "metadata": {},
   "source": [
    "# Chapter 09 and 10 Exercises\n",
    "\n",
    "## Name goes here\n",
    "\n",
    "### Date"
   ]
  },
  {
   "cell_type": "markdown",
   "metadata": {},
   "source": [
    "# Chapter 9 "
   ]
  },
  {
   "cell_type": "markdown",
   "metadata": {},
   "source": [
    "## Q1) Measuring $\\bar{Y_t}$ and $\\tilde{Y_t}$\n",
    "\n",
    "A real-world problem faced by policymakers, forecasters, and business every day, is how to judge the state of the economy. Consider the table below, showing hypothetical measure of real GDP in the coming years, starting at a level of $18.0 trillion in 2018. \n",
    "\n",
    "| Year | Actual Output $Y_t$ | Potential Output $Y_t$ | $Y_t-\\bar{Y_t}$ | Short-run output $\\tilde{Y_t}$ | Growth rate of actual output % $\\delta Y$|\n",
    "|------|---------------------|------------------------|------------------|------------------------------|---------------------|\n",
    "| 2018 | 18.0 | | | | ||\n",
    "\n",
    "Now fill in the remaining columns of the table (not necesarily in the actual table above) by answering the following questions. Note there are six columns.\n",
    "\n",
    "__(a)__ Calculate potential output using the Solow Model that was built in previous chapters using the sequence of TFP from the data from 2000-2018 and use the 2018 number as the potential output.\n",
    "\n",
    "__(b)__ What is potential output in 2018? Using data from 2000 get $A, K,$ and $L$. Then calculate $g$ from 2000-2015\n",
    "\n",
    "__(c)__ Assume potential output grows at a constant annual rate of $g$, and complete the remainder of the table.\n",
    "\n",
    "__(d)__ Comment on the state of the economy in each year. When does the economy enter a recession? When does the recession end?\n",
    "\n",
    "__(e)__ How is your answer in part (c) related to the growth rate of the actual output in the last column of the table\n"
   ]
  },
  {
   "cell_type": "markdown",
   "metadata": {},
   "source": []
  },
  {
   "cell_type": "markdown",
   "metadata": {},
   "source": [
    "## Q2) An Oil Shock\n",
    "\n",
    "Consider an economy that begins with output at its potential level and a relatively high inflation rate of $6\\%$, reflecting some recent oil price shocks. As the head of the Federal Reserve, your job is to pic a sequence of short-run output levels that will get the rate of inflation back down to $3\\%$ no later than 3 years from now. Your expert staff offers you the data found on pg. 252 Question 5  of the textbook.\n",
    "\n",
    "__(a)__ According to these to these numbers, what is the slope of the Phillips curve?\n",
    "\n",
    "__(b)__ If you as a policymaker cared primarily about output and not much about the inflation rate, which option would you recommend? Why? \n",
    "\n",
    "__(c)__ If you cared primarily about inflation and not much about output, which option would you recommend? Why?\n",
    "\n",
    "__(d)__ Explain the general trade-off that policymakers are faced with according to the Phillips curve.\n",
    "\n"
   ]
  },
  {
   "cell_type": "markdown",
   "metadata": {},
   "source": []
  },
  {
   "cell_type": "markdown",
   "metadata": {},
   "source": [
    "## Q3) Okun's Law\n",
    "\n",
    "Suppose the economy has a natural rate of unemployment of 5%. \n",
    "\n",
    "__(a)__ Suppose short-run output over the next 4 years is 1%, 0%, -2%, and -2%. According to Okun's law, what unemployment rates would we expect to see in this economy?\n",
    "\n",
    "__(b)__ Consider another economy in which the unemployment rate over the next 3 years is 6%, 7%, and then 4%. According to Okun's law, what are the levels of short-run output $\\tilde{Y_t}$ in this economy?"
   ]
  },
  {
   "cell_type": "markdown",
   "metadata": {},
   "source": []
  },
  {
   "cell_type": "markdown",
   "metadata": {},
   "source": [
    "# Chapter 10"
   ]
  },
  {
   "cell_type": "markdown",
   "metadata": {},
   "source": [
    "## Q4) Recent Macroeconomic Data (a FRED question) \n",
    "\n",
    "Pick two figures from the reading in chapter 10 and update them to include the latest available economic data. What does this tell you about how the economy has evolved since the Great Recession?"
   ]
  },
  {
   "cell_type": "code",
   "execution_count": null,
   "metadata": {},
   "outputs": [],
   "source": [
    "# Figure 1 goes here\n"
   ]
  },
  {
   "cell_type": "code",
   "execution_count": null,
   "metadata": {},
   "outputs": [],
   "source": [
    "# Figure 2 goes here\n"
   ]
  },
  {
   "cell_type": "markdown",
   "metadata": {},
   "source": [
    "## Q5) The IGM Economic Forum:\n",
    "\n",
    "The University of Chicago Booth School of Business hosts an online panel of economic experts every two weeks or so to consider a timely economic question. A specific economic opinion is put forward, and the experts either agree or disagree. Most of the questions are about macroeconomics and financial stability, but many are about other interesting issues in economic. \n",
    "\n",
    "__(a)__ Browse through a few past questions at [www.igmchicago.org/img-economic-experts-panel](http://www.igmchicago.org/igm-economic-experts-panel) (or by searching for \"IGM forum Chicago\"). Choose one question related to the topics in this chapter and report your choice. \n",
    "\n",
    "__(b)__ Is there a fair amount of agreement or disagreement among the economic panel?\n",
    "\n",
    "__(c)__ What are your thoughts on this question?"
   ]
  },
  {
   "cell_type": "markdown",
   "metadata": {},
   "source": []
  }
 ],
 "metadata": {
  "kernelspec": {
   "display_name": "Python 3",
   "language": "python",
   "name": "python3"
  },
  "language_info": {
   "codemirror_mode": {
    "name": "ipython",
    "version": 3
   },
   "file_extension": ".py",
   "mimetype": "text/x-python",
   "name": "python",
   "nbconvert_exporter": "python",
   "pygments_lexer": "ipython3",
   "version": "3.6.4"
  }
 },
 "nbformat": 4,
 "nbformat_minor": 2
}
