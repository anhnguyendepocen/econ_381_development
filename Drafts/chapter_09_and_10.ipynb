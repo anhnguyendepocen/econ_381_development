{
 "cells": [
  {
   "cell_type": "markdown",
   "metadata": {},
   "source": [
    "# Chapter 09 and 10 Exercises\n",
    "\n",
    "## Name goes here\n",
    "\n",
    "### Date"
   ]
  },
  {
   "cell_type": "markdown",
   "metadata": {},
   "source": [
    "# Chapter 9 "
   ]
  },
  {
   "cell_type": "markdown",
   "metadata": {},
   "source": [
    "## Q1) Measuring $\\bar{Y_t}$ and $\\tilde{Y_t}$\n",
    "\n",
    "Judging the state of the economy is a real-world problem faced by policymakers, forecasters, and businesses every day. Consider the table below, showing hypothetical measure of real GDP in the coming years, starting at a level of $18.0 trillion in 2018. \n",
    "\n",
    "| Year | Actual Output $Y_t$ | Potential Output $Y_t$ | $Y_t-\\bar{Y_t}$ | Short-run output $\\tilde{Y_t}$ | Growth rate of actual output % $\\delta Y$|\n",
    "|------|---------------------|------------------------|------------------|------------------------------|---------------------|\n",
    "| 2018 | 18.0 | | | | ||\n",
    "\n",
    "Now fill in the remaining columns of the table (not necesarily in the actual table above) by answering the following questions. Note there are six columns.\n",
    "\n",
    "__(a)__ Calculate potential output using the Solow Model that was built in previous chapters using the sequence of TFP from the data from 2000-2018 and use the 2018 number as the potential output.\n",
    "\n",
    "__(b)__ What is potential output in 2018? Using data from 2000 get $A, K,$ and $L$. Then calculate $g$ from 2000-2015\n",
    "\n",
    "__(c)__ Assume potential output grows at a constant annual rate of $g$, and complete the remainder of the table.\n",
    "\n",
    "__(d)__ Comment on the state of the economy in each year. When does the economy enter a recession? When does the recession end?\n",
    "\n",
    "__(e)__ How is your answer in part (c) related to the growth rate of the actual output in the last column of the table\n"
   ]
  },
  {
   "cell_type": "markdown",
   "metadata": {},
   "source": []
  },
  {
   "cell_type": "markdown",
   "metadata": {},
   "source": [
    "## Q2) An Oil Shock\n",
    "\n",
    "Consider an economy that begins with output at its potential level and a relatively high inflation rate of $6\\%$, reflecting some recent oil price shocks. As the head of the Federal Reserve, your job is to pick a sequence of short-run output levels that will get the rate of inflation back down to $3\\%$ no later than 3 years from now. Your expert staff offers you the following policy menu options.\n",
    "\n",
    "***add table here*****\n",
    "\n",
    "To answer the questions that follow, please import this data into a dataframe. "
   ]
  },
  {
   "cell_type": "markdown",
   "metadata": {},
   "source": [
    "__(a)__ The policy options provided imply a particular Phillips curve. What is the slope of this Phillips curve? Please use the data points provided to plot the underlying Phillips curve. "
   ]
  },
  {
   "cell_type": "code",
   "execution_count": null,
   "metadata": {},
   "outputs": [],
   "source": []
  },
  {
   "cell_type": "markdown",
   "metadata": {},
   "source": []
  },
  {
   "cell_type": "markdown",
   "metadata": {},
   "source": [
    "__(b)__ If you as a policymaker cared primarily about output and not much about the inflation rate, which option would you recommend? Why? "
   ]
  },
  {
   "cell_type": "markdown",
   "metadata": {},
   "source": []
  },
  {
   "cell_type": "markdown",
   "metadata": {},
   "source": [
    "__(c)__ If you cared primarily about inflation and not much about output, which option would you recommend? Why?"
   ]
  },
  {
   "cell_type": "markdown",
   "metadata": {},
   "source": []
  },
  {
   "cell_type": "markdown",
   "metadata": {},
   "source": [
    "__(d)__ Explain the general trade-off that policymakers are faced with according to the Phillips curve."
   ]
  },
  {
   "cell_type": "markdown",
   "metadata": {},
   "source": []
  },
  {
   "cell_type": "markdown",
   "metadata": {},
   "source": [
    "## Q3) Okun's Law\n",
    "\n",
    "Suppose the economy has a natural rate of unemployment of 5%. \n",
    "\n",
    "__(a)__ Suppose short-run output over the next 4 years is 1%, 0%, -2%, and -2%. According to Okun's law, what unemployment rates would we expect to see in this economy?"
   ]
  },
  {
   "cell_type": "markdown",
   "metadata": {},
   "source": []
  },
  {
   "cell_type": "markdown",
   "metadata": {},
   "source": [
    "__(b)__ Consider another economy in which the unemployment rate over the next 3 years is 6%, 7%, and then 4%. According to Okun's law, what are the levels of short-run output $\\tilde{Y_t}$ in this economy?"
   ]
  },
  {
   "cell_type": "markdown",
   "metadata": {},
   "source": []
  },
  {
   "cell_type": "markdown",
   "metadata": {},
   "source": [
    "__(c)__ Suppose that the slope of the linear function in Figure 9.8 in your book (page 248) is not 1\\2 but 1\\3. What are the implications of this change on your estimates for parts __(a)__ and __(b)__ of this question? Please give numerical answers and provide a written analysis below."
   ]
  },
  {
   "cell_type": "markdown",
   "metadata": {},
   "source": [
    "## Q3) Another version of the Phillips Curve\n",
    "\n",
    "A more widely used version of the Phillips curve depicts the relationship between inflation and unemployment. We use inflation and unemployment because there is easily accesible data on these indicators from the US BLS and because, as you discovered in __Q1)__, obtaining estimates of potential output are difficult and sensitive to the assumptions we used to calculate them. \n",
    "\n",
    "__(a)__ Please write down the equation for the Phillips curve linking inflation and short run output $\\tilde{Y}$ (depicted in figure 9.6 of your texbook on page 244.)"
   ]
  },
  {
   "cell_type": "markdown",
   "metadata": {},
   "source": []
  },
  {
   "cell_type": "markdown",
   "metadata": {},
   "source": [
    "__(b)__ The equation for Okun's Law is $u-\\bar{u}=-\\frac{\\tilde{Y}}{2}$. Combine the equation for the Phillips curve from part __(a)__ and the Okun's Law equation to create a theoretical expression for the Phillips curve depicting the relationship between inflation and unemployment. How does the slope of Okun's Law and the slope of the Phillips curve from part __(a)__ influence the relationship between inflation and unemployment?"
   ]
  },
  {
   "cell_type": "code",
   "execution_count": null,
   "metadata": {},
   "outputs": [],
   "source": []
  },
  {
   "cell_type": "markdown",
   "metadata": {},
   "source": []
  },
  {
   "cell_type": "markdown",
   "metadata": {},
   "source": [
    "__(c)__ Go to FRED and download the series for US inflation and unemployment from 1955 to the current year. Using those series, plot a time series for the US Phillips curve during that timeframe. Please link each year with it's preceeding year with a line in your plot so you may see how both these variables move with each other over time. "
   ]
  },
  {
   "cell_type": "code",
   "execution_count": null,
   "metadata": {},
   "outputs": [],
   "source": []
  },
  {
   "cell_type": "markdown",
   "metadata": {},
   "source": [
    "__(d)__ Please comment on the time series you created in part __(c)__. Please, no one-liners. Show me that you can think about the data and it's implications."
   ]
  },
  {
   "cell_type": "markdown",
   "metadata": {},
   "source": []
  },
  {
   "cell_type": "markdown",
   "metadata": {},
   "source": [
    "# Chapter 10"
   ]
  },
  {
   "cell_type": "markdown",
   "metadata": {},
   "source": [
    "## Q4) Recent Macroeconomic Data (a FRED question) \n",
    "\n",
    "Pick two figures from the reading in chapter 10 and update them to include the latest available economic data. What does this tell you about how the economy has evolved since the Great Recession?"
   ]
  },
  {
   "cell_type": "code",
   "execution_count": 1,
   "metadata": {},
   "outputs": [],
   "source": [
    "# Figure 1 goes here\n"
   ]
  },
  {
   "cell_type": "code",
   "execution_count": 2,
   "metadata": {},
   "outputs": [],
   "source": [
    "# Figure 2 goes here\n"
   ]
  },
  {
   "cell_type": "markdown",
   "metadata": {},
   "source": [
    "## Q5) The IGM Economic Forum:\n",
    "\n",
    "The University of Chicago Booth School of Business hosts an online panel of economic experts every two weeks or so to consider a timely economic question. A specific economic opinion is put forward, and the experts either agree or disagree. Most of the questions are about macroeconomics and financial stability, but many are about other interesting issues in economic. \n",
    "\n",
    "__(a)__ Browse through a few past questions at [www.igmchicago.org/img-economic-experts-panel](http://www.igmchicago.org/igm-economic-experts-panel) (or by searching for \"IGM forum Chicago\"). Choose one question related to the topics in this chapter and report your choice. "
   ]
  },
  {
   "cell_type": "markdown",
   "metadata": {},
   "source": []
  },
  {
   "cell_type": "markdown",
   "metadata": {},
   "source": [
    "__(b)__ Is there a fair amount of agreement or disagreement among the economic panel? Please no one-liners. Show me that you read."
   ]
  },
  {
   "cell_type": "markdown",
   "metadata": {},
   "source": []
  },
  {
   "cell_type": "markdown",
   "metadata": {},
   "source": [
    "__(c)__ What are your thoughts on the question you chose? Who do you side with? Why?"
   ]
  },
  {
   "cell_type": "markdown",
   "metadata": {},
   "source": []
  }
 ],
 "metadata": {
  "kernelspec": {
   "display_name": "Python 3",
   "language": "python",
   "name": "python3"
  },
  "language_info": {
   "codemirror_mode": {
    "name": "ipython",
    "version": 3
   },
   "file_extension": ".py",
   "mimetype": "text/x-python",
   "name": "python",
   "nbconvert_exporter": "python",
   "pygments_lexer": "ipython3",
   "version": "3.7.0"
  }
 },
 "nbformat": 4,
 "nbformat_minor": 2
}
