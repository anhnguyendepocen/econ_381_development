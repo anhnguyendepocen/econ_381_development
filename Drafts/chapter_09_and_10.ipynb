{
 "cells": [
  {
   "cell_type": "markdown",
   "metadata": {},
   "source": [
    "# Chapter 09 and 10 Exercises\n",
    "\n",
    "## Name goes here\n",
    "\n",
    "### Date"
   ]
  },
  {
   "cell_type": "markdown",
   "metadata": {},
   "source": [
    "# Chapter 9 "
   ]
  },
  {
   "cell_type": "code",
   "execution_count": null,
   "metadata": {},
   "outputs": [],
   "source": []
  },
  {
   "cell_type": "markdown",
   "metadata": {},
   "source": []
  },
  {
   "cell_type": "code",
   "execution_count": null,
   "metadata": {},
   "outputs": [],
   "source": []
  },
  {
   "cell_type": "markdown",
   "metadata": {},
   "source": []
  },
  {
   "cell_type": "code",
   "execution_count": null,
   "metadata": {},
   "outputs": [],
   "source": []
  },
  {
   "cell_type": "markdown",
   "metadata": {},
   "source": [
    "# Chapter 10"
   ]
  },
  {
   "cell_type": "markdown",
   "metadata": {},
   "source": [
    "## Q4) Actual and Potential GDP (a FRED question)\n",
    "\n",
    "Using the FREd database, locate the Congressional Budget Office's measure of potential GDP by searching for \"GDPPOT.\" Using the \"Add Data Series\" option, add the series \"GDPA\" (real annual GDP) to this graph. Adjust the sliders to show the data from around 1985 to the present.\n",
    "\n",
    "__(a)__ Display the graph\n",
    "\n",
    "__(b)__ The congressional Budget Office uses a version of the Solow model to create its potential output measure. Download a graph of the \"investment share of GDP\" (for gross private domestic investment) and display those data graphically since 1990.\n",
    "\n",
    "__(c)__ How does this scond graph help you understand the first graph in terms of the data since the Great Recession?"
   ]
  },
  {
   "cell_type": "code",
   "execution_count": null,
   "metadata": {},
   "outputs": [],
   "source": []
  },
  {
   "cell_type": "markdown",
   "metadata": {},
   "source": [
    "## Q5) Measuring $\\bar{Y_t} and \\tilde{Y_t}$\n",
    "\n",
    "A real-world problem faced by policymakers, forecasters, and business every day is how to judge the state of the economy. Consider the table below, showing hypothetical measure of real GDP in the coming years, starting at a level of $18.0 trillion in 2018. \n",
    "\n",
    "| Year | Actual Output $Y_t$ | Potential Output $Y_t$ | $Y_t - \\bar{Y_t}$ | Short-run output $\\tilde{Y_t}$ | Growth rate of actual output % $\\delta Y$|\n",
    "|------|---------------------|------------------------|------------------|------------------------------|---------------------|\n",
    "| 2018 | 18.0 | | | | ||\n",
    "\n",
    "Now fill in the remaning columns of the table by answering the following questions. \n",
    "\n",
    "__(a)__ What is potential output in 2018? You could call this a trick question, since there's no way for you to know the answer! In a way, that's the main point: fundamentally, we have to take some other measurements and make some assumptions. Suppose your research assistant tells you that in 2018, business surveys, unemplyment reports, and recent years' experience suggest that the economy is operationg at potential output. So go ahead and write 18.0 for potential output in this year. \n",
    "\n",
    "__(b)__ Assume potential output grows at a constant annual rate of 2.5%, and complete the remainder of the table.\n",
    "\n",
    "__(c)__ Comment on the sate of the economy in each year. When does the economy enter a recession? When does the recession end?\n",
    "\n",
    "__(d)__ How is your answer in part (c) relaed to the the growth rate of the actual output in the last column of the table?"
   ]
  },
  {
   "cell_type": "code",
   "execution_count": null,
   "metadata": {},
   "outputs": [],
   "source": []
  }
 ],
 "metadata": {
  "kernelspec": {
   "display_name": "Python 3",
   "language": "python",
   "name": "python3"
  },
  "language_info": {
   "codemirror_mode": {
    "name": "ipython",
    "version": 3
   },
   "file_extension": ".py",
   "mimetype": "text/x-python",
   "name": "python",
   "nbconvert_exporter": "python",
   "pygments_lexer": "ipython3",
   "version": "3.6.4"
  }
 },
 "nbformat": 4,
 "nbformat_minor": 2
}
