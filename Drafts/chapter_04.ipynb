{
 "cells": [
  {
   "cell_type": "markdown",
   "metadata": {},
   "source": [
    "# Chapter 04 Exercises\n",
    "\n",
    "## Name Goes Here\n",
    "\n",
    "### Date"
   ]
  },
  {
   "cell_type": "code",
   "execution_count": 43,
   "metadata": {},
   "outputs": [],
   "source": [
    "# Write the code for the libraries you use to complete the assignment\n",
    "\n",
    "import pandas as pd\n"
   ]
  },
  {
   "cell_type": "markdown",
   "metadata": {},
   "source": [
    "## Q1) Learning How to Solve Systems of Equations in Python\n",
    "\n",
    "In economics, we often want to know the solution to equilibrium values. Take for example the table below from pg. 76 in the book.\n",
    "\n",
    "| Description             | Formula                           |\n",
    "|-------------------------|-----------------------------------|\n",
    "| Production function     | $Y \\text{ = } \\bar{A}K^{1/3}L^{2/3}$ | \n",
    "| Rule for hiring capital | $\\frac{1}{3}\\cdot \\frac{Y}{K} \\text{=} r \\space$ |\n",
    "| Rule for hiring labor   | $\\frac{2}{3}\\cdot \\frac{Y}{L} \\text{=} \\omega$ |\n",
    "| Demand $=$ Supply for capital | $K = \\bar{K}$ |\n",
    "| Demand $=$ supply for labor | $L = \\bar{L}$ |\n",
    "\n",
    "In this case there are 5 equations and 5 unknowns. From the reading you learned the equilibrium in this simple economy is the solution to these equations.\n",
    "\n",
    "In Python, it is possible to solve a system of two or more equations. As preparation for exercises in this assignment and future assignments you will learn how to solve a system of equations in Python. Follow the steps below to complete this exercise. \n",
    "\n",
    "**Review of Linear Algebra** \n",
    "\n",
    "In Econ 215 you learned the following formula can be used to find unknowns of a system of equations.\n",
    "$$\n",
    "Ax = b \\ \\ \\ \\ \\ \\ (1)\n",
    "$$\n",
    "\n",
    "The equation (1) can be manipulated and solved using rules from linear algebra to arrive at the following equation.\n",
    "$$\n",
    "x = A^{-1} b \\ \\ \\ \\ \\ (2)\n",
    "$$\n",
    "\n",
    "Equation (2) says that the unknowns to a system of equations can be solved for by taking the inverse of matrix A and multiplying it by the constants of an equation. \n",
    "\n",
    "\n",
    " **Video**\n",
    "\n",
    "With those formulas in mind, watch the following video as it will teach you how to solve systems of equations in Python. \n",
    "    \n",
    "__[Click here to watch video]( https://youtu.be/44pAWI7v5Zk)__\n",
    "\n",
    "  \n",
    "\n",
    "**Solve the Equations**\n",
    "\n",
    "Using the information from the video solve the 1. and 2. below using Python.\n"
   ]
  },
  {
   "cell_type": "markdown",
   "metadata": {},
   "source": [
    "__(a)__\n",
    "\n",
    "\\begin{align*}\n",
    "3x - y &= 7 \\\\\n",
    "2x + 3y &= 1 \n",
    "\\end{align*}"
   ]
  },
  {
   "cell_type": "code",
   "execution_count": null,
   "metadata": {},
   "outputs": [],
   "source": []
  },
  {
   "cell_type": "markdown",
   "metadata": {},
   "source": [
    "__(b)__\n",
    "\n",
    "\\begin{align*}\n",
    "x - 2y + 3z &= 7\\\\\n",
    "2x + y + z &= 4\\\\\n",
    "-3x + 2y - 2z &= -10\n",
    "\\end{align*}\n"
   ]
  },
  {
   "cell_type": "code",
   "execution_count": null,
   "metadata": {},
   "outputs": [],
   "source": []
  },
  {
   "cell_type": "markdown",
   "metadata": {},
   "source": [
    "\n",
    "# The Black Death (Q2 and Q3)\n",
    "\n",
    "In the middle of the fourteenth century, and epidemic known as the Black Death killed about a third of Europe's population, about 34 million people. While this was an enormous tragedy, the macroeconomic consequences might surprise you: over the next century, wages are estimated to have been *higher* than before the Black Death. Questions 2 and 3 will help you gain an understanding as to why this happened.\n",
    "\n",
    "\n",
    "\n",
    "## Q2) Solving the production model\n",
    "\n",
    "Before answering any questions about the Black Death, let's first build an understanding of the production function. Suppose the production function is given by $ Y = \\bar{A}K^{\\alpha}L^{1-\\alpha}$. This is a general version of the production function we've been working with, where $\\alpha$ is the \"capital share of output.\" "
   ]
  },
  {
   "cell_type": "markdown",
   "metadata": {},
   "source": [
    "**(a)** Using pencil and paper (you don't have to enter the answer here), create a new version of Table 4.1 (pg. 76) for the model using this more general production function. What are the five equations and five unknowns? (*Hint*: The hiring rules for capital and labor will change in the obvious way.)"
   ]
  },
  {
   "cell_type": "markdown",
   "metadata": {},
   "source": [
    "**(b)** What is the solution for the equilibrium level of output per person? Let $\\bar{A} = 1$, $L = 200$, $K = 200$, $\\alpha = 1/3$. (*Hint: You can use Python to help solve for the solution numerically. You should verify your findings by hand.*)"
   ]
  },
  {
   "cell_type": "code",
   "execution_count": null,
   "metadata": {},
   "outputs": [],
   "source": []
  },
  {
   "cell_type": "markdown",
   "metadata": {},
   "source": [
    "**(c)** How does changing the level of alpha ($\\bar{A}$) affect the equilibrium level of output, rental rate of capital, and wages? Try $\\bar{A}$={0.5, 0.75, 1.25, 1.5}"
   ]
  },
  {
   "cell_type": "code",
   "execution_count": 1,
   "metadata": {},
   "outputs": [],
   "source": []
  },
  {
   "cell_type": "markdown",
   "metadata": {},
   "source": [
    "## Q3) \n",
    "\n",
    "  **(a)** Show numerically how much wages would rise if a third of the population died from disease. Assume $\\bar{A} = 1$, $L = 200$, $K = 200$, $\\alpha = 1/3$ $\\bar{A}K^{1/3}L^{2/3}$ before the black plague."
   ]
  },
  {
   "cell_type": "code",
   "execution_count": null,
   "metadata": {},
   "outputs": [],
   "source": []
  },
  {
   "cell_type": "markdown",
   "metadata": {},
   "source": [
    "**(b)** Suppose that instead of the black plague there was an alien invasion of Europe that didn't kill anyone, but instead brought in new technology. How much would TFP have to increase to raise wages as much as the black plague? "
   ]
  },
  {
   "cell_type": "code",
   "execution_count": null,
   "metadata": {},
   "outputs": [],
   "source": []
  },
  {
   "cell_type": "markdown",
   "metadata": {},
   "source": [
    "# Q5) The empirical fit of the production model\n",
    "\n",
    "The table on page 99 of the book (or shown below in the Pandas data frame) reports per capita GDP and capital per person in the year 2014 for 10 countries. __Your task is to fill in the missing columns of the data frame by completing steps a) thorugh d).__"
   ]
  },
  {
   "cell_type": "code",
   "execution_count": 39,
   "metadata": {},
   "outputs": [
    {
     "data": {
      "text/html": [
       "<div>\n",
       "<style scoped>\n",
       "    .dataframe tbody tr th:only-of-type {\n",
       "        vertical-align: middle;\n",
       "    }\n",
       "\n",
       "    .dataframe tbody tr th {\n",
       "        vertical-align: top;\n",
       "    }\n",
       "\n",
       "    .dataframe thead th {\n",
       "        text-align: right;\n",
       "    }\n",
       "</style>\n",
       "<table border=\"1\" class=\"dataframe\">\n",
       "  <thead>\n",
       "    <tr style=\"text-align: right;\">\n",
       "      <th></th>\n",
       "      <th>Country(0)</th>\n",
       "      <th>Capital per person(1)</th>\n",
       "      <th>Per capita GDP(2)</th>\n",
       "      <th>Capital per person(3)</th>\n",
       "      <th>Per capita GDP(4)</th>\n",
       "      <th>Predicted y*(5)</th>\n",
       "      <th>implied TFP(6)</th>\n",
       "    </tr>\n",
       "  </thead>\n",
       "  <tbody>\n",
       "    <tr>\n",
       "      <th>0</th>\n",
       "      <td>United States</td>\n",
       "      <td>141841</td>\n",
       "      <td>51895</td>\n",
       "      <td>NaN</td>\n",
       "      <td>NaN</td>\n",
       "      <td>NaN</td>\n",
       "      <td>NaN</td>\n",
       "    </tr>\n",
       "    <tr>\n",
       "      <th>1</th>\n",
       "      <td>Canada</td>\n",
       "      <td>128667</td>\n",
       "      <td>43367</td>\n",
       "      <td>NaN</td>\n",
       "      <td>NaN</td>\n",
       "      <td>NaN</td>\n",
       "      <td>NaN</td>\n",
       "    </tr>\n",
       "    <tr>\n",
       "      <th>2</th>\n",
       "      <td>France</td>\n",
       "      <td>162207</td>\n",
       "      <td>37360</td>\n",
       "      <td>NaN</td>\n",
       "      <td>NaN</td>\n",
       "      <td>NaN</td>\n",
       "      <td>NaN</td>\n",
       "    </tr>\n",
       "    <tr>\n",
       "      <th>3</th>\n",
       "      <td>Hong Kong</td>\n",
       "      <td>159247</td>\n",
       "      <td>45095</td>\n",
       "      <td>NaN</td>\n",
       "      <td>NaN</td>\n",
       "      <td>NaN</td>\n",
       "      <td>NaN</td>\n",
       "    </tr>\n",
       "    <tr>\n",
       "      <th>4</th>\n",
       "      <td>South Korea</td>\n",
       "      <td>120472</td>\n",
       "      <td>34961</td>\n",
       "      <td>NaN</td>\n",
       "      <td>NaN</td>\n",
       "      <td>NaN</td>\n",
       "      <td>NaN</td>\n",
       "    </tr>\n",
       "    <tr>\n",
       "      <th>5</th>\n",
       "      <td>Indonesia</td>\n",
       "      <td>41044</td>\n",
       "      <td>9797</td>\n",
       "      <td>NaN</td>\n",
       "      <td>NaN</td>\n",
       "      <td>NaN</td>\n",
       "      <td>NaN</td>\n",
       "    </tr>\n",
       "    <tr>\n",
       "      <th>6</th>\n",
       "      <td>Argentina</td>\n",
       "      <td>53821</td>\n",
       "      <td>20074</td>\n",
       "      <td>NaN</td>\n",
       "      <td>NaN</td>\n",
       "      <td>NaN</td>\n",
       "      <td>NaN</td>\n",
       "    </tr>\n",
       "    <tr>\n",
       "      <th>7</th>\n",
       "      <td>Mexico</td>\n",
       "      <td>45039</td>\n",
       "      <td>15521</td>\n",
       "      <td>NaN</td>\n",
       "      <td>NaN</td>\n",
       "      <td>NaN</td>\n",
       "      <td>NaN</td>\n",
       "    </tr>\n",
       "    <tr>\n",
       "      <th>8</th>\n",
       "      <td>Kenya</td>\n",
       "      <td>4686</td>\n",
       "      <td>2971</td>\n",
       "      <td>NaN</td>\n",
       "      <td>NaN</td>\n",
       "      <td>NaN</td>\n",
       "      <td>NaN</td>\n",
       "    </tr>\n",
       "    <tr>\n",
       "      <th>9</th>\n",
       "      <td>Ethiopia</td>\n",
       "      <td>3227</td>\n",
       "      <td>1505</td>\n",
       "      <td>NaN</td>\n",
       "      <td>NaN</td>\n",
       "      <td>NaN</td>\n",
       "      <td>NaN</td>\n",
       "    </tr>\n",
       "  </tbody>\n",
       "</table>\n",
       "</div>"
      ],
      "text/plain": [
       "      Country(0)  Capital per person(1)  Per capita GDP(2)  \\\n",
       "0  United States                 141841              51895   \n",
       "1         Canada                 128667              43367   \n",
       "2         France                 162207              37360   \n",
       "3      Hong Kong                 159247              45095   \n",
       "4    South Korea                 120472              34961   \n",
       "5      Indonesia                  41044               9797   \n",
       "6      Argentina                  53821              20074   \n",
       "7         Mexico                  45039              15521   \n",
       "8          Kenya                   4686               2971   \n",
       "9       Ethiopia                   3227               1505   \n",
       "\n",
       "  Capital per person(3) Per capita GDP(4) Predicted y*(5) implied TFP(6)  \n",
       "0                   NaN               NaN             NaN            NaN  \n",
       "1                   NaN               NaN             NaN            NaN  \n",
       "2                   NaN               NaN             NaN            NaN  \n",
       "3                   NaN               NaN             NaN            NaN  \n",
       "4                   NaN               NaN             NaN            NaN  \n",
       "5                   NaN               NaN             NaN            NaN  \n",
       "6                   NaN               NaN             NaN            NaN  \n",
       "7                   NaN               NaN             NaN            NaN  \n",
       "8                   NaN               NaN             NaN            NaN  \n",
       "9                   NaN               NaN             NaN            NaN  "
      ]
     },
     "execution_count": 39,
     "metadata": {},
     "output_type": "execute_result"
    }
   ],
   "source": [
    "# Run this code to create the data frame! You do not need to do anything in this cell, this is just provided as your starting point. \n",
    "\n",
    "# Setting up the column data \n",
    "countries = ['United States', 'Canada', 'France', 'Hong Kong', 'South Korea', 'Indonesia', 'Argentina', 'Mexico', 'Kenya', 'Ethiopia']\n",
    "capital_per_person = [141841, 128667, 162207, 159247, 120472, 41044, 53821, 45039, 4686, 3227]\n",
    "per_capita_GDP = [51895, 43367, 37360, 45095, 34961, 9797, 20074, 15521, 2971, 1505]\n",
    "capital_per_person2 = [1.0, 'NaN', 'NaN', 'NaN', 'NaN', 'NaN', 'NaN', 'NaN', 'NaN', 'NaN']\n",
    "per_capita_GDP2 = [1.0, 'NaN', 'NaN', 'NaN', 'NaN', 'NaN', 'NaN', 'NaN', 'NaN', 'NaN']\n",
    "\n",
    "# Construct the data frame\n",
    "df = pd.DataFrame({'Country(0)':countries, \n",
    "                   'Capital per person(1)':capital_per_person, \n",
    "                  'Per capita GDP(2)':per_capita_GDP, \n",
    "                  'Capital per person 2':capital_per_person2, \n",
    "                  'Per capita GDP 2':per_capita_GDP2},\n",
    "                  columns=['Country(0)', 'Capital per person(1)', \n",
    "                           'Per capita GDP(2)', \n",
    "                           'Capital per person(3)', \n",
    "                           'Per capita GDP(4)', \n",
    "                           'Predicted y*(5)', \n",
    "                           'implied TFP(6)'])\n",
    "\n",
    "# Show the data frame\n",
    "df"
   ]
  },
  {
   "cell_type": "markdown",
   "metadata": {},
   "source": [
    "**(a)** Given the values in columns 1 and 2 which are in U.S. dollars, fill in columns 3 and 4 which are relative to U.S. values (U.S. = 1). That is, compute per capita GDP and capital per person relative to the U.S. values taking the ratio of each country's value (either Per capita GDP or Capital per Person) to the corresponding U.S. value. "
   ]
  },
  {
   "cell_type": "code",
   "execution_count": null,
   "metadata": {},
   "outputs": [],
   "source": [
    "# Hints: you can change an entire column in a data frame with df['column name'] = x where x is an array. \n",
    " \n",
    "# Useful Commands\n",
    "# np.zeros(9) - creates an array of length 9 with zeros in each slot of memory\n",
    "# np.append(my_array, x) - appends x onto an array named my_array\n",
    "\n",
    "\n",
    "# Below is some code and comments to get you started\n",
    "###########################################################################################\n",
    "# Column 3\n",
    "###########################################################################################\n",
    "USA_capital_pp = 141841\n",
    "cap_per_person = np.array([128667, 162207, 159247, 120472, 41044, 53821, 45039, 4686, 3227])\n",
    "\n",
    "# Create an array to loop through that will be used to store the calculations for capital per person\n",
    "capital_per_person2 = [1]\n",
    "zeros = np.zeros(9)\n",
    "capital_per_person2 = np.append(capital_per_person2, zeros) # You now have an array of legth 10, with the first entry, \n",
    "                                                            # capital_per_person[0] complete since capital_per_person[0] is 1\n",
    "\n",
    "# Make a loop that uses columns 1 and 2 to calculate capital per person\n",
    "for i in range(0, 9):    \n",
    "    capital_per_person2[i+1] = #TO DO: use columns 1 and the USA_capital_pp variable to calulate column 3\n",
    "\n",
    "\n",
    "# TO DO: Now replace the column in data frame 3 with capital_per_person2. You will use a similar codeing pattern for part b\n",
    "\n",
    "###########################################################################################\n",
    "# Column 4\n",
    "# Use a similar approach to what you did in column 3 to finish column 4\n",
    "###########################################################################################\n",
    "\n",
    "\n",
    "# TO DO: Show the new df which will now include the updated columns 3 and 4\n",
    "\n"
   ]
  },
  {
   "cell_type": "markdown",
   "metadata": {},
   "source": [
    "**(b)** In column 5, use the production model (with $\\alpha=1/3$) to compute predicted per capita GDP for each country relative to the United States. Assume $\\bar{A}=1$, which implies there are no TFP differences across countries. This implies the production function is $y^\\ast = \n",
    "\\bar{A}K^{1/3}$ and $K$ will be the capital per person for each country. Again use a ratio of capital per person for each contry relative to the U.S. capital per person."
   ]
  },
  {
   "cell_type": "code",
   "execution_count": null,
   "metadata": {},
   "outputs": [],
   "source": []
  },
  {
   "cell_type": "markdown",
   "metadata": {},
   "source": [
    "**(c)** In column 6, compute the level of TFP for each country that is needed  to the model to the data using the following formula. \n",
    "\n",
    "$$\n",
    "TFP = \\frac{ y^\\ast \\text{ U.S.}}{\\frac{k^{1/3} \\text{for a given country}}{k^{1/3} \\text{ for U.S.}}}\n",
    "$$"
   ]
  },
  {
   "cell_type": "code",
   "execution_count": null,
   "metadata": {},
   "outputs": [],
   "source": []
  },
  {
   "cell_type": "markdown",
   "metadata": {},
   "source": [
    "**(d)** Comment on the general results you find."
   ]
  },
  {
   "cell_type": "markdown",
   "metadata": {},
   "source": []
  },
  {
   "cell_type": "markdown",
   "metadata": {},
   "source": [
    "## Q6) The labor share and Cobb-Douglas production (a FRED question)\n",
    "\n",
    "Download the FRED `ch04_labor_compensation.csv` file (see 6(a) code comments) for the share of income paid to labor for the nonfarm business sector of the U.S. economy, back to 1950. (For an introduction to FRED, see the case study \"The FRED database\" in Chapter 2 on page 34)."
   ]
  },
  {
   "cell_type": "markdown",
   "metadata": {},
   "source": [
    "**(a)** Create a time series plot of the data you downloaded."
   ]
  },
  {
   "cell_type": "code",
   "execution_count": 1,
   "metadata": {},
   "outputs": [],
   "source": [
    "# Use what you learned in the Intermediate Python for Data Science Course in Data Camp (or consider looking at code \n",
    "# given in past assignments) to import the data using the Pandas library. Note when importing the .csv file, you need to \n",
    "# be able to tell the computer where to the data are located so it can read them in. The data are located in the link. \n",
    "# Instead of putting a file path to your computer for your read csv function, you will simply substitute the link below into \n",
    "# the import python function and proceed like a regular data import your learned in Data Camp. For the plotting consider using the pandas\n",
    "# function df.plot where df is the name of your data frame.\n",
    "\n",
    "# Link: https://raw.githubusercontent.com/dylanjm/econ_381_development/master/data/ch04_labor_compensation.csv\n",
    "\n"
   ]
  },
  {
   "cell_type": "markdown",
   "metadata": {},
   "source": [
    "**(b)** The graph most likely shows an index (e.g., normalized so the value in some year is 100) rather than the share itself. Assuming the labor averaged $2/3$, approximately what value is the labor share for your most recent data point? **Python hint:** you will need to access the last data point in the second column. If my data frame was named df, then I could access the first item in the second coumn by using the code df[0, 1]. The numbers correspond to the row first, and then the column number."
   ]
  },
  {
   "cell_type": "code",
   "execution_count": null,
   "metadata": {},
   "outputs": [],
   "source": []
  },
  {
   "cell_type": "markdown",
   "metadata": {},
   "source": [
    "**(c)** What does this graph suggest about the validity of our assumptions that the production function is Cobb-Douglas?"
   ]
  },
  {
   "cell_type": "markdown",
   "metadata": {},
   "source": []
  }
 ],
 "metadata": {
  "kernelspec": {
   "display_name": "Python 3",
   "language": "python",
   "name": "python3"
  },
  "language_info": {
   "codemirror_mode": {
    "name": "ipython",
    "version": 3
   },
   "file_extension": ".py",
   "mimetype": "text/x-python",
   "name": "python",
   "nbconvert_exporter": "python",
   "pygments_lexer": "ipython3",
   "version": "3.6.4"
  }
 },
 "nbformat": 4,
 "nbformat_minor": 2
}
